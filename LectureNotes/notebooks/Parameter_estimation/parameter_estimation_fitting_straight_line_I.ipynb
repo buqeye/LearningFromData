{
 "cells": [
  {
   "cell_type": "markdown",
   "metadata": {
    "slideshow": {
     "slide_type": "slide"
    }
   },
   "source": [
    "# Parameter estimation example: fitting a straight line \n",
    "\n",
    "Adapted from BayesianAstronomy.\n",
    "$% Some LaTeX definitions we'll use.\n",
    "\\newcommand{\\pr}{{p}}\n",
    "$"
   ]
  },
  {
   "cell_type": "code",
   "execution_count": null,
   "metadata": {
    "slideshow": {
     "slide_type": "fragment"
    }
   },
   "outputs": [],
   "source": [
    "%matplotlib inline\n",
    "import matplotlib.pyplot as plt\n",
    "import numpy as np\n",
    "import seaborn; seaborn.set('talk') # for plot formatting"
   ]
  },
  {
   "cell_type": "markdown",
   "metadata": {
    "slideshow": {
     "slide_type": "slide"
    }
   },
   "source": [
    "## The Data\n",
    "\n",
    "Let's start by creating some data that we will fit with a straight line.  We'll start with a constant standard deviation of $\\sigma$ on the $y$ values and no error on $x$."
   ]
  },
  {
   "cell_type": "code",
   "execution_count": null,
   "metadata": {
    "slideshow": {
     "slide_type": "fragment"
    }
   },
   "outputs": [],
   "source": [
    "def make_data(intercept, slope, N=20, dy=5, rseed=10):\n",
    "    \"\"\"Given a straight line defined by intercept and slope:\n",
    "          y = slope * x + intercept\n",
    "       generate N points randomly spaced points from x=0 to x=100\n",
    "       with Gaussian (i.e., normal) error with mean zero and standard\n",
    "       deviation dy.\n",
    "       \n",
    "       Return the x and y arrays and an array of standard deviations.\n",
    "    \"\"\"\n",
    "    rand = np.random.RandomState(rseed) \n",
    "    x = 100 * rand.rand(N)  # choose the x values randomly in [0,100]\n",
    "    y = intercept + slope * x  # This is the y value without noise\n",
    "    y += dy * rand.randn(N)    # Add in Gaussian noise\n",
    "    return x, y, dy * np.ones_like(x)  # return coordinates and error bars\n",
    "\n",
    "intercept = 25.   # true intercept (called b elsewhere)\n",
    "slope = 0.5       # true slope (called m elsewhere)\n",
    "theta_true = [intercept, slope]  # put parameters in a true theta vector\n",
    "x, y, dy = make_data(*theta_true, rseed=42)\n",
    "\n",
    "fig, ax = plt.subplots(figsize=(8,8))\n",
    "ax.errorbar(x, y, dy, fmt='o')\n",
    "ax.set_xlabel(r'$x$')\n",
    "ax.set_ylabel(r'$y$')\n",
    "plot_title = rf'intercept $= {intercept:.1f}$, slope $= {slope:.1f}$, ' \\\n",
    "              + rf' $\\sigma = {dy[0]:.1f}$'\n",
    "ax.set_title(plot_title)\n",
    "fig.tight_layout()"
   ]
  },
  {
   "cell_type": "markdown",
   "metadata": {
    "slideshow": {
     "slide_type": "slide"
    }
   },
   "source": [
    "## The Model\n",
    "\n",
    "Next we need to specify a theoretical model. We're fitting a straight line to data, so we'll need a slope and an intercept; i.e.\n",
    "\n",
    "$$\n",
    "y_{\\textrm{th}}(x) = mx + b\n",
    "$$\n",
    "\n",
    "where our parameter vector will be \n",
    "\n",
    "$$\n",
    "\\theta = [b, m]\n",
    "$$\n",
    "\n",
    "But this is only half the picture: what we mean by a \"model\" in a Bayesian sense is not only this expected value $y_{\\textrm{th}}(x;\\theta)$, but a **probability distribution** for our data.\n",
    "That is, we need an expression to compute the likelihood $\\pr(D\\mid\\theta, I)$ for our data as a function of the parameters $\\theta$ ($I$ stands for all other information).\n",
    "Here $D$ is the set of all $(x,y)$ pairs that we know about (or measure).\n",
    "\n",
    "\\[Note: At this stage we are (implicitly) assuming that our theoretical model is perfect.  But it is not!  We'll come back eventually to talk about adding a theory error $\\delta y_{\\textrm{th}}$.\\]"
   ]
  },
  {
   "cell_type": "markdown",
   "metadata": {
    "slideshow": {
     "slide_type": "subslide"
    }
   },
   "source": [
    "We are given data with simple error bars, which imply that the probability for any *single* data point (labeled by $i$) is a normal distribution with mean given by the true value. That is,\n",
    "\n",
    "$$\n",
    "y_i \\sim \\mathcal{N}(y_{\\textrm{th}}(x_i;\\theta), \\varepsilon_i^2)\n",
    "$$\n",
    "\n",
    "or, in other words,\n",
    "\n",
    "$$\n",
    "\\pr(y_i\\mid x_i,\\theta,  I) = \\frac{1}{\\sqrt{2\\pi\\varepsilon_i^2}} \\exp\\left(\\frac{-\\left[y_i - y_{\\textrm{th}}(x_i;\\theta)\\right]^2}{2\\varepsilon_i^2}\\right)\n",
    "$$\n",
    "\n",
    "where $\\varepsilon_i$ are the (known) measurement errors indicated by the error bars."
   ]
  },
  {
   "cell_type": "markdown",
   "metadata": {
    "slideshow": {
     "slide_type": "subslide"
    }
   },
   "source": [
    "Assuming all the points are independent, we can find the full likelihood by multiplying the individual likelihoods together:\n",
    "\n",
    "$$\n",
    "\\pr(D\\mid\\theta, I) = \\prod_{i=1}^N \\pr(y_i\\mid x_i,\\theta, I)\n",
    "$$\n",
    "\n",
    "For convenience (and also for numerical accuracy) this is often expressed in terms of the log-likelihood:\n",
    "\n",
    "$$\n",
    "\\log \\pr(D\\mid\\theta, I) = -\\frac{1}{2}\\sum_{i=1}^N\\left(\\log(2\\pi\\varepsilon_i^2) + \\frac{\\left[y_i - y_M(x_i;\\theta)\\right]^2}{\\varepsilon_i^2}\\right)\n",
    "$$"
   ]
  },
  {
   "cell_type": "markdown",
   "metadata": {
    "slideshow": {
     "slide_type": "slide"
    }
   },
   "source": [
    "###  Exercises\n",
    "\n",
    "1. Write a Python function which computes the log-likelihood given a parameter vector $\\theta$, an array of errors $\\varepsilon$, and an array of $x$ and $y$ values\n",
    "\n",
    "1. Use tools in [``scipy.optimize``](http://docs.scipy.org/doc/scipy/reference/optimize.html) to maximize this likelihood (i.e. minimize the negative log-likelihood). How close is this result to the input ``theta_true`` above?  Is that expected or unexpected?\n",
    "\n",
    "1. Change the random number seed to get different results and comment on how the maximum likelihood results fluctuate? How are size of the fluctuations related to the number of data points $N$ and the data error standard deviation $dy$?  (Try changing them!)"
   ]
  },
  {
   "cell_type": "code",
   "execution_count": null,
   "metadata": {
    "slideshow": {
     "slide_type": "fragment"
    }
   },
   "outputs": [],
   "source": [
    "# Either write your code here or study the sample solution that follows."
   ]
  },
  {
   "cell_type": "code",
   "execution_count": null,
   "metadata": {},
   "outputs": [],
   "source": []
  },
  {
   "cell_type": "code",
   "execution_count": null,
   "metadata": {},
   "outputs": [],
   "source": []
  },
  {
   "cell_type": "markdown",
   "metadata": {
    "slideshow": {
     "slide_type": "slide"
    }
   },
   "source": [
    "### One solution (how could these functions be improved?)"
   ]
  },
  {
   "cell_type": "code",
   "execution_count": null,
   "metadata": {
    "slideshow": {
     "slide_type": "fragment"
    }
   },
   "outputs": [],
   "source": [
    "def log_likelihood(theta, x, y, dy):\n",
    "    \"\"\" \n",
    "    Return the log of the likelihood function, given a 2D array theta of\n",
    "    parameters (b, m) and the x, y coordinates with standard deviation dy.\n",
    "    \"\"\"\n",
    "    b, m = theta\n",
    "    y_model = b + m * x\n",
    "    return -0.5 * np.sum(np.log(2 * np.pi * dy**2) + (y - y_model)**2 / dy**2)"
   ]
  },
  {
   "cell_type": "code",
   "execution_count": null,
   "metadata": {
    "slideshow": {
     "slide_type": "fragment"
    }
   },
   "outputs": [],
   "source": [
    "from scipy import optimize\n",
    "\n",
    "def minfunc(theta, x, y, dy):\n",
    "    \"\"\"\n",
    "    Function to be minimized: minus the logarithm of the likelihood.\n",
    "    \"\"\"\n",
    "    return -log_likelihood(theta, x, y, dy)\n",
    "\n",
    "\n",
    "\n",
    "result = optimize.minimize(minfunc, x0=[0, 0], args=(x, y, dy))\n",
    "\n",
    "# try without np.printoptions to see what you get\n",
    "with np.printoptions(precision=3, suppress=True):\n",
    "    print(f'result: {result.x}')\n",
    "    print(f'input:  {theta_true}')"
   ]
  },
  {
   "cell_type": "markdown",
   "metadata": {
    "slideshow": {
     "slide_type": "slide"
    }
   },
   "source": [
    "## The Prior\n",
    "\n",
    "We have computed the likelihood, now we need to think about the prior $\\pr(\\theta\\mid I)$.\n",
    "\n",
    "*So... what can we actually say about the slope and intercept before we fit our data?*\n",
    "\n",
    "There are several approaches to choosing priors that you'll come across in practice.  Here we will just introduce some vocabulary and definitions and come back to details and options later."
   ]
  },
  {
   "cell_type": "markdown",
   "metadata": {
    "slideshow": {
     "slide_type": "subslide"
    }
   },
   "source": [
    "1. **Conjugate priors.**\n",
    "A [conjugate prior](https://en.wikipedia.org/wiki/Conjugate_prior) is a prior which, due to its mathematical relation to the likelihood, makes the result analytically computable.\n",
    "\n",
    "2. **Empirical priors.** \n",
    "Empirical Priors are priors which are actually posteriors from previous studies of the same phenomenon. For example, it's common in Supernova cosmology studies to use the WMAP results as a prior: that is, to actually plug-in a *real result* and use the new data to improve on that. This situation is where Bayesian approaches really shine.  For the linear fit, you might imagine that the $x, y$ data is a more accurate version of a previous experiment, where we've found that the intercept is $\\theta_0 = 50 \\pm 30$ and the slope is $\\theta_1 = 1.0 \\pm 0.5$.\n",
    "In this case, we'd encode this prior knowledge in the prior distribution itself.\n",
    "\n",
    "3. **Flat priors.**\n",
    "If you don't have an empirical prior, you might be tempted to simply use a *flat prior* – i.e. a prior that is constant between two reasonable limits (i.e. equal probability slopes from -1000 to +1000).  The problem is that flat priors are not always non-informative! For example, a flat prior on the slope will effectively give a higher weight to larger slopes.\n",
    "\n",
    "4. **Non-informative priors.**\n",
    "What we *really* want in cases where no empirical prior is available is a **non-informative prior**. Among other things, such a prior should not depend on the units of the data.\n",
    "Perhaps the most principled approach to choosing non-informative priors was the *principle of maximum entropy* advocated by Jaynes ([book](http://omega.albany.edu:8008/JaynesBook.html)).\n",
    "Similar in spirit is the commonly-used [Jeffreys Prior](https://en.wikipedia.org/wiki/Jeffreys_prior), which in many cases of interest amounts to a \"scale invariant\" prior: a flat prior on the logarithm of the parameter.\n",
    "In the case of the linear slope, we often want a prior which does not artificially over-weight large slopes: there are a couple possible approaches to this (see http://arxiv.org/abs/1411.5018 for some discussion). For our situation, we might use a flat prior on the angle the line makes with the x-axis, which gives\n",
    "\n",
    "$$\n",
    "\\pr(m) \\propto (1 + m^2)^{-3/2}\n",
    "$$\n",
    "\n",
    "For lack of a better term, we will call this a \"symmetric prior\" on the slope (because it's the same whether we're fitting $y = mx + b$ or $x = m^\\prime y + b^\\prime$, which is the requirement leading to the functional form given).\n",
    "\n",
    "5. **Weakly informative priors.**\n",
    "See [Prior Choice Recommendations](https://github.com/stan-dev/stan/wiki/Prior-Choice-Recommendations) at the Stan github repository for a hierarchy of increasingly informative priors.\n"
   ]
  },
  {
   "cell_type": "code",
   "execution_count": null,
   "metadata": {
    "slideshow": {
     "slide_type": "subslide"
    }
   },
   "outputs": [],
   "source": [
    "# see what happens if we sample from a uniform prior on the slope m\n",
    "x_pts = np.linspace(-1, 1, 11)\n",
    "fig = plt.figure(figsize=(8,8))\n",
    "ax = fig.add_subplot(1, 1, 1)\n",
    "ax.axis([-1., 1., -1., 1.])\n",
    "for slope in np.linspace(0, 20, 100):   # 20 evenly spaced slopes m\n",
    "    ax.plot(x_pts, slope * x_pts, '-k', linewidth=1)\n",
    "ax.set_xlabel(r'$x$')    \n",
    "ax.set_ylabel(r'$y$')    \n",
    "ax.set_title(r'Uniform sampling of slopes $m$ in $y= mx + b$')\n",
    "ax.set_aspect(1)\n"
   ]
  },
  {
   "cell_type": "markdown",
   "metadata": {
    "slideshow": {
     "slide_type": "slide"
    }
   },
   "source": [
    "### Implementation\n",
    "\n",
    "Let's define two python functions to compute the options for our prior: we'll use both a (log) flat prior and a (log) symmetric prior.\n",
    "In general, we need not worry about the normalization of the prior or the likelihood, which makes our lives easier:"
   ]
  },
  {
   "cell_type": "code",
   "execution_count": null,
   "metadata": {
    "slideshow": {
     "slide_type": "fragment"
    }
   },
   "outputs": [],
   "source": [
    "def log_flat_prior(theta):\n",
    "    \"\"\"Flat prior on value of slope m\"\"\"\n",
    "    if np.all(np.abs(theta) < 1000):\n",
    "        return 0 # log(1)\n",
    "    else:\n",
    "        return -np.inf  # log(0)\n",
    "    \n",
    "def log_symmetric_prior(theta):\n",
    "    \"\"\"Prior p(m) proportional to (1 + m^2)^{-3/2}\"\"\"\n",
    "    if np.abs(theta[0]) < 1000:\n",
    "        return -1.5 * np.log(1 + theta[1]**2)\n",
    "    else:\n",
    "        return -np.inf  # log(0)"
   ]
  },
  {
   "cell_type": "markdown",
   "metadata": {
    "slideshow": {
     "slide_type": "slide"
    }
   },
   "source": [
    "With these defined, we now have what we need to compute the log posterior as a function of the model parameters.\n",
    "*You might be tempted to maximize this posterior in the same way that we did with the likelihood above, but this is not a Bayesian result!* The Bayesian result is a (possibly marginalized) posterior probability for our parameters.\n",
    "The mode of a probability distribution is perhaps slightly informative, but it is in no way a Bayesian result.\n",
    "\n",
    "Next you will plot the posterior probability as a function of the slope and intercept."
   ]
  },
  {
   "cell_type": "markdown",
   "metadata": {
    "slideshow": {
     "slide_type": "slide"
    }
   },
   "source": [
    "## Things to do:\n",
    "\n",
    "1. Plot the posterior probability distribution for the slope and intercept, once for each prior. You might use ``plt.contourf()`` or ``plt.pcolor()``. How different are the two distributions?\n",
    "\n",
    "1. Modify the dataset – how do your conclusions about the sensitivity to choice of prior change if you have very few data points or very large errors?\n",
    "\n",
    "1. If you finish this quickly, try adding 1-sigma and 2-sigma contours to your plot, keeping in mind that the probabilities are not normalized. You can add them to your plot with ``plt.contour()``.  Note: this is non-trivial, but there is a short solution possible."
   ]
  },
  {
   "cell_type": "code",
   "execution_count": null,
   "metadata": {
    "slideshow": {
     "slide_type": "fragment"
    }
   },
   "outputs": [],
   "source": [
    "# Either write your code here or study the sample solution that follows."
   ]
  },
  {
   "cell_type": "code",
   "execution_count": null,
   "metadata": {},
   "outputs": [],
   "source": []
  },
  {
   "cell_type": "code",
   "execution_count": null,
   "metadata": {},
   "outputs": [],
   "source": []
  },
  {
   "cell_type": "code",
   "execution_count": null,
   "metadata": {},
   "outputs": [],
   "source": []
  },
  {
   "cell_type": "markdown",
   "metadata": {
    "collapsed": true,
    "jupyter": {
     "outputs_hidden": true
    },
    "slideshow": {
     "slide_type": "slide"
    }
   },
   "source": [
    "### One solution (how could this solution be improved?)"
   ]
  },
  {
   "cell_type": "markdown",
   "metadata": {
    "slideshow": {
     "slide_type": "fragment"
    }
   },
   "source": [
    "We'll start by defining a function which takes a two-dimensional grid of likelihoods and returns 1, 2, and 3-sigma contours. This acts by sorting and normalizing the values and then finding the locations of the  0.682 ,  0.952 , and  0.9972  cutoffs:"
   ]
  },
  {
   "cell_type": "code",
   "execution_count": null,
   "metadata": {
    "slideshow": {
     "slide_type": "fragment"
    }
   },
   "outputs": [],
   "source": [
    "def contour_levels(grid):\n",
    "    \"\"\"Compute 1, 2, 3-sigma contour levels for a gridded 2D posterior\"\"\"\n",
    "    sorted_ = np.sort(grid.ravel())[::-1]\n",
    "    pct = np.cumsum(sorted_) / np.sum(sorted_)\n",
    "    cutoffs = np.searchsorted(pct, np.array([0.68, 0.95, 0.997])**2)\n",
    "    return np.sort(sorted_[cutoffs])"
   ]
  },
  {
   "cell_type": "markdown",
   "metadata": {
    "slideshow": {
     "slide_type": "subslide"
    }
   },
   "source": [
    "Now we define a function to compute and plot the results of the Bayesian analysis:"
   ]
  },
  {
   "cell_type": "code",
   "execution_count": null,
   "metadata": {
    "slideshow": {
     "slide_type": "fragment"
    }
   },
   "outputs": [],
   "source": [
    "def plot_results(x, y, dy,\n",
    "                 slope_limits=(0.3, 0.7),\n",
    "                 intercept_limits=(15, 35)):\n",
    "    # 1. Evaluate the log probability on the grid (once for each prior)\n",
    "    slope_range = np.linspace(*slope_limits)\n",
    "    intercept_range = np.linspace(*intercept_limits)\n",
    "\n",
    "    log_P1 = [[log_likelihood([b, m], x, y, dy) + log_flat_prior([b, m])\n",
    "               for m in slope_range] for b in intercept_range]\n",
    "    log_P2 = [[log_likelihood([b, m], x, y, dy) + log_symmetric_prior([b, m]) \n",
    "               for m in slope_range] for b in intercept_range]\n",
    "\n",
    "    # For convenience, we normalize the pdf such that the maximum is 1\n",
    "    P1 = np.exp(log_P1 - np.max(log_P1))\n",
    "    P2 = np.exp(log_P2 - np.max(log_P2))\n",
    "\n",
    "    # 2. Create two subplots and plot contours showing the results\n",
    "    fig, ax = plt.subplots(1, 2, figsize=(16, 6),\n",
    "                           sharex=True, sharey=True)\n",
    "    \n",
    "    ax[0].contourf(slope_range, intercept_range, P1, 100, cmap='Blues')\n",
    "    ax[0].contour(slope_range, intercept_range, P1, contour_levels(P1), \n",
    "                  colors='black')\n",
    "    ax[0].set_title('Flat Prior')\n",
    "\n",
    "    ax[1].contourf(slope_range, intercept_range, P2, 100, cmap='Blues')\n",
    "    ax[1].contour(slope_range, intercept_range, P2, contour_levels(P2), \n",
    "                  colors='black')\n",
    "    ax[1].set_title('Symmetric Prior')\n",
    "\n",
    "    # 3. Add grids and set axis labels\n",
    "    for axi in ax:\n",
    "        axi.grid('on', linestyle=':', color='gray', alpha=0.5)\n",
    "        axi.set_axisbelow(False)\n",
    "        axi.set_xlabel('slope')\n",
    "        axi.set_ylabel('intercept')"
   ]
  },
  {
   "cell_type": "code",
   "execution_count": null,
   "metadata": {
    "slideshow": {
     "slide_type": "subslide"
    }
   },
   "outputs": [],
   "source": [
    "plot_results(x, y, dy)"
   ]
  },
  {
   "cell_type": "markdown",
   "metadata": {
    "slideshow": {
     "slide_type": "fragment"
    }
   },
   "source": [
    "*What do you conclude about how the form of the prior affects the final posterior in this case?*\n",
    "\n",
    "A general observation that often ends up being the case: for all the worrying about the effect of the prior, when you have enough data to constrain your model well, the prior has very little effect."
   ]
  },
  {
   "cell_type": "markdown",
   "metadata": {
    "slideshow": {
     "slide_type": "subslide"
    }
   },
   "source": [
    "Let's use some different data and see what happens:"
   ]
  },
  {
   "cell_type": "code",
   "execution_count": null,
   "metadata": {
    "slideshow": {
     "slide_type": "fragment"
    }
   },
   "outputs": [],
   "source": [
    "x2, y2, dy2 = make_data(*theta_true, N=3, dy=40, rseed=80)\n",
    "plt.errorbar(x2, y2, dy2, fmt='o');"
   ]
  },
  {
   "cell_type": "code",
   "execution_count": null,
   "metadata": {
    "slideshow": {
     "slide_type": "subslide"
    }
   },
   "outputs": [],
   "source": [
    "plot_results(x2, y2, dy2,\n",
    "             slope_limits=(-2, 5),\n",
    "             intercept_limits=(-300, 200))"
   ]
  },
  {
   "cell_type": "markdown",
   "metadata": {
    "slideshow": {
     "slide_type": "fragment"
    }
   },
   "source": [
    "*Why in this case does the form of the prior have a clear effect?*\n",
    "\n",
    "\n",
    "This encodes exactly what you would scientifically expect: if you don't have very good data, it is unlikely to change your views of the world (which are of course encoded in the prior)."
   ]
  }
 ],
 "metadata": {
  "kernelspec": {
   "display_name": "Python 3 (ipykernel)",
   "language": "python",
   "name": "python3"
  },
  "language_info": {
   "codemirror_mode": {
    "name": "ipython",
    "version": 3
   },
   "file_extension": ".py",
   "mimetype": "text/x-python",
   "name": "python",
   "nbconvert_exporter": "python",
   "pygments_lexer": "ipython3",
   "version": "3.10.13"
  }
 },
 "nbformat": 4,
 "nbformat_minor": 4
}
