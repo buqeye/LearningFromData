{
 "cells": [
  {
   "cell_type": "markdown",
   "metadata": {},
   "source": [
    "# EVC for bound-state square well compared to orthogonal"
   ]
  },
  {
   "cell_type": "markdown",
   "metadata": {},
   "source": [
    "Here we do tests of eigenvector continuation (EVC) for the bound states of a square well.\n",
    "\n",
    "The particular goal here is to compare an orthogonal basis of the same size to an EVC basis."
   ]
  },
  {
   "cell_type": "markdown",
   "metadata": {},
   "source": [
    "In this notebook, we compute the eigenvalues $E_n$ of the potential with $V = -V_0$ for $r<R$ and $V=0$ for $r>R$.  The derivation can be found in any graduate and many undergraduate quantum mechanics texts."
   ]
  },
  {
   "cell_type": "markdown",
   "metadata": {},
   "source": [
    "## $\\ell = 0$"
   ]
  },
  {
   "cell_type": "markdown",
   "metadata": {},
   "source": [
    "The $\\ell=0$ case is quite simple.  Inside the well, the radial function has the form $u(r) = A \\sin(k r)$, with $k$ given by \n",
    "\n",
    "$$\n",
    "k = \\sqrt{2 \\mu (V_0 + E_n)}/\\hbar \n",
    "$$\n",
    "\n",
    "while outside the well the radial function has the form $u(r) = B e^{-\\kappa r}$, with $\\kappa$ given by\n",
    "\n",
    "$$\n",
    "\\kappa = \\sqrt{-2 \\mu E_n} \\hbar\n",
    "$$\n",
    "\n",
    "In these definitions, $V_0 > 0$ and $E_n < 0$, $\\mu$ is the reduced mass and $\\hbar$ is Planck's constant divided by $2\\pi$.   The eigenvalue condition is found by matching the radial wave function and its derivative (or, equivalently, its logarithmic derivative) at $r = R$.  This implies that the function $f(E_n)$:\n",
    "\n",
    "$$\n",
    "f(E_n) = \\kappa/k + 1/\\tan(k R)\n",
    "$$\n",
    "\n",
    "is zero at eigenvalues $E_n$.  We can plot this function to see graphically where the eigenvalues lie and then use routines from `scipy.optimize` to get numerical values."
   ]
  },
  {
   "cell_type": "markdown",
   "metadata": {},
   "source": [
    "## $\\ell > 0$"
   ]
  },
  {
   "cell_type": "markdown",
   "metadata": {},
   "source": [
    "For $\\ell > 0$, the interior solution is a Riccati-Bessel function."
   ]
  },
  {
   "cell_type": "markdown",
   "metadata": {},
   "source": [
    "## General set up"
   ]
  },
  {
   "cell_type": "code",
   "execution_count": 1,
   "metadata": {},
   "outputs": [],
   "source": [
    "%load_ext autoreload\n",
    "%autoreload 2\n",
    "\n",
    "import numpy as np\n",
    "from scipy.integrate import simps, quadrature\n",
    "import matplotlib.pyplot as plt\n",
    "import matplotlib as mpl\n",
    "\n",
    "from scipy.linalg import eig, eigh\n",
    "\n",
    "from integration import Gaussian_quadrature, Gaussian_mesh\n",
    "from square_well import SquareWell, rMeshSW, rGaussSW\n",
    "from evc import SW_matrix_element, SW_matrix_element_simps, SW_matrix_element_gauss\n",
    "from evc import EigenvectorContinuationScattering"
   ]
  },
  {
   "cell_type": "code",
   "execution_count": 2,
   "metadata": {},
   "outputs": [],
   "source": [
    "fig_dir = 'figures_bound_states_ortho/'"
   ]
  },
  {
   "cell_type": "code",
   "execution_count": 3,
   "metadata": {},
   "outputs": [],
   "source": [
    "from graphs import setup_rc_params\n",
    "setup_rc_params(presentation=True)\n",
    "from matplotlib.ticker import (MultipleLocator, FormatStrFormatter,\n",
    "                               AutoMinorLocator)\n",
    "mpl.rcParams['figure.constrained_layout.use'] = False\n"
   ]
  },
  {
   "cell_type": "markdown",
   "metadata": {},
   "source": [
    "## Harmonic oscillator basis functions"
   ]
  },
  {
   "cell_type": "markdown",
   "metadata": {},
   "source": [
    "We'll start `nHO` at 0 and take `Nmax = 2n+l`.  For `l=0`, `Nmax = 0,2,4,6,...`"
   ]
  },
  {
   "cell_type": "code",
   "execution_count": 53,
   "metadata": {},
   "outputs": [],
   "source": [
    "from scipy.special import gamma, factorial, assoc_laguerre\n",
    "\n",
    "def bHO(hbarOmega, mu=1):\n",
    "    # return the HO length scale b given the oscillator\n",
    "    return np.sqrt(1/(mu * hbarOmega))\n",
    "\n",
    "def normHO(nHO, lHO, bHO): \n",
    "    # return the normalization constant for an oscillator with nHO and lHO\n",
    "    return np.sqrt(2 * factorial(nHO) / (bHO * gamma(nHO + lHO + 3/2)))\n",
    "\n",
    "def phiHO(nHO, lHO, bHO, r):\n",
    "    # return the normalized HO wave function at r\n",
    "    q = r / bHO\n",
    "    HO_wf = normHO(nHO, lHO, bHO) * q**(lHO + 1) \\\n",
    "             * assoc_laguerre(q**2, nHO, lHO + 1/2) * np.exp(-q**2 / 2)\n",
    "    return HO_wf"
   ]
  },
  {
   "cell_type": "markdown",
   "metadata": {},
   "source": [
    "Check normalization"
   ]
  },
  {
   "cell_type": "code",
   "execution_count": 54,
   "metadata": {},
   "outputs": [
    {
     "name": "stdout",
     "output_type": "stream",
     "text": [
      "0.7757591265663202\n"
     ]
    }
   ],
   "source": [
    "print(normHO(1,1,1))"
   ]
  },
  {
   "cell_type": "code",
   "execution_count": 55,
   "metadata": {},
   "outputs": [
    {
     "data": {
      "text/plain": [
       "0.7057825422215498"
      ]
     },
     "execution_count": 55,
     "metadata": {},
     "output_type": "execute_result"
    }
   ],
   "source": [
    "phiHO(1,1,1,1)"
   ]
  },
  {
   "cell_type": "code",
   "execution_count": 103,
   "metadata": {},
   "outputs": [
    {
     "name": "stdout",
     "output_type": "stream",
     "text": [
      "1.0000000078175466 1.0000000117261318 1.00000001465743 9.574423227135348e-09\n"
     ]
    }
   ],
   "source": [
    "hbarOmega = 3\n",
    "bHO_a = bHO(hbarOmega)\n",
    "r_test = np.arange(0,10.,.002)\n",
    "phiHO_0 = np.array([phiHO(0,0,bHO_a, r) for r in r_test])\n",
    "phiHO_1 = np.array([phiHO(1,0,bHO_a, r) for r in r_test])\n",
    "phiHO_2 = np.array([phiHO(2,0,bHO_a, r) for r in r_test])\n",
    "\n",
    "norm_0 = simps(x=r_test, y=phiHO_0**2)\n",
    "norm_1 = simps(x=r_test, y=phiHO_1**2)\n",
    "norm_2 = simps(x=r_test, y=phiHO_2**2)\n",
    "orth_02 = simps(x=r_test, y=phiHO_0*phiHO_1)\n",
    "print(norm_0, norm_1, norm_2, orth_02)"
   ]
  },
  {
   "cell_type": "code",
   "execution_count": 104,
   "metadata": {},
   "outputs": [
    {
     "data": {
      "image/png": "[encoded data removed]",
      "text/plain": [
       "<Figure size 600x450 with 1 Axes>"
      ]
     },
     "metadata": {},
     "output_type": "display_data"
    }
   ],
   "source": [
    "# plot the zeros to check.\n",
    "fig = plt.figure(figsize=(4,3))\n",
    "ax = fig.add_subplot()\n",
    "ax.plot(r_test, phiHO_0, color='black')\n",
    "ax.plot(r_test, phiHO_1, color='green')\n",
    "ax.plot(r_test, phiHO_2, color='blue')\n",
    "ax.set_xlim(0, 5)\n",
    "#ax.set_ylim(-10, 10)\n",
    "ax.axhline(0.0, color='gray', alpha=0.5)\n",
    "ax.set_title('Checking HO basis')\n",
    "ax.set_xlabel(r'$r$')\n",
    "ax.set_ylabel(r'$\\phi(r)$')\n",
    "\n",
    "fig.tight_layout()"
   ]
  },
  {
   "cell_type": "code",
   "execution_count": 96,
   "metadata": {},
   "outputs": [],
   "source": [
    "def H_ij_HO(num_terms, V0, hbarOmega, mu=1, R=1):\n",
    "    \"\"\"\n",
    "    Hamiltonian matrix in the HO basis\n",
    "    \"\"\"\n",
    "    bHO_a = bHO(hbarOmega)\n",
    "    lHO = 0\n",
    "    r_mesh = np.arange(0,10.,.002)\n",
    "    num_pts = len(r_mesh)\n",
    "    print(num_pts)\n",
    "\n",
    "    integrand = np.zeros(num_pts)\n",
    "    H_mat = np.zeros((num_terms, num_terms))\n",
    "    for i in range(num_terms):\n",
    "        for j in range(num_terms):\n",
    "            for index, r in enumerate(r_mesh):\n",
    "                phi_j = phiHO(j, lHO, bHO_a, r)\n",
    "                phi_i = phiHO(i, lHO, bHO_a, r)\n",
    "                Vho = 1/2 * mu * hbarOmega**2 * r**2\n",
    "                EHO = hbarOmega * (2*i + lHO + 3/2)\n",
    "                Vsw = np.where(r > R, 0., -V0)\n",
    "                integrand[index] = phi_j * (EHO - Vho + Vsw) * phi_i\n",
    "            H_mat[i,j] = simps(x=r_mesh, y=integrand)\n",
    "\n",
    "    # check for symmetry\n",
    "    if not np.allclose(H_mat, np.asmatrix(H_mat).H):\n",
    "        print('Hamiltonian matrix is not symmetric.')\n",
    "        print('Symmetrizing for now')\n",
    "        H_mat = (H_mat + H_mat.T) / 2.\n",
    "        #raise ValueError('expected symmetric or Hermitian matrix')\n",
    "\n",
    "    # check condition number\n",
    "    H_cond_num = np.linalg.cond(H_mat)\n",
    "    #print(f'condition number = {np.linalg.cond(H_mat):.4e}')\n",
    "\n",
    "    return H_mat        \n"
   ]
  },
  {
   "cell_type": "code",
   "execution_count": 118,
   "metadata": {},
   "outputs": [],
   "source": [
    "def H_ij_HO_acc_integrand(r, i, j, hbarOmega, lHO=0, R=1):\n",
    "    bHO_a = bHO(hbarOmega)\n",
    "    phi_j = phiHO(j, lHO, bHO_a, r)\n",
    "    phi_i = phiHO(i, lHO, bHO_a, r)\n",
    "    Vho = 1/2 * mu * hbarOmega**2 * r**2\n",
    "    EHO = hbarOmega * (2*i + lHO + 3/2)\n",
    "    Vsw = np.where(r > R, 0., -V0)\n",
    "    return phi_j * (EHO - Vho + Vsw) * phi_i\n",
    "    "
   ]
  },
  {
   "cell_type": "code",
   "execution_count": 126,
   "metadata": {},
   "outputs": [],
   "source": [
    "def H_ij_HO_acc(num_terms, V0, hbarOmega, mu=1, R=1):\n",
    "    \"\"\"\n",
    "    Hamiltonian matrix in the HO basis with accurate integration\n",
    "    \"\"\"\n",
    "    bHO_a = bHO(hbarOmega)\n",
    "    lHO = 0\n",
    "    R_max = 20.\n",
    "\n",
    "    H_mat = np.zeros((num_terms, num_terms))\n",
    "    for i in range(num_terms):\n",
    "        for j in range(num_terms):\n",
    "            my_tol = 1.e-10\n",
    "            # using scipy.integrate.quadrature\n",
    "            int_in, err = quadrature(H_ij_HO_acc_integrand, 0, R, \n",
    "                                     args=(i,j,hbarOmega), tol=my_tol, rtol=my_tol)\n",
    "            int_out, err = quadrature(H_ij_HO_acc_integrand, R, R_max, \n",
    "                                     args=(i,j,hbarOmega), tol=my_tol, rtol=my_tol)\n",
    "            H_mat[i,j] = int_in + int_out\n",
    "\n",
    "    # check for symmetry\n",
    "    if not np.allclose(H_mat, np.asmatrix(H_mat).H):\n",
    "        #print('Hamiltonian matrix is not symmetric.')\n",
    "        #print('Symmetrizing for now')\n",
    "        H_mat = (H_mat + H_mat.T) / 2.\n",
    "        #raise ValueError('expected symmetric or Hermitian matrix')\n",
    "\n",
    "    # check condition number\n",
    "    H_cond_num = np.linalg.cond(H_mat)\n",
    "    #print(f'condition number = {np.linalg.cond(H_mat):.4e}')\n",
    "\n",
    "    return H_mat        \n"
   ]
  },
  {
   "cell_type": "code",
   "execution_count": 120,
   "metadata": {},
   "outputs": [
    {
     "name": "stdout",
     "output_type": "stream",
     "text": [
      "5000\n",
      "Hamiltonian matrix is not symmetric.\n",
      "Symmetrizing for now\n",
      "condition number = 1.3317e+01\n",
      "eigenvalue =  -16.313\n"
     ]
    }
   ],
   "source": [
    "V0 = 20.\n",
    "\n",
    "num_terms = 6\n",
    "hbarOmega = 3\n",
    "H_mat_HO = H_ij_HO(num_terms, V0, hbarOmega)\n",
    "eig_vals_HO, eig_vecs_HO = eigh(H_mat_HO)\n",
    "\n",
    "print(f'eigenvalue = {np.min(eig_vals_HO):8.3f}')"
   ]
  },
  {
   "cell_type": "code",
   "execution_count": 114,
   "metadata": {},
   "outputs": [
    {
     "name": "stdout",
     "output_type": "stream",
     "text": [
      "5000\n",
      "condition number = 3.2771e+01\n",
      "eigenvalue =  -6.75740350\n"
     ]
    }
   ],
   "source": [
    "V0 = 10.\n",
    "\n",
    "num_terms = 6\n",
    "hbarOmega = 3\n",
    "H_mat_HO = H_ij_HO_acc(num_terms, V0, hbarOmega)\n",
    "eig_vals_HO, eig_vecs_HO = eigh(H_mat_HO)\n",
    "\n",
    "print(f'eigenvalue = {np.min(eig_vals_HO):12.8f}')"
   ]
  },
  {
   "cell_type": "markdown",
   "metadata": {},
   "source": [
    "## Tests\n",
    "\n",
    "Set the reduced mass and $\\hbar$ to one. Try some different square wells."
   ]
  },
  {
   "cell_type": "markdown",
   "metadata": {},
   "source": [
    "### Check that the transcendental function is correct"
   ]
  },
  {
   "cell_type": "code",
   "execution_count": 5,
   "metadata": {},
   "outputs": [],
   "source": [
    "# Make a plot of the zeros of the transcendental function (i.e., find E_n) \n",
    "mu = 1.; hbar = 1; \n",
    "\n",
    "# Create a square well\n",
    "R = 1.; V0 = 2.2;\n",
    "\n",
    "# Specify the mesh\n",
    "r_max = 10.\n",
    "num_pts = 1000 \n",
    "gauss_pts = 48\n",
    "\n",
    "sw1 = SquareWell(V0, R, mu, num_pts=num_pts, gauss_pts=gauss_pts, r_max=r_max)\n",
    "\n",
    "# Start the energy array a bit above -V0 until almost zero\n",
    "E_pts = np.linspace(-V0+.001, -0.01, 1000)\n",
    "transcendental_pts = sw1.f_sw(E_pts)\n"
   ]
  },
  {
   "cell_type": "code",
   "execution_count": 6,
   "metadata": {},
   "outputs": [
    {
     "data": {
      "image/png": "[encoded data removed]",
      "text/plain": [
       "<Figure size 600x450 with 1 Axes>"
      ]
     },
     "metadata": {},
     "output_type": "display_data"
    }
   ],
   "source": [
    "# plot the zeros to check.\n",
    "fig = plt.figure(figsize=(4,3))\n",
    "ax = fig.add_subplot()\n",
    "ax.plot(E_pts, transcendental_pts, color='blue')\n",
    "ax.set_xlim(-V0, 0.)\n",
    "ax.set_ylim(-10, 10)\n",
    "ax.axhline(0.0, color='red')\n",
    "ax.set_title('zeros of square well transcendental function')\n",
    "ax.set_xlabel(r'$E$')\n",
    "ax.set_ylabel(r'$f(E)$')\n",
    "\n",
    "fig.tight_layout()"
   ]
  },
  {
   "cell_type": "code",
   "execution_count": 7,
   "metadata": {},
   "outputs": [
    {
     "name": "stdout",
     "output_type": "stream",
     "text": [
      "-16.353799211781638\n",
      "-14.412060528881355\n",
      "-18.94185232612673\n"
     ]
    }
   ],
   "source": [
    "def find_solutions(sw_params_array):\n",
    "    \"\"\"\n",
    "    Function to step through the pairs of (V0, R) parameters in \n",
    "    sw_params_array and find the ground state energy for each.\n",
    "    \"\"\"\n",
    "    \n",
    "    for (V0, R) in sw_params_array:\n",
    "        sw = SquareWell(V0, R, mu, num_pts=num_pts, gauss_pts=gauss_pts, r_max=r_max)\n",
    "        print(sw.E0)\n",
    "        \n",
    "sw_array = np.array([[20., 1], [18., 1], [20., 2]])  \n",
    "find_solutions(sw_array)"
   ]
  },
  {
   "cell_type": "code",
   "execution_count": 8,
   "metadata": {},
   "outputs": [
    {
     "name": "stdout",
     "output_type": "stream",
     "text": [
      "ground state energy = -0.0008951338608253756\n"
     ]
    },
    {
     "name": "stderr",
     "output_type": "stream",
     "text": [
      "/Users/furnstah/Dropbox/git_rjf/EVC_stuff/EVC_tests/square_well.py:198: RuntimeWarning: invalid value encountered in sqrt\n",
      "  return np.sqrt(-2. * self.mu * E) / self.hbar\n",
      "/Users/furnstah/opt/anaconda3/lib/python3.8/site-packages/scipy/optimize/minpack.py:175: RuntimeWarning: The iteration is not making good progress, as measured by the \n",
      "  improvement from the last ten iterations.\n",
      "  warnings.warn(msg, RuntimeWarning)\n"
     ]
    }
   ],
   "source": [
    "mu = 1.; hbar = 1; \n",
    "\n",
    "# Create a square well\n",
    "R = 1.; V0 = 1.2;\n",
    "\n",
    "# Specify the mesh\n",
    "r_max = 10.\n",
    "num_pts = 1000 \n",
    "gauss_pts = 48\n",
    "\n",
    "my_sw = SquareWell(V0, R, mu, num_pts=num_pts, gauss_pts=gauss_pts, r_max=r_max)\n",
    "\n",
    "Egs_wf = my_sw.norm_wf_simps()\n",
    "print(f'ground state energy = {my_sw.E0}')"
   ]
  },
  {
   "cell_type": "markdown",
   "metadata": {},
   "source": [
    "### Check the wave function for continuity and normalization"
   ]
  },
  {
   "cell_type": "code",
   "execution_count": 9,
   "metadata": {},
   "outputs": [
    {
     "name": "stdout",
     "output_type": "stream",
     "text": [
      "normalization =  1.000000279402407\n",
      "norm split reconstruct =  1.0\n",
      "norm function = 1.0\n",
      "\n",
      "Now with Gaussian quadrature . . .\n",
      "gauss normalization =  1.0\n",
      "norm function = 1.0\n"
     ]
    },
    {
     "data": {
      "image/png": "[encoded data removed]",
      "text/plain": [
       "<Figure size 600x450 with 1 Axes>"
      ]
     },
     "metadata": {},
     "output_type": "display_data"
    }
   ],
   "source": [
    "# make a plot and check normalization\n",
    "my_r_pts = my_sw.r_mesh.r_pts\n",
    "\n",
    "fig = plt.figure(figsize=(4,3))\n",
    "ax = fig.add_subplot()\n",
    "ax.plot(my_r_pts, my_sw.E0_wf_simps, color='blue')\n",
    "ax.plot(my_sw.gauss_mesh.nodes, my_sw.E0_wf_gauss, color='red')\n",
    "ax.plot(my_r_pts, my_sw.norm_wf(my_r_pts), color='green')\n",
    "ax.set_xlim(my_r_pts[0], my_r_pts[1500])\n",
    "#ax.set_ylim(-10, 10)\n",
    "#ax.axhline(0.0, color='red')\n",
    "title_string = rf'Square well wave function' + '\\n' + \\\n",
    "               rf'$V_0 = {my_sw.V0},\\ R = {my_sw.R} \\ \\Longrightarrow\\ E_0 = {my_sw.E0:.3f}$'\n",
    "ax.set_title(title_string)\n",
    "ax.set_xlabel(r'$r$')\n",
    "ax.set_ylabel(r'$u(r)$')\n",
    "\n",
    "fig.tight_layout()\n",
    "\n",
    "# check normalization\n",
    "print('normalization = ', simps(my_sw.E0_wf_simps**2, my_r_pts))\n",
    "print('norm split reconstruct = ',\n",
    "      simps(my_sw.E0_wf_simps[:my_sw.r_mesh.num_in_pts]**2, \n",
    "            my_sw.r_mesh.r_in_pts) +\n",
    "      simps(my_sw.E0_wf_simps[my_sw.r_mesh.num_in_pts-1:]**2, \n",
    "            my_sw.r_mesh.r_out_pts) \n",
    "     )\n",
    "print('norm function =', \n",
    "       SW_matrix_element_simps(my_sw.E0_wf_simps, my_sw.E0_wf_simps, \n",
    "                               my_sw.r_mesh))\n",
    "\n",
    "# check normalization with gaussian quadrature\n",
    "print('\\nNow with Gaussian quadrature . . .')\n",
    "print('gauss normalization = ', my_sw.E0_wf_gauss**2 @ my_sw.gauss_mesh.weights)\n",
    "print('norm function =', \n",
    "       SW_matrix_element_gauss(my_sw.E0_wf_gauss, my_sw.E0_wf_gauss, \n",
    "                               my_sw.gauss_mesh.nodes, \n",
    "                               my_sw.gauss_mesh.weights))"
   ]
  },
  {
   "cell_type": "markdown",
   "metadata": {},
   "source": [
    "### Test expectation values"
   ]
  },
  {
   "cell_type": "code",
   "execution_count": 10,
   "metadata": {},
   "outputs": [
    {
     "name": "stdout",
     "output_type": "stream",
     "text": [
      "actual E0 = -0.000895133861,  E0_exp = -0.000895134111,  E0_me_exp = -0.000895133861, \n",
      " T_exp = 0.087249324287,  T_alt_exp = 0.087249324287, T_me_exp = 0.086877480834, \n",
      " V_exp = -0.088144458398 , V_me_exp = -0.087772614695\n"
     ]
    }
   ],
   "source": [
    "# Test the expectation value of the Hamiltonian\n",
    "# Compare calculations that don't account for the discontuity to ones\n",
    "#  that do.\n",
    "my_r_pts = my_sw.r_mesh.r_pts\n",
    "my_E0_wf = my_sw.E0_wf_simps\n",
    "T_expectation = simps(my_E0_wf * my_sw.T_on_E0_wf_simps, my_r_pts)\n",
    "T_alt_expectation = simps(my_E0_wf * my_sw.T_on_E0_wf_alt_simps, my_r_pts)\n",
    "T_me_expectation = SW_matrix_element_simps(my_E0_wf, \n",
    "                                           my_sw.T_on_E0_wf_alt_simps, \n",
    "                                           my_sw.r_mesh)\n",
    "V_expectation = simps(my_E0_wf**2 * my_sw.Vsw(my_r_pts), my_r_pts)\n",
    "V_me_expectation = SW_matrix_element_simps(my_E0_wf, my_E0_wf, my_sw.r_mesh,\n",
    "                                           my_sw.Vsw(my_r_pts))\n",
    "\n",
    "E0_expectation = T_expectation + V_expectation\n",
    "E0_me_expectation = T_me_expectation + V_me_expectation\n",
    "                 \n",
    "print(f'actual E0 = {my_sw.E0:.12f}, ',\n",
    "      f'E0_exp = {E0_expectation:.12f}, ',  \n",
    "      f'E0_me_exp = {E0_me_expectation:.12f}, \\n',  \n",
    "      f'T_exp = {T_expectation:.12f}, ',          \n",
    "      f'T_alt_exp = {T_alt_expectation:.12f},',          \n",
    "      f'T_me_exp = {T_me_expectation:.12f}, \\n',          \n",
    "      f'V_exp = {V_expectation:.12f} ,',\n",
    "      f'V_me_exp = {V_me_expectation:.12f}')          "
   ]
  },
  {
   "cell_type": "code",
   "execution_count": 11,
   "metadata": {},
   "outputs": [
    {
     "name": "stdout",
     "output_type": "stream",
     "text": [
      "Gaussian quadrature check of expectation values\n",
      "actual E0 = -0.000895133861,  E0_exp = -0.000895133861,  E0_me_exp = -0.000895133861, \n",
      " T_exp = 0.086214332369,  T_alt_exp = 0.086214332369, T_me_exp = 0.086214332369, \n",
      " V_exp = -0.087109466229 , V_me_exp = -0.087109466229\n"
     ]
    }
   ],
   "source": [
    "# Gaussian quadrature version\n",
    "# Test the expectation value of the Hamiltonian\n",
    "# Compare calculations that don't account for the discontuity to ones\n",
    "#  that do.\n",
    "my_nodes = my_sw.gauss_mesh.nodes\n",
    "my_weights = my_sw.gauss_mesh.weights\n",
    "T_expectation = (my_sw.E0_wf_gauss * my_sw.T_on_E0_wf_gauss) @ my_weights                \n",
    "T_alt_expectation = (my_sw.E0_wf_gauss * my_sw.T_on_E0_wf_alt_gauss) @ \\\n",
    "                     my_weights\n",
    "T_me_expectation = SW_matrix_element_gauss(my_sw.E0_wf_gauss, \n",
    "                                           my_sw.T_on_E0_wf_alt_gauss,\n",
    "                                           my_nodes, my_weights)\n",
    "V_expectation = (my_sw.E0_wf_gauss**2 * my_sw.Vsw(my_nodes)) @ my_weights\n",
    "V_me_expectation = SW_matrix_element_gauss(my_sw.E0_wf_gauss, \n",
    "                                           my_sw.E0_wf_gauss, \n",
    "                                           my_nodes, my_weights,\n",
    "                                           my_sw.Vsw(my_nodes))\n",
    "\n",
    "E0_expectation = T_expectation + V_expectation\n",
    "E0_me_expectation = T_me_expectation + V_me_expectation\n",
    "          \n",
    "print('Gaussian quadrature check of expectation values')    \n",
    "print(f'actual E0 = {my_sw.E0:.12f}, ',\n",
    "      f'E0_exp = {E0_expectation:.12f}, ',  \n",
    "      f'E0_me_exp = {E0_me_expectation:.12f}, \\n',  \n",
    "      f'T_exp = {T_expectation:.12f}, ',          \n",
    "      f'T_alt_exp = {T_alt_expectation:.12f},',          \n",
    "      f'T_me_exp = {T_me_expectation:.12f}, \\n',          \n",
    "      f'V_exp = {V_expectation:.12f} ,',\n",
    "      f'V_me_exp = {V_me_expectation:.12f}')          "
   ]
  },
  {
   "cell_type": "markdown",
   "metadata": {},
   "source": [
    "### Make some tables and figures"
   ]
  },
  {
   "cell_type": "code",
   "execution_count": 12,
   "metadata": {},
   "outputs": [],
   "source": [
    "def plot_y_vs_x(x, y, axis_labels=None, label=None, title=None, \n",
    "                color=None, linestyle=None, semilogy=False, loglog=False,\n",
    "                ax=None):\n",
    "    \"\"\"\n",
    "    Generic plotting function: return a figure axis with a plot of y vs. x,\n",
    "    with line color and style, title, axis labels, and line label\n",
    "    \"\"\"\n",
    "    if ax is None:        # if the axis object doesn't exist, make one\n",
    "        ax = plt.gca()\n",
    "\n",
    "    if (semilogy):\n",
    "        line, = ax.semilogy(x, y, label=label, \n",
    "                            color=color, linestyle=linestyle)\n",
    "    elif (loglog):\n",
    "        line, = ax.loglog(x, y, label=label, \n",
    "                          color=color, linestyle=linestyle)\n",
    "    else:\n",
    "        line, = ax.plot(x, y, label=label, \n",
    "                    color=color, linestyle=linestyle)\n",
    "\n",
    "    if label is not None:    # if a label if passed, show the legend\n",
    "        ax.legend()\n",
    "    if title is not None:    # set a title if one if passed\n",
    "        ax.set_title(title)\n",
    "    if axis_labels is not None:  # set x-axis and y-axis labels if passed  \n",
    "        ax.set_xlabel(axis_labels[0])\n",
    "        ax.set_ylabel(axis_labels[1])\n",
    "\n",
    "    return ax, line"
   ]
  },
  {
   "cell_type": "code",
   "execution_count": 13,
   "metadata": {},
   "outputs": [],
   "source": [
    "def start_stop_indices(t_pts, plot_start, plot_stop):\n",
    "    start_index = (np.fabs(t_pts-plot_start)).argmin()  # index in t_pts array \n",
    "    stop_index = (np.fabs(t_pts-plot_stop)).argmin()  # index in t_pts array \n",
    "    return start_index, stop_index"
   ]
  },
  {
   "cell_type": "code",
   "execution_count": 14,
   "metadata": {},
   "outputs": [],
   "source": [
    "def set_ticks(ax, x_major, x_minor, y_major=None, y_minor=None, \n",
    "              x_fmt='%d', y_fmt='%d'):\n",
    "    \"\"\"\n",
    "    Set up the major ticks at every major, with labels, and minor ticks at minor.\n",
    "    \"\"\"# \n",
    "    ax.xaxis.set_major_locator(MultipleLocator(x_major))\n",
    "    ax.xaxis.set_major_formatter(FormatStrFormatter(x_fmt))\n",
    "    ax.xaxis.set_minor_locator(MultipleLocator(x_minor))\n",
    "\n",
    "    if (y_major):\n",
    "        ax.yaxis.set_major_locator(MultipleLocator(y_major))\n",
    "        ax.yaxis.set_major_formatter(FormatStrFormatter(y_fmt))\n",
    "    if (y_minor):\n",
    "        ax.yaxis.set_minor_locator(MultipleLocator(y_minor))\n"
   ]
  },
  {
   "cell_type": "code",
   "execution_count": 15,
   "metadata": {
    "scrolled": false
   },
   "outputs": [
    {
     "name": "stdout",
     "output_type": "stream",
     "text": [
      "All potentials have R = 1.0\n",
      "Results with 5 basis functions with  V0 = [30.0, 20.0, 15.0, 10.0, 0.2]\n",
      "\n",
      "   V0         exact             EVC        abs err  rel err\n",
      "   1.0    -0.1695966689    -0.4093091904   2.4e-01  1.4e+00\n"
     ]
    },
    {
     "name": "stderr",
     "output_type": "stream",
     "text": [
      "/Users/furnstah/Dropbox/git_rjf/EVC_stuff/EVC_tests/square_well.py:198: RuntimeWarning: invalid value encountered in sqrt\n",
      "  return np.sqrt(-2. * self.mu * E) / self.hbar\n",
      "/Users/furnstah/opt/anaconda3/lib/python3.8/site-packages/scipy/optimize/minpack.py:175: RuntimeWarning: The iteration is not making good progress, as measured by the \n",
      "  improvement from the last ten iterations.\n",
      "  warnings.warn(msg, RuntimeWarning)\n"
     ]
    },
    {
     "name": "stdout",
     "output_type": "stream",
     "text": [
      "   2.0    -0.2035507418    -0.6512616095   4.5e-01  2.2e+00\n",
      "   3.0    -0.7814787639    -1.0715700567   2.9e-01  3.7e-01\n",
      "   4.0    -1.5088054389    -1.6807935630   1.7e-01  1.1e-01\n",
      "   5.0    -2.3120970432    -2.4196648047   1.1e-01  4.7e-02\n",
      "   6.0    -3.1606841058    -3.2334857083   7.3e-02  2.3e-02\n",
      "   7.0    -4.0390249043    -4.0917432286   5.3e-02  1.3e-02\n",
      "   8.0    -4.9382348617    -4.9784396871   4.0e-02  8.1e-03\n",
      "   9.0    -5.8527947604    -5.8846687968   3.2e-02  5.4e-03\n",
      "  10.0    -6.7790600214    -6.8050778194   2.6e-02  3.8e-03\n",
      "  11.0    -7.7145084004    -7.7362253769   2.2e-02  2.8e-03\n",
      "  12.0    -8.6573282030    -8.6757742073   1.8e-02  2.1e-03\n",
      "  13.0    -9.6061781292    -9.6220656960   1.6e-02  1.7e-03\n",
      "  14.0   -10.5600398804   -10.5738805745   1.4e-02  1.3e-03\n",
      "  15.0   -11.5181238197   -11.5302964900   1.2e-02  1.1e-03\n",
      "  16.0   -12.4798064255   -12.4905990341   1.1e-02  8.6e-04\n",
      "  17.0   -13.4445875628   -13.4542238384   9.6e-03  7.2e-04\n",
      "  18.0   -14.4120605289   -14.4207175491   8.7e-03  6.0e-04\n",
      "  19.0   -15.3818905772   -15.3897107291   7.8e-03  5.1e-04\n",
      "  20.0   -16.3537992118   -16.3608985535   7.1e-03  4.3e-04\n",
      "  21.0   -17.3275524991   -17.3340267467   6.5e-03  3.7e-04\n",
      "  22.0   -18.3029522320   -18.3088811388   5.9e-03  3.2e-04\n",
      "  23.0   -19.2798291550   -19.2852797761   5.5e-03  2.8e-04\n",
      "  24.0   -20.2580377052   -20.2630668704   5.0e-03  2.5e-04\n",
      "  25.0   -21.2374518801   -21.2421080964   4.7e-03  2.2e-04\n",
      "  26.0   -22.2179619586   -22.2222868921   4.3e-03  1.9e-04\n",
      "  27.0   -23.1994718726   -23.2035015169   4.0e-03  1.7e-04\n",
      "  28.0   -24.1818970819   -24.1856626887   3.8e-03  1.6e-04\n",
      "  29.0   -25.1651628419   -25.1686916698   3.5e-03  1.4e-04\n"
     ]
    }
   ],
   "source": [
    "# Make an array of square wells, specified by an array of parameters\n",
    "mu = 1\n",
    "num_pts = 4000\n",
    "r_max = 20.\n",
    "gauss_pts = 48\n",
    "\n",
    "sw_params_array = np.array([[30., 1.], [20., 1.], [15., 1.], [10., 1.], [0.2, 1.]])  \n",
    "\n",
    "sw_array = [SquareWell(V0, R, mu, num_pts=num_pts, gauss_pts=gauss_pts,\n",
    "                       r_max=r_max) for \n",
    "             (V0, R) in sw_params_array]\n",
    "\n",
    "V0_ref_pts = [sw.V0 for sw in sw_array]\n",
    "E0_ref_pts = [sw.E0 for sw in sw_array]\n",
    "\n",
    "# Make an EVC object\n",
    "my_evc = EigenvectorContinuationScattering(sw_array)\n",
    "\n",
    "# Step through test values\n",
    "test_R = sw_array[0].R\n",
    "test_mu = sw_array[0].mu\n",
    "\n",
    "test_V0_pts = np.arange(1., 30., 0.1)\n",
    "exact_E_pts = []\n",
    "EVC_E_pts = []\n",
    "abs_err_E_pts = []\n",
    "rel_err_E_pts = []\n",
    "test_i = 5\n",
    "\n",
    "print(f'All potentials have R = {sw_array[0].R}')\n",
    "print(f'Results with {test_i} basis functions with ',\n",
    "      f'V0 = {[sw.V0 for sw in sw_array[0:test_i]]}')\n",
    "print(f'\\n   V0         exact             EVC        abs err  rel err')\n",
    "for index, V0 in enumerate(test_V0_pts):\n",
    "    test_theta = [V0, test_R]\n",
    "    test_sw = SquareWell(V0, test_R, test_mu, num_pts=num_pts, \n",
    "                         gauss_pts=gauss_pts, r_max=r_max)\n",
    "    exact_E = test_sw.E0\n",
    "    exact_E_pts = np.append(exact_E_pts, exact_E)\n",
    "    EVC_E = my_evc.find_EVC_gauss(test_i, test_theta)[0]\n",
    "    EVC_E_pts = np.append(EVC_E_pts, EVC_E)\n",
    "    abs_err_E = np.abs(EVC_E - exact_E)\n",
    "    abs_err_E_pts = np.append(abs_err_E_pts, abs_err_E)\n",
    "    rel_err_E = np.abs((EVC_E - exact_E) / exact_E)\n",
    "    rel_err_E_pts = np.append(rel_err_E_pts, rel_err_E)\n",
    "    if (index % 10 == 0):\n",
    "        print(f'  {V0:4.1f}   {exact_E:14.10f}   {EVC_E:14.10f}',\n",
    "              f'  {abs_err_E:.1e}  {rel_err_E:.1e}'  )\n",
    "    \n",
    "# for i in np.arange(1, len(sw_array)+1):\n",
    "#     eigvals = my_evc.find_EVC_gauss(i, test_theta)\n",
    "#     print(f'{eigvals}',\n",
    "#           f'  cond. #: N = {my_evc.N_cond_num:.2e}',\n",
    "#           f'  H = {my_evc.H_cond_num:.2e}')\n",
    "\n"
   ]
  },
  {
   "cell_type": "code",
   "execution_count": 16,
   "metadata": {},
   "outputs": [
    {
     "data": {
      "image/png": "[encoded data removed]",
      "text/plain": [
       "<Figure size 600x600 with 2 Axes>"
      ]
     },
     "metadata": {},
     "output_type": "display_data"
    }
   ],
   "source": [
    "#### from graphs import setup_rc_params\n",
    "setup_rc_params(presentation=True)\n",
    "from matplotlib.ticker import (MultipleLocator, FormatStrFormatter,\n",
    "                               AutoMinorLocator)\n",
    "mpl.rcParams['figure.constrained_layout.use'] = False\n",
    "\n",
    "fig = plt.figure(figsize=(4,4))\n",
    "overall_title = rf'Eigenvector continuation for square well ' + \\\n",
    "                rf' $\\ell=0$ ground state:  ' + \\\n",
    "                 rf' $R = {sw_array[0].R}$' \n",
    "#fig.suptitle(overall_title, va='baseline')\n",
    "\n",
    "ax_a = fig.add_subplot(2,1,1)                  \n",
    "\n",
    "#start, stop = start_stop_indices(t_pts, t_start, t_end)    \n",
    "plot_y_vs_x(test_V0_pts, exact_E_pts, \n",
    "            axis_labels=(r'$V_0$',rf'$E_{{\\rm gs}}$'), \n",
    "            color='blue',\n",
    "            label=r'exact', \n",
    "            ax=ax_a)    \n",
    "plot_y_vs_x(test_V0_pts, EVC_E_pts, \n",
    "            axis_labels=(r'$V_0$',rf'$E_{{\\rm gs}}$'), \n",
    "            color='red',\n",
    "            label=r'EVC', \n",
    "            ax=ax_a) \n",
    "ax_a.plot(V0_ref_pts[:test_i], E0_ref_pts[:test_i], 'o', color='green')\n",
    "set_ticks(ax_a, x_major=10, x_minor=1, y_major=5, y_minor=1)\n",
    "\n",
    "ax_b = fig.add_subplot(2,1,2)                  \n",
    "plot_y_vs_x(test_V0_pts, abs_err_E_pts, \n",
    "            axis_labels=(r'$V_0$',r'error'), \n",
    "            semilogy=True,\n",
    "            color='blue',\n",
    "            label=r'absolute', \n",
    "            ax=ax_b)    \n",
    "plot_y_vs_x(test_V0_pts, rel_err_E_pts, \n",
    "            axis_labels=(r'$V_0$',r'error'),\n",
    "            semilogy=True,\n",
    "            color='red',\n",
    "            label=r'relative', \n",
    "            ax=ax_b)    \n",
    "set_ticks(ax_b, x_major=10, x_minor=1)\n",
    "\n",
    "fig.tight_layout()\n",
    "\n",
    "fig_filename = fig_dir + f'EVC_{test_i}.png'\n",
    "#fig.savefig(fig_filename, bbox_inches='tight')  "
   ]
  },
  {
   "cell_type": "code",
   "execution_count": 17,
   "metadata": {},
   "outputs": [
    {
     "data": {
      "text/plain": [
       "[<square_well.SquareWell at 0x11aa97460>,\n",
       " <square_well.SquareWell at 0x11abc1130>,\n",
       " <square_well.SquareWell at 0x11abc1220>,\n",
       " <square_well.SquareWell at 0x11abc1310>,\n",
       " <square_well.SquareWell at 0x11abc13d0>]"
      ]
     },
     "execution_count": 17,
     "metadata": {},
     "output_type": "execute_result"
    }
   ],
   "source": [
    "sw_array"
   ]
  },
  {
   "cell_type": "code",
   "execution_count": 18,
   "metadata": {},
   "outputs": [
    {
     "data": {
      "image/png": "[encoded data removed]",
      "text/plain": [
       "<Figure size 600x450 with 1 Axes>"
      ]
     },
     "metadata": {},
     "output_type": "display_data"
    }
   ],
   "source": [
    "# make a plot and check normalization\n",
    "my_r_pts = my_sw.r_mesh.r_pts\n",
    "\n",
    "fig = plt.figure(figsize=(4,3))\n",
    "ax = fig.add_subplot()\n",
    "ls= ['b-', 'b--', 'r-', 'r--', 'k--' ] \n",
    "for i, my_sw in enumerate(sw_array):\n",
    "    ax.plot(my_sw.gauss_mesh.nodes, my_sw.E0_wf_gauss, ls[i], label=rf'$V_0 = {my_sw.V0},\\ E_0 = {my_sw.E0:.1f}$')\n",
    "ax.set_xlim(0, 4)\n",
    "#ax.set_ylim(-10, 10)\n",
    "#ax.axhline(0.0, color='red')\n",
    "title_string = rf'Square well V and WF with $R=1$'\n",
    "ax.legend(loc='best', fontsize=9, ncol=1 , columnspacing=1, handlelength=1, handletextpad=0.5) \n",
    "ax.set_title(title_string)\n",
    "ax.set_xlabel(r'$r$')\n",
    "ax.set_ylabel(r'$u(r), V$')\n",
    "\n",
    "ax.plot(np.array([0, 1, 1, 4]), np.array([-1, -1, 0, 0]), 'k-')\n",
    "\n",
    "fig.tight_layout()\n"
   ]
  },
  {
   "cell_type": "code",
   "execution_count": 133,
   "metadata": {
    "scrolled": false
   },
   "outputs": [
    {
     "name": "stdout",
     "output_type": "stream",
     "text": [
      "All potentials have R = 1.0\n",
      "Results with 5 basis functions with  V0 = [12.0, 10.0, 8.0, 6.0, 4.0]\n",
      "\n",
      "   V0         exact             EVC        abs err  rel err       HO basis   abs err   rel err\n",
      "   1.0    -0.1695966689     0.1268937297   3.0e-01  1.7e+00    -0.9320242643  7.6e-01  4.5e+00\n"
     ]
    },
    {
     "name": "stderr",
     "output_type": "stream",
     "text": [
      "/Users/furnstah/opt/anaconda3/lib/python3.8/site-packages/scipy/integrate/_quadrature.py:245: AccuracyWarning: maxiter (50) exceeded. Latest difference = 2.554559e-02\n",
      "  warnings.warn(\n"
     ]
    },
    {
     "name": "stdout",
     "output_type": "stream",
     "text": [
      "   2.0    -0.2035507418    -0.1992041797   4.3e-03  2.1e-02    -1.1811195504  9.8e-01  4.8e+00\n",
      "   3.0    -0.7814787639    -0.7814352195   4.4e-05  5.6e-05    -1.5170660990  7.4e-01  9.4e-01\n",
      "   4.0    -1.5088054389    -1.5088054389   1.6e-15  1.0e-15    -1.9646961605  4.6e-01  3.0e-01\n",
      "   5.0    -2.3120970432    -2.3120970125   3.1e-08  1.3e-08    -2.5351795489  2.2e-01  9.6e-02\n",
      "   6.0    -3.1606841058    -3.1606841058   4.4e-16  1.4e-16    -3.2170525837  5.6e-02  1.8e-02\n",
      "   7.0    -4.0390249043    -4.0390249036   6.9e-10  1.7e-10    -3.9846597871  5.4e-02  1.3e-02\n",
      "   8.0    -4.9382348617    -4.9382348617   2.7e-15  5.4e-16    -4.8123317718  1.3e-01  2.5e-02\n",
      "   9.0    -5.8527947604    -5.8527947603   1.3e-10  2.3e-11    -5.6808329236  1.7e-01  2.9e-02\n",
      "  10.0    -6.7790600214    -6.7790600214   8.9e-16  1.3e-16    -6.5773038620  2.0e-01  3.0e-02\n",
      "  11.0    -7.7145084004    -7.7145084002   1.9e-10  2.4e-11    -7.4934077278  2.2e-01  2.9e-02\n",
      "  12.0    -8.6573282030    -8.6573282030   1.8e-15  2.1e-16    -8.4237006650  2.3e-01  2.7e-02\n",
      "  13.0    -9.6061781292    -9.6061781246   4.7e-09  4.9e-10    -9.3645470935  2.4e-01  2.5e-02\n",
      "  14.0   -10.5600398804   -10.5600398344   4.6e-08  4.4e-09   -10.3134519126  2.5e-01  2.3e-02\n",
      "  15.0   -11.5181238197   -11.5181236135   2.1e-07  1.8e-08   -11.2686550434  2.5e-01  2.2e-02\n",
      "  16.0   -12.4798064255   -12.4798057880   6.4e-07  5.1e-08   -12.2288824730  2.5e-01  2.0e-02\n",
      "  17.0   -13.4445875628   -13.4445859903   1.6e-06  1.2e-07   -13.1931901306  2.5e-01  1.9e-02\n",
      "  18.0   -14.4120605289   -14.4120572031   3.3e-06  2.3e-07   -14.1608635544  2.5e-01  1.7e-02\n",
      "  19.0   -15.3818905772   -15.3818842886   6.3e-06  4.1e-07   -15.1313517932  2.5e-01  1.6e-02\n",
      "  20.0   -16.3537992118   -16.3537882931   1.1e-05  6.7e-07   -16.1042228083  2.5e-01  1.5e-02\n",
      "  21.0   -17.3275524991   -17.3275347710   1.8e-05  1.0e-06   -17.0791327044  2.5e-01  1.4e-02\n",
      "  22.0   -18.3029522320   -18.3029249623   2.7e-05  1.5e-06   -18.0558040567  2.5e-01  1.4e-02\n",
      "  23.0   -19.2798291550   -19.2797890314   4.0e-05  2.1e-06   -19.0340103549  2.5e-01  1.3e-02\n",
      "  24.0   -20.2580377052   -20.2579808193   5.7e-05  2.8e-06   -20.0135646417  2.4e-01  1.2e-02\n",
      "  25.0   -21.2374518801   -21.2373737226   7.8e-05  3.7e-06   -20.9943110826  2.4e-01  1.1e-02\n",
      "  26.0   -22.2179619586   -22.2178574237   1.0e-04  4.7e-06   -21.9761186200  2.4e-01  1.1e-02\n",
      "  27.0   -23.1994718726   -23.1993352695   1.4e-04  5.9e-06   -22.9588761311  2.4e-01  1.0e-02\n",
      "  28.0   -24.1818970819   -24.1817221529   1.7e-04  7.2e-06   -23.9424886901  2.4e-01  9.9e-03\n",
      "  29.0   -25.1651628419   -25.1649427846   2.2e-04  8.7e-06   -24.9268746479  2.4e-01  9.5e-03\n"
     ]
    }
   ],
   "source": [
    "# Make an array of square wells, specified by an array of parameters\n",
    "mu = 1\n",
    "num_pts = 4000\n",
    "r_max = 20.\n",
    "gauss_pts = 48\n",
    "\n",
    "sw_params_array = np.array([[12., 1.], [10., 1.], [8., 1.], [6., 1.], [4, 1.]])  \n",
    "\n",
    "sw_array = [SquareWell(V0, R, mu, num_pts=num_pts, gauss_pts=gauss_pts,\n",
    "                       r_max=r_max) for \n",
    "             (V0, R) in sw_params_array]\n",
    "\n",
    "V0_ref_pts = [sw.V0 for sw in sw_array]\n",
    "E0_ref_pts = [sw.E0 for sw in sw_array]\n",
    "\n",
    "# Make an EVC object\n",
    "my_evc = EigenvectorContinuationScattering(sw_array)\n",
    "\n",
    "# Step through test values\n",
    "test_R = sw_array[0].R\n",
    "test_mu = sw_array[0].mu\n",
    "\n",
    "test_V0_pts = np.arange(1., 30., 0.1)\n",
    "exact_E_pts = []\n",
    "EVC_E_pts = []\n",
    "HO_E_pts = []\n",
    "abs_err_E_pts = []\n",
    "rel_err_E_pts = []\n",
    "abs_err_HO_E_pts = []\n",
    "rel_err_HO_E_pts = []\n",
    "test_i = 5\n",
    "\n",
    "print(f'All potentials have R = {sw_array[0].R}')\n",
    "print(f'Results with {test_i} basis functions with ',\n",
    "      f'V0 = {[sw.V0 for sw in sw_array[0:test_i]]}')\n",
    "print(f'\\n   V0         exact             EVC        abs err  rel err', \\\n",
    "     f'      HO basis   abs err   rel err')\n",
    "for index, V0 in enumerate(test_V0_pts):\n",
    "    test_theta = [V0, test_R]\n",
    "    test_sw = SquareWell(V0, test_R, test_mu, num_pts=num_pts, \n",
    "                         gauss_pts=gauss_pts, r_max=r_max)\n",
    "    exact_E = test_sw.E0\n",
    "    exact_E_pts = np.append(exact_E_pts, exact_E)\n",
    "    EVC_E = my_evc.find_EVC_gauss(test_i, test_theta)[0]\n",
    "    EVC_E_pts = np.append(EVC_E_pts, EVC_E)\n",
    "    abs_err_E = np.abs(EVC_E - exact_E)\n",
    "    abs_err_E_pts = np.append(abs_err_E_pts, abs_err_E)\n",
    "    rel_err_E = np.abs((EVC_E - exact_E) / exact_E)\n",
    "    rel_err_E_pts = np.append(rel_err_E_pts, rel_err_E)\n",
    "    \n",
    "    num_terms = 8\n",
    "    hbarOmega = 1.5\n",
    "    H_mat_HO = H_ij_HO_acc(num_terms, V0, hbarOmega)\n",
    "    eig_vals_HO, eig_vecs_HO = eigh(H_mat_HO)\n",
    "    HO_E_min = np.min(eig_vals_HO)\n",
    "    HO_E_pts = np.append(HO_E_pts, HO_E_min)\n",
    "    abs_err_HO_E = np.abs(HO_E_min - exact_E)\n",
    "    abs_err_HO_E_pts = np.append(rel_err_HO_E_pts, abs_err_HO_E)\n",
    "    rel_err_HO_E = np.abs((HO_E_min - exact_E)/exact_E)\n",
    "    rel_err_HO_E_pts = np.append(rel_err_HO_E_pts, rel_err_HO_E)\n",
    "    \n",
    "    if (index % 10 == 0):\n",
    "        print(f'  {V0:4.1f}   {exact_E:14.10f}   {EVC_E:14.10f}',\n",
    "              f'  {abs_err_E:.1e}  {rel_err_E:.1e}'  ,\n",
    "              f'  {HO_E_min:14.10f}  {abs_err_HO_E:.1e}  {rel_err_HO_E:.1e}')\n",
    "        \n",
    "        \n",
    "    \n",
    "# for i in np.arange(1, len(sw_array)+1):\n",
    "#     eigvals = my_evc.find_EVC_gauss(i, test_theta)\n",
    "#     print(f'{eigvals}',\n",
    "#           f'  cond. #: N = {my_evc.N_cond_num:.2e}',\n",
    "#           f'  H = {my_evc.H_cond_num:.2e}')\n",
    "\n"
   ]
  },
  {
   "cell_type": "code",
   "execution_count": 20,
   "metadata": {},
   "outputs": [
    {
     "data": {
      "image/png": "[encoded data removed]",
      "text/plain": [
       "<Figure size 1200x450 with 2 Axes>"
      ]
     },
     "metadata": {},
     "output_type": "display_data"
    }
   ],
   "source": [
    "from graphs import setup_rc_params\n",
    "from matplotlib.ticker import (MultipleLocator, FormatStrFormatter,\n",
    "                               AutoMinorLocator)\n",
    "setup_rc_params(presentation=True)\n",
    "mpl.rcParams['figure.constrained_layout.use'] = False\n",
    "\n",
    "fig = plt.figure(figsize=(8,3))\n",
    "overall_title = rf'Eigenvector continuation for square well ' + \\\n",
    "                rf' $\\ell=0$ ground state:  ' + \\\n",
    "                 rf' $R = {sw_array[0].R}$' \n",
    "#fig.suptitle(overall_title, va='baseline')\n",
    "\n",
    "ax_a = fig.add_subplot(1,2,1)                  \n",
    "\n",
    "#start, stop = start_stop_indices(t_pts, t_start, t_end)    \n",
    "plot_y_vs_x(test_V0_pts, exact_E_pts, \n",
    "            axis_labels=(r'$V_0$',rf'$E_{{\\rm gs}}$'), \n",
    "            color='blue',\n",
    "            label=r'exact', \n",
    "            ax=ax_a)    \n",
    "plot_y_vs_x(test_V0_pts, EVC_E_pts, \n",
    "            axis_labels=(r'$V_0$',rf'$E_{{\\rm gs}}$'), \n",
    "            color='red',\n",
    "            label=r'EVC', \n",
    "            ax=ax_a) \n",
    "ax_a.plot(V0_ref_pts[:test_i], E0_ref_pts[:test_i], 'o', color='green')\n",
    "ax_a.set_xticks(range(0,31,10))\n",
    "\n",
    "# Set up the major ticks at every 10, with labels, and minor ticks at 1\n",
    "ax_a.xaxis.set_major_locator(MultipleLocator(10))\n",
    "ax_a.xaxis.set_major_formatter(FormatStrFormatter('%d'))\n",
    "ax_a.xaxis.set_minor_locator(MultipleLocator(1))\n",
    "\n",
    "\n",
    "ax_b = fig.add_subplot(1,2,2)                  \n",
    "plot_y_vs_x(test_V0_pts, abs_err_E_pts, \n",
    "            axis_labels=(r'$V_0$',r'error'), \n",
    "            semilogy=True,\n",
    "            color='blue',\n",
    "            label=r'absolute', \n",
    "            ax=ax_b)    \n",
    "plot_y_vs_x(test_V0_pts, rel_err_E_pts, \n",
    "            axis_labels=(r'$V_0$',r'error'),\n",
    "            semilogy=True,\n",
    "            color='red',\n",
    "            label=r'relative', \n",
    "            ax=ax_b)    \n",
    "\n",
    "fig.tight_layout()\n",
    "\n",
    "fig_filename = fig_dir + f'EVC3_{test_i}.png'\n",
    "fig.savefig(fig_filename, bbox_inches='tight')  "
   ]
  },
  {
   "cell_type": "markdown",
   "metadata": {},
   "source": [
    "### More tests"
   ]
  },
  {
   "cell_type": "code",
   "execution_count": 21,
   "metadata": {},
   "outputs": [],
   "source": [
    "# Make an array of square wells, specified by an array of parameters\n",
    "mu = 1\n",
    "num_pts = 2000\n",
    "r_max = 20.\n",
    "gauss_pts = 48\n",
    "\n",
    "# Array elements are [V0, R]\n",
    "sw_params_array = np.array([[16., 1], [14., 1], [12., 1], [24., 1], [22., 1], \n",
    "                            [20., 1], [18., 1], ])  \n",
    "#sw_params_array = np.array([[20., 1], [12., 1], [20., 2], [16., 4]])  \n",
    "#sw_params_array = np.array([[20., 1], [18., 1], [20., 2]])  \n",
    "\n",
    "sw_array = [SquareWell(V0, R, mu, num_pts=num_pts, gauss_pts=gauss_pts,\n",
    "                       r_max=r_max) for \n",
    "             (V0, R) in sw_params_array]\n",
    "\n",
    "# Create an EVC object\n",
    "my_evc = EigenvectorContinuationScattering(sw_array)"
   ]
  },
  {
   "cell_type": "code",
   "execution_count": 22,
   "metadata": {
    "scrolled": false
   },
   "outputs": [
    {
     "name": "stdout",
     "output_type": "stream",
     "text": [
      "ground state energy E0 = -12.4798064254845\n",
      "normalization = 1.00000000000000  gauss = 1.00000000000000  quadrature = 1.00000000000000\n",
      "ground state energy E0 = -10.560039880413166\n",
      "normalization = 1.00000000000000  gauss = 1.00000000000000  quadrature = 1.00000000000000\n",
      "ground state energy E0 = -8.657328203014181\n",
      "normalization = 1.00000000000000  gauss = 1.00000000000000  quadrature = 0.99999999999999\n",
      "ground state energy E0 = -20.258037705197633\n",
      "normalization = 1.00000000000000  gauss = 1.00000000000000  quadrature = 1.00000000000000\n",
      "ground state energy E0 = -18.302952231956443\n",
      "normalization = 1.00000000000000  gauss = 1.00000000000000  quadrature = 1.00000000000000\n",
      "ground state energy E0 = -16.353799211781638\n",
      "normalization = 1.00000000000000  gauss = 1.00000000000000  quadrature = 1.00000000000000\n",
      "ground state energy E0 = -14.412060528881355\n",
      "normalization = 1.00000000000000  gauss = 1.00000000000000  quadrature = 1.00000000000000\n"
     ]
    }
   ],
   "source": [
    "for sw in sw_array:\n",
    "    print(f'ground state energy E0 = {sw.E0}')\n",
    "    Egs_wf = sw.E0_wf_simps\n",
    "    Egs_wf_gauss = sw.E0_wf_gauss\n",
    "    #print(len(sw.r_pts), len(Egs_wf))\n",
    "    #print('normalization = ', simps(Egs_wf**2, sw.r_mesh.r_pts))\n",
    "    norm_simps = SW_matrix_element_simps(Egs_wf, Egs_wf, sw.r_mesh)\n",
    "    norm_gauss = SW_matrix_element_gauss(Egs_wf_gauss, Egs_wf_gauss,\n",
    "                                         sw.gauss_mesh.nodes,\n",
    "                                         sw.gauss_mesh.weights)\n",
    "    norm_quadrature = SW_matrix_element(sw, sw)[0]\n",
    "    print(f'normalization = {norm_simps:.14f}',\n",
    "          f' gauss = {norm_gauss:.14f}',\n",
    "          f' quadrature = {norm_quadrature:.14f}' \n",
    "         )\n",
    "    #print('normalization = ', simps(sw.E0_wf**2, sw.r_mesh.r_pts),'\\n')"
   ]
  },
  {
   "cell_type": "code",
   "execution_count": 23,
   "metadata": {},
   "outputs": [
    {
     "data": {
      "text/plain": [
       "array([[1.        , 0.99971673, 0.99856266, 0.99806187, 0.99874707],\n",
       "       [0.99971673, 1.        , 0.99955454, 0.99630731, 0.99727854],\n",
       "       [0.99856266, 0.99955454, 1.        , 0.99332886, 0.99465292],\n",
       "       [0.99806187, 0.99630731, 0.99332886, 1.        , 0.99992509],\n",
       "       [0.99874707, 0.99727854, 0.99465292, 0.99992509, 1.        ]])"
      ]
     },
     "execution_count": 23,
     "metadata": {},
     "output_type": "execute_result"
    }
   ],
   "source": [
    "my_evc.N_ij(5)"
   ]
  },
  {
   "cell_type": "code",
   "execution_count": 24,
   "metadata": {},
   "outputs": [
    {
     "data": {
      "text/plain": [
       "array([[1.        , 0.99971672, 0.99856265, 0.99806185, 0.99874706],\n",
       "       [0.99971672, 1.        , 0.99955454, 0.99630728, 0.99727852],\n",
       "       [0.99856265, 0.99955454, 1.        , 0.99332881, 0.99465289],\n",
       "       [0.99806185, 0.99630728, 0.99332881, 1.        , 0.99992509],\n",
       "       [0.99874706, 0.99727852, 0.99465289, 0.99992509, 1.        ]])"
      ]
     },
     "execution_count": 24,
     "metadata": {},
     "output_type": "execute_result"
    }
   ],
   "source": [
    "my_evc.N_ij_gauss(5)"
   ]
  },
  {
   "cell_type": "code",
   "execution_count": 25,
   "metadata": {},
   "outputs": [
    {
     "data": {
      "text/plain": [
       "array([[-16.33883597, -16.32232795, -16.28848868, -16.33719695,\n",
       "        -16.34268981],\n",
       "       [-16.32232795, -16.30615691, -16.27272394, -16.31966144,\n",
       "        -16.32538123],\n",
       "       [-16.28848868, -16.27272394, -16.23977208, -16.28454017,\n",
       "        -16.29054791],\n",
       "       [-16.33719695, -16.31966144, -16.28454017, -16.33845084,\n",
       "        -16.34333407],\n",
       "       [-16.34268981, -16.32538123, -16.29054791, -16.34333407,\n",
       "        -16.34834175]])"
      ]
     },
     "execution_count": 25,
     "metadata": {},
     "output_type": "execute_result"
    }
   ],
   "source": [
    "my_evc.H_ij(5, [20., 1])"
   ]
  },
  {
   "cell_type": "code",
   "execution_count": 26,
   "metadata": {},
   "outputs": [
    {
     "data": {
      "text/plain": [
       "array([[-16.33303286, -16.31471664, -16.27885252, -16.33719665,\n",
       "        -16.34140312],\n",
       "       [-16.31471664, -16.29657338, -16.26092805, -16.31835615,\n",
       "        -16.32268105],\n",
       "       [-16.27885252, -16.26092805, -16.22554953, -16.28178619,\n",
       "        -16.28627472],\n",
       "       [-16.33719665, -16.31835615, -16.28178619, -16.34271407,\n",
       "        -16.3466421 ],\n",
       "       [-16.34140312, -16.32268105, -16.28627472, -16.3466421 ,\n",
       "        -16.35062341]])"
      ]
     },
     "execution_count": 26,
     "metadata": {},
     "output_type": "execute_result"
    }
   ],
   "source": [
    "my_evc.H_ij_gauss(5, [20., 1])"
   ]
  },
  {
   "cell_type": "code",
   "execution_count": 27,
   "metadata": {},
   "outputs": [
    {
     "name": "stdout",
     "output_type": "stream",
     "text": [
      "exact energy = -0.7814787638827644\n",
      "Results first for Simpsons rule and then Gauss quadrature\n",
      "\n",
      " i = 1     R = 1.0   V0 = [24.0]\n",
      "[0.30189188]   cond. #: N = 1.00e+00   H = 1.00e+00\n",
      "[0.29741138]   cond. #: N = 1.00e+00   H = 1.00e+00\n",
      "\n",
      " i = 2     R = 1.0   V0 = [24.0, 22.0]\n",
      "[-0.46438008  6.70629251]   cond. #: N = 2.67e+04   H = 6.51e+02\n",
      "[-0.45809118  6.76167937]   cond. #: N = 2.67e+04   H = 6.34e+02\n",
      "\n",
      " i = 3     R = 1.0   V0 = [24.0, 22.0, 20.0]\n",
      "[-0.67156779  4.50090185 14.16295074]   cond. #: N = 8.13e+07   H = 1.49e+06\n",
      "[-0.67688946  4.49439599 14.33980166]   cond. #: N = 8.13e+07   H = 1.43e+06\n",
      "\n",
      " i = 4     R = 1.0   V0 = [24.0, 22.0, 20.0, 18.0]\n",
      "[-0.74918121  2.6936265   9.36000086 25.28174185]   cond. #: N = 5.96e+10   H = 1.10e+09\n",
      "[-0.74482146  2.70080677  9.34852972 25.58510323]   cond. #: N = 5.96e+10   H = 1.09e+09\n",
      "\n",
      " i = 5     R = 1.0   V0 = [24.0, 22.0, 20.0, 18.0, 16.0]\n",
      "[-0.76731216  1.79459111  5.85543871 15.34799993 39.21134009]   cond. #: N = 1.57e+13   H = 2.53e+11\n",
      "[-0.76905687  1.79548543  5.90882389 15.33415673 39.62750703]   cond. #: N = 1.57e+13   H = 2.44e+11\n"
     ]
    }
   ],
   "source": [
    "# Make an array of square wells, specified by an array of parameters\n",
    "mu = 1\n",
    "num_pts = 10000\n",
    "r_max = 20.\n",
    "gauss_pts = 48\n",
    "\n",
    "sw_params_array = np.array([[24., 1], [22., 1], [20., 1], [18., 1], [16., 1]])  \n",
    "\n",
    "sw_array = [SquareWell(V0, R, mu, num_pts=num_pts, gauss_pts=gauss_pts,\n",
    "                       r_max=r_max) for \n",
    "             (V0, R) in sw_params_array]\n",
    "\n",
    "# Make an EVC object\n",
    "my_evc = EigenvectorContinuationScattering(sw_array)\n",
    "\n",
    "test_V0 = 3.\n",
    "test_R = 1.\n",
    "test_mu = 1.\n",
    "\n",
    "test_theta = [test_V0, test_R]\n",
    "test_sw = SquareWell(test_V0, test_R, test_mu, num_pts=num_pts, \n",
    "                     gauss_pts=gauss_pts, r_max=r_max)\n",
    "print(f'exact energy = {test_sw.E0}')\n",
    "\n",
    "print(f'Results first for Simpsons rule and then Gauss quadrature')\n",
    "for i in np.arange(1, len(sw_array)+1):\n",
    "    print(f'\\n i = {i}',\n",
    "          f'    R = {sw_array[0].R}',\n",
    "          f'  V0 = {[sw.V0 for sw in sw_array[0:i]]}')\n",
    "    eigvals = my_evc.find_EVC(i, test_theta)\n",
    "    print(f'{eigvals}',\n",
    "          f'  cond. #: N = {my_evc.N_cond_num:.2e}',\n",
    "          f'  H = {my_evc.H_cond_num:.2e}')\n",
    "    #print(f'\\n gaussian quadrature')\n",
    "    eigvals = my_evc.find_EVC_gauss(i, test_theta)\n",
    "    print(f'{eigvals}',\n",
    "          f'  cond. #: N = {my_evc.N_cond_num:.2e}',\n",
    "          f'  H = {my_evc.H_cond_num:.2e}')\n",
    "    "
   ]
  },
  {
   "cell_type": "code",
   "execution_count": 28,
   "metadata": {},
   "outputs": [
    {
     "data": {
      "text/plain": [
       "array([[1.        , 0.99992509],\n",
       "       [0.99992509, 1.        ]])"
      ]
     },
     "execution_count": 28,
     "metadata": {},
     "output_type": "execute_result"
    }
   ],
   "source": [
    "my_evc.N_ij(2)"
   ]
  },
  {
   "cell_type": "code",
   "execution_count": 29,
   "metadata": {},
   "outputs": [
    {
     "data": {
      "text/plain": [
       "array([[1.        , 0.99992509],\n",
       "       [0.99992509, 1.        ]])"
      ]
     },
     "execution_count": 29,
     "metadata": {},
     "output_type": "execute_result"
    }
   ],
   "source": [
    "my_evc.N_ij_gauss(2)"
   ]
  },
  {
   "cell_type": "code",
   "execution_count": 30,
   "metadata": {},
   "outputs": [
    {
     "data": {
      "text/plain": [
       "array([[0.30189188, 0.27475401],\n",
       "       [0.27475401, 0.24851012]])"
      ]
     },
     "execution_count": 30,
     "metadata": {},
     "output_type": "execute_result"
    }
   ],
   "source": [
    "my_evc.H_ij(2,[3., 1])"
   ]
  },
  {
   "cell_type": "code",
   "execution_count": 31,
   "metadata": {},
   "outputs": [
    {
     "data": {
      "text/plain": [
       "array([[0.29741138, 0.27033951],\n",
       "       [0.27033951, 0.24417153]])"
      ]
     },
     "execution_count": 31,
     "metadata": {},
     "output_type": "execute_result"
    }
   ],
   "source": [
    "my_evc.H_ij_gauss(2,[3., 1])"
   ]
  },
  {
   "cell_type": "code",
   "execution_count": 32,
   "metadata": {
    "scrolled": false
   },
   "outputs": [
    {
     "name": "stdout",
     "output_type": "stream",
     "text": [
      "ground state energy E0 = -20.258037705197633\n",
      "normalization =  0.9999999999999997\n",
      "gauss normalization =  1.0000000000000002\n",
      "\n",
      "\n",
      "ground state energy E0 = -18.302952231956443\n",
      "normalization =  1.0000000000000002\n",
      "gauss normalization =  1.0000000000000002\n",
      "\n",
      "\n",
      "ground state energy E0 = -16.353799211781638\n",
      "normalization =  0.9999999999999997\n",
      "gauss normalization =  1.0000000000000002\n",
      "\n",
      "\n",
      "ground state energy E0 = -14.412060528881355\n",
      "normalization =  0.9999999999999993\n",
      "gauss normalization =  1.0000000000000002\n",
      "\n",
      "\n",
      "ground state energy E0 = -12.4798064254845\n",
      "normalization =  0.9999999999999998\n",
      "gauss normalization =  1.0000000000000002\n",
      "\n",
      "\n"
     ]
    }
   ],
   "source": [
    "for sw in sw_array:\n",
    "    print(f'ground state energy E0 = {sw.E0}')\n",
    "    Egs_wf = sw.E0_wf_simps\n",
    "    #print(len(sw.r_pts), len(Egs_wf))\n",
    "    #print('normalization = ', simps(Egs_wf**2, sw.r_mesh.r_pts))\n",
    "    print('normalization = ', SW_matrix_element_simps(Egs_wf, Egs_wf, sw.r_mesh))\n",
    "    print('gauss normalization = ', SW_matrix_element_gauss(Egs_wf_gauss, \n",
    "                                                            Egs_wf_gauss, \n",
    "                                                            sw.gauss_mesh.nodes,\n",
    "                                                            sw.gauss_mesh.weights\n",
    "                                                           ))\n",
    "    print('\\n')\n",
    "    #print('normalization = ', simps(sw.E0_wf**2, sw.r_mesh.r_pts),'\\n')"
   ]
  },
  {
   "cell_type": "code",
   "execution_count": 33,
   "metadata": {
    "scrolled": false
   },
   "outputs": [
    {
     "name": "stdout",
     "output_type": "stream",
     "text": [
      "exact energy = -2.3120970431648895\n",
      "Results first for Simpsons rule and then Gauss quadrature\n",
      "\n",
      " i = 1     R = 1.0   V0 = [24.0]\n",
      "[-1.65011743]   cond. #: N = 1.00e+00   H = 1.00e+00\n",
      "[-1.66025044]   cond. #: N = 1.00e+00   H = 1.00e+00\n",
      "\n",
      " i = 2     R = 1.0   V0 = [24.0, 22.0]\n",
      "[-2.2075008   5.64063034]   cond. #: N = 2.67e+04   H = 6.01e+03\n",
      "[-2.19659808  5.79354606]   cond. #: N = 2.67e+04   H = 5.95e+03\n",
      "\n",
      " i = 3     R = 1.0   V0 = [24.0, 22.0, 20.0]\n",
      "[-2.28572236  3.93514778 13.01310343]   cond. #: N = 8.13e+07   H = 1.44e+07\n",
      "[-2.29157556  3.92440304 13.45539532]   cond. #: N = 8.13e+07   H = 1.43e+07\n",
      "\n",
      " i = 4     R = 1.0   V0 = [24.0, 22.0, 20.0, 18.0]\n",
      "[-2.31495008  2.23349256  8.72979237 24.21477921]   cond. #: N = 5.96e+10   H = 1.02e+10\n",
      "[-2.30846819  2.275386    8.72615377 24.94386915]   cond. #: N = 5.96e+10   H = 1.01e+10\n",
      "\n",
      " i = 5     R = 1.0   V0 = [24.0, 22.0, 20.0, 18.0, 16.0]\n",
      "[-2.31498937  1.53225461  5.18918833 14.80814986 38.12354908]   cond. #: N = 1.57e+13   H = 2.47e+12\n",
      "[-2.31153379  1.5276504   5.36490851 14.80434973 39.1469337 ]   cond. #: N = 1.57e+13   H = 2.46e+12\n"
     ]
    }
   ],
   "source": [
    "# Make an array of square wells, specified by an array of parameters\n",
    "mu = 1\n",
    "num_pts = 4000\n",
    "r_max = 20.\n",
    "gauss_pts = 48\n",
    "\n",
    "sw_params_array = np.array([[24., 1], [22., 1], [20., 1], [18., 1], [16., 1]])  \n",
    "\n",
    "sw_array = [SquareWell(V0, R, mu, num_pts=num_pts, gauss_pts=gauss_pts,\n",
    "                       r_max=r_max) for \n",
    "             (V0, R) in sw_params_array]\n",
    "\n",
    "# Make an EVC object\n",
    "my_evc = EigenvectorContinuationScattering(sw_array)\n",
    "\n",
    "test_V0 = 5.\n",
    "test_R = 1.\n",
    "test_mu = 1.\n",
    "\n",
    "test_theta = [test_V0, test_R]\n",
    "test_sw = SquareWell(test_V0, test_R, test_mu, num_pts=num_pts, \n",
    "                     gauss_pts=gauss_pts, r_max=r_max)\n",
    "print(f'exact energy = {test_sw.E0}')\n",
    "\n",
    "print(f'Results first for Simpsons rule and then Gauss quadrature')\n",
    "for i in np.arange(1, len(sw_array)+1):\n",
    "    print(f'\\n i = {i}',\n",
    "          f'    R = {sw_array[0].R}',\n",
    "          f'  V0 = {[sw.V0 for sw in sw_array[0:i]]}')\n",
    "    eigvals = my_evc.find_EVC(i, test_theta)\n",
    "    print(f'{eigvals}',\n",
    "          f'  cond. #: N = {my_evc.N_cond_num:.2e}',\n",
    "          f'  H = {my_evc.H_cond_num:.2e}')\n",
    "    #print(f'\\n gaussian quadrature')\n",
    "    eigvals = my_evc.find_EVC_gauss(i, test_theta)\n",
    "    print(f'{eigvals}',\n",
    "          f'  cond. #: N = {my_evc.N_cond_num:.2e}',\n",
    "          f'  H = {my_evc.H_cond_num:.2e}')\n"
   ]
  },
  {
   "cell_type": "code",
   "execution_count": 34,
   "metadata": {
    "scrolled": true
   },
   "outputs": [
    {
     "data": {
      "text/plain": [
       "array([[1.        , 0.99992509, 0.9996536 , 0.99908617, 0.99806185],\n",
       "       [0.99992509, 1.        , 0.9999008 , 0.99953403, 0.99874706],\n",
       "       [0.9996536 , 0.9999008 , 1.        , 0.99986471, 0.99935205],\n",
       "       [0.99908617, 0.99953403, 0.99986471, 1.        , 0.99980869],\n",
       "       [0.99806185, 0.99874706, 0.99935205, 0.99980869, 1.        ]])"
      ]
     },
     "execution_count": 34,
     "metadata": {},
     "output_type": "execute_result"
    }
   ],
   "source": [
    "my_evc.N_ij(5)"
   ]
  },
  {
   "cell_type": "code",
   "execution_count": 35,
   "metadata": {
    "scrolled": true
   },
   "outputs": [
    {
     "data": {
      "text/plain": [
       "array([[1.        , 0.99992509, 0.9996536 , 0.99908617, 0.99806185],\n",
       "       [0.99992509, 1.        , 0.9999008 , 0.99953403, 0.99874706],\n",
       "       [0.9996536 , 0.9999008 , 1.        , 0.99986471, 0.99935205],\n",
       "       [0.99908617, 0.99953403, 0.99986471, 1.        , 0.99980869],\n",
       "       [0.99806185, 0.99874706, 0.99935205, 0.99980869, 1.        ]])"
      ]
     },
     "execution_count": 35,
     "metadata": {},
     "output_type": "execute_result"
    }
   ],
   "source": [
    "my_evc.N_ij_gauss(5)"
   ]
  },
  {
   "cell_type": "code",
   "execution_count": 36,
   "metadata": {},
   "outputs": [
    {
     "data": {
      "text/plain": [
       "array([[-20.25803771, -20.25707187, -20.25216499, -20.24131203,\n",
       "        -20.22126306],\n",
       "       [-20.25707187, -20.25642265, -20.25187253, -20.24142767,\n",
       "        -20.22185427],\n",
       "       [-20.25216499, -20.25187253, -20.24772297, -20.23773458,\n",
       "        -20.2186911 ],\n",
       "       [-20.24131203, -20.24142767, -20.23773458, -20.22826429,\n",
       "        -20.20981975],\n",
       "       [-20.22126306, -20.22185427, -20.2186911 , -20.20981975,\n",
       "        -20.19206459]])"
      ]
     },
     "execution_count": 36,
     "metadata": {},
     "output_type": "execute_result"
    }
   ],
   "source": [
    "my_evc.H_ij(5,[24., 1])"
   ]
  },
  {
   "cell_type": "code",
   "execution_count": 37,
   "metadata": {},
   "outputs": [
    {
     "data": {
      "text/plain": [
       "array([[-20.25803771, -20.25652013, -20.25102029, -20.23952525,\n",
       "        -20.2187746 ],\n",
       "       [-20.25652013, -20.25528105, -20.25009618, -20.238963  ,\n",
       "        -20.21863628],\n",
       "       [-20.25102029, -20.25009618, -20.24526608, -20.23453873,\n",
       "        -20.21468536],\n",
       "       [-20.23952525, -20.238963  , -20.23453873, -20.22427351,\n",
       "        -20.20495659],\n",
       "       [-20.2187746 , -20.21863628, -20.21468536, -20.20495659,\n",
       "        -20.18625929]])"
      ]
     },
     "execution_count": 37,
     "metadata": {},
     "output_type": "execute_result"
    }
   ],
   "source": [
    "my_evc.H_ij_gauss(5,[24., 1])"
   ]
  },
  {
   "cell_type": "code",
   "execution_count": 38,
   "metadata": {
    "scrolled": false
   },
   "outputs": [
    {
     "name": "stdout",
     "output_type": "stream",
     "text": [
      "exact energy = -0.7814787638827644\n",
      "Results first for Simpsons rule and then Gauss quadrature\n",
      "\n",
      " i = 1     R = 1.0   V0 = [7.0]\n",
      "[-0.4744397]   cond. #: N = 1.00e+00   H = 1.00e+00\n",
      "[-0.47939493]   cond. #: N = 1.00e+00   H = 1.00e+00\n",
      "\n",
      " i = 2     R = 1.0   V0 = [7.0, 6.0]\n",
      "[-0.75980523  3.08639653]   cond. #: N = 1.87e+03   H = 2.15e+02\n",
      "[-0.75791982  3.10044158]   cond. #: N = 1.87e+03   H = 2.19e+02\n",
      "\n",
      " i = 3     R = 1.0   V0 = [7.0, 6.0, 5.0]\n",
      "[-0.7795379   1.25533932  5.45975008]   cond. #: N = 4.61e+05   H = 1.06e+05\n",
      "[-0.78002261  1.25747858  5.51115373]   cond. #: N = 4.61e+05   H = 1.06e+05\n",
      "\n",
      " i = 4     R = 1.0   V0 = [7.0, 6.0, 5.0, 4.0]\n",
      "[-0.78175839  0.51296682  2.66881868  7.38893021]   cond. #: N = 2.52e+07   H = 7.76e+06\n",
      "[-0.78144144  0.51162894  2.66893067  7.4841935 ]   cond. #: N = 2.52e+07   H = 7.80e+06\n",
      "\n",
      " i = 5     R = 1.0   V0 = [7.0, 6.0, 5.0, 4.0, 8.0]\n",
      "[-0.78187931  0.35043184  1.60802036  4.8507888  10.91728982]   cond. #: N = 4.13e+09   H = 1.01e+09\n",
      "[-0.78147208  0.3515364   1.6077766   4.84401265 11.11386098]   cond. #: N = 4.13e+09   H = 1.00e+09\n"
     ]
    }
   ],
   "source": [
    "# Make an array of square wells, specified by an array of parameters\n",
    "mu = 1\n",
    "num_pts = 4000\n",
    "r_max = 20.\n",
    "gauss_pts = 48\n",
    "\n",
    "sw_params_array = np.array([[7., 1.], [6., 1.], [5., 1.], [4., 1.], [8., 1.]])  \n",
    "\n",
    "sw_array = [SquareWell(V0, R, mu, num_pts=num_pts, gauss_pts=gauss_pts,\n",
    "                       r_max=r_max) for \n",
    "             (V0, R) in sw_params_array]\n",
    "\n",
    "# Make an EVC object\n",
    "my_evc = EigenvectorContinuationScattering(sw_array)\n",
    "\n",
    "test_V0 = 3.\n",
    "test_R = 1.\n",
    "test_mu = 1.\n",
    "\n",
    "test_theta = [test_V0, test_R]\n",
    "test_sw = SquareWell(test_V0, test_R, test_mu, num_pts=num_pts, \n",
    "                     gauss_pts=gauss_pts, r_max=r_max)\n",
    "print(f'exact energy = {test_sw.E0}')\n",
    "\n",
    "print(f'Results first for Simpsons rule and then Gauss quadrature')\n",
    "for i in np.arange(1, len(sw_array)+1):\n",
    "    print(f'\\n i = {i}',\n",
    "          f'    R = {sw_array[0].R}',\n",
    "          f'  V0 = {[sw.V0 for sw in sw_array[0:i]]}')\n",
    "    eigvals = my_evc.find_EVC(i, test_theta)\n",
    "    print(f'{eigvals}',\n",
    "          f'  cond. #: N = {my_evc.N_cond_num:.2e}',\n",
    "          f'  H = {my_evc.H_cond_num:.2e}')\n",
    "    #print(f'\\n gaussian quadrature')\n",
    "    eigvals = my_evc.find_EVC_gauss(i, test_theta)\n",
    "    print(f'{eigvals}',\n",
    "          f'  cond. #: N = {my_evc.N_cond_num:.2e}',\n",
    "          f'  H = {my_evc.H_cond_num:.2e}')\n"
   ]
  },
  {
   "cell_type": "code",
   "execution_count": 39,
   "metadata": {},
   "outputs": [
    {
     "data": {
      "text/plain": [
       "array([[1.        , 0.99892828, 0.99417084, 0.98085107, 0.99933967],\n",
       "       [0.99892828, 1.        , 0.99808419, 0.98869493, 0.99659405],\n",
       "       [0.99417084, 0.99808419, 1.        , 0.99603559, 0.98964657],\n",
       "       [0.98085107, 0.98869493, 0.99603559, 1.        , 0.9733523 ],\n",
       "       [0.99933967, 0.99659405, 0.98964657, 0.9733523 , 1.        ]])"
      ]
     },
     "execution_count": 39,
     "metadata": {},
     "output_type": "execute_result"
    }
   ],
   "source": [
    "my_evc.N_ij_gauss(5)"
   ]
  },
  {
   "cell_type": "code",
   "execution_count": 40,
   "metadata": {},
   "outputs": [
    {
     "data": {
      "text/plain": [
       "array([[-0.47939493, -0.52509835, -0.58175814, -0.65265727, -0.44189309],\n",
       "       [-0.52509835, -0.56465786, -0.61374484, -0.67514625, -0.49267421],\n",
       "       [-0.58175814, -0.61374484, -0.65337537, -0.70271689, -0.55552672],\n",
       "       [-0.65265727, -0.67514625, -0.70271689, -0.73634278, -0.63408849],\n",
       "       [-0.44189309, -0.49267421, -0.55552672, -0.63408849, -0.40015827]])"
      ]
     },
     "execution_count": 40,
     "metadata": {},
     "output_type": "execute_result"
    }
   ],
   "source": [
    "my_evc.H_ij_gauss(5,[3., 1])"
   ]
  },
  {
   "cell_type": "code",
   "execution_count": null,
   "metadata": {},
   "outputs": [],
   "source": []
  }
 ],
 "metadata": {
  "kernelspec": {
   "display_name": "Python 3 (ipykernel)",
   "language": "python",
   "name": "python3"
  },
  "language_info": {
   "codemirror_mode": {
    "name": "ipython",
    "version": 3
   },
   "file_extension": ".py",
   "mimetype": "text/x-python",
   "name": "python",
   "nbconvert_exporter": "python",
   "pygments_lexer": "ipython3",
   "version": "3.8.12"
  }
 },
 "nbformat": 4,
 "nbformat_minor": 4
}
