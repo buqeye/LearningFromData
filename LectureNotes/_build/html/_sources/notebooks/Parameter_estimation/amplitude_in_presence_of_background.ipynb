{
 "cells": [
  {
   "cell_type": "markdown",
   "metadata": {
    "slideshow": {
     "slide_type": "slide"
    }
   },
   "source": [
    "# Amplitude of a signal in the presence of background\n",
    "\n",
    "Adapted from the discussion in Section 3.1 of Sivia and Skilling, *Data Analysis: A Bayesian Tutorial*.\n",
    "\n",
    "The goal is to estimate the amplitude of a signal when there is background.  We'll take a limiting case where the background is flat, so it is completely specified by its magnitude $B > 0$, and the signal is known to be a Gaussian with unknown amplitude $A$ but (at least initially) known position (mean) and width (standard deviation). The measurements will be integer numbers of counts $\\{N_k\\}$ in well-defined (equally spaced) bins $\\{x_k\\}$, where $k$ runs over integers labeling the bins.  Then the goal translates into finding $A$ and $B$ given $\\{N_k\\}$ and all the other information (bin sizes, signal position and width). After we can modify our goal if we do not care about $B$, or we care only about $B$."
   ]
  },
  {
   "cell_type": "code",
   "execution_count": null,
   "metadata": {
    "slideshow": {
     "slide_type": "slide"
    }
   },
   "outputs": [],
   "source": [
    "%matplotlib inline  \n",
    "\n",
    "import numpy as np\n",
    "from math import factorial\n",
    "\n",
    "# We'll get our uniform distributions from stats, but there are other ways.\n",
    "import scipy.stats as stats  \n",
    "import scipy.integrate as integrate\n",
    "from scipy import interpolate\n",
    "\n",
    "import matplotlib.pyplot as plt\n",
    "import seaborn as sns; sns.set() \n",
    "\n",
    "from mpl_toolkits import mplot3d\n",
    "from matplotlib import cm\n",
    "\n",
    "plt.rcParams.update({'font.size': 16})"
   ]
  },
  {
   "cell_type": "markdown",
   "metadata": {
    "slideshow": {
     "slide_type": "slide"
    }
   },
   "source": [
    "Set up the true signal plus background magnitudes, and the other parameters dictating the signal (width $w$ and mean $x_0$ of the Gaussian):\n",
    "\n",
    "$$\n",
    "   D_k = n_0 \\left[ A e^{-(x_k-x_0)^2/2 w^2} + B \\right]\n",
    "$$\n",
    "\n",
    "Here $n_0$ is a constant that scales with measurement time.  Note that $D_k$ is not an integer in general, unlike $N_k$."
   ]
  },
  {
   "cell_type": "code",
   "execution_count": null,
   "metadata": {
    "slideshow": {
     "slide_type": "fragment"
    }
   },
   "outputs": [],
   "source": [
    "# We'll start with the numbers used by Sivia\n",
    "A_true = 1.\n",
    "B_true = 2.\n",
    "width = np.sqrt(5.)   \n",
    "x_0 = 0\n",
    "\n",
    "def exact_data(A, B, n_0, x_k, x_0=0., width=np.sqrt(5.)):\n",
    "    \"\"\"\n",
    "    Return the exact signal plus background.  The overall scale is n_0,\n",
    "    which is determined by how long counts are collected. \n",
    "    \"\"\"\n",
    "    return n_0 * (A * np.exp(-(x_k - x_0)**2/(2.*width**2)) + B)"
   ]
  },
  {
   "cell_type": "markdown",
   "metadata": {
    "slideshow": {
     "slide_type": "slide"
    }
   },
   "source": [
    "Make a plot of the true signal plus background we are trying to deduce."
   ]
  },
  {
   "cell_type": "code",
   "execution_count": null,
   "metadata": {
    "slideshow": {
     "slide_type": "fragment"
    }
   },
   "outputs": [],
   "source": [
    "x_min = -10.; x_max = 10.; del_x = 0.1  # range and spacing for plotting\n",
    "x_pts = np.arange(x_min, x_max, del_x )\n",
    "\n",
    "n_0 = 1.  # for this plot, the vertical scale is irrelevant\n",
    "y_pts = exact_data(A_true, B_true, n_0, x_pts, width=width)\n",
    "\n",
    "fig_true = plt.figure(figsize=(10,5))\n",
    "\n",
    "ax_true = fig_true.add_subplot(1,1,1)\n",
    "ax_true.plot(x_pts, B_true*np.ones(len(x_pts)), \n",
    "             color='red', linestyle='--')  # just the background\n",
    "ax_true.plot(x_pts, y_pts, color='blue')   # signal plus background\n",
    "ax_true.set_ylim(0., 1.2*(A_true + B_true))\n",
    "ax_true.set_xlabel(r'$x$')\n",
    "\n",
    "ax_true.annotate('A', xy=(x_0 + 0.2, A_true/2. + B_true))  \n",
    "ax_true.annotate('', (x_0, B_true + A_true), (x_0, B_true), \n",
    "                 arrowprops=dict(facecolor='black', shrink=0.))\n",
    "ax_true.annotate('B', xy=(-x_max + 0.2, B_true/2.)) \n",
    "ax_true.annotate('', (-x_max, B_true), (-x_max, 0), \n",
    "                 arrowprops=dict(facecolor='black', shrink=0.))\n",
    "\n",
    "fig_true.tight_layout()"
   ]
  },
  {
   "cell_type": "markdown",
   "metadata": {
    "slideshow": {
     "slide_type": "slide"
    }
   },
   "source": [
    "## Poisson distribution"
   ]
  },
  {
   "cell_type": "markdown",
   "metadata": {
    "slideshow": {
     "slide_type": "fragment"
    }
   },
   "source": [
    "We are imagining a counting experiment, so the statistics of the counts we record will follow a Poisson distribution.\n",
    "Comments on Poisson distributions for this application:\n",
    "* Counts are integers so we want a probability *mass* function (rather than a probability *density* function), i.e., the probability to get 0, 1, 2, $\\ldots$ counts in a specified time interval (and not 1/2 or 4.5 counts).\n",
    "* The Poisson distribution does this: the probability of a given number of events (like counts) in a fixed interval (or time or space or whatever) *if* there is a constant mean rate of events and the spacing of successive events is independent of the previous events.\n",
    "* A familiar example is radioactive decay: a Poisson distribution describes the # of counts in an hour (say) and the constant mean rate is specified by the half life.\n",
    "* There is a derivation of the Poisson distribution in chapter 5 of Sivia.\n",
    "\n",
    "The Poisson discrete random variable from scipy.stats is defined by (see [documentation](https://docs.scipy.org/doc/scipy/reference/generated/scipy.stats.poisson.html))\n",
    "\n",
    "$$\n",
    "p(k \\mid \\mu) = \\frac{\\mu^k e^{-\\mu}}{k!} \\quad \\mbox{for }k\\geq 0 \\;.\n",
    "$$\n",
    "\n",
    "where $k$ is an integer and $\\mu$ is called the shape parameter. The mean and variance of this distribution are both equal to $\\mu$. Sivia and Gregory each use a different notation for for this distribution, which means you should be flexible. \n",
    "\n"
   ]
  },
  {
   "cell_type": "markdown",
   "metadata": {
    "slideshow": {
     "slide_type": "subslide"
    }
   },
   "source": [
    "For convenience in comparing to the discussion in Sivia's text, we'll define our own version using his notation in this notebook:\n",
    "\n",
    "$$\n",
    "p(N \\mid D) = \\frac{D^N e^{-D}}{N!} \\quad \\mbox{for }N\\geq 0 \\;.\n",
    "$$\n",
    "\n",
    "where $N$ is an integer.  The results for the normalization, mean, and variance are:\n",
    "\n",
    "\\begin{align}\n",
    " \\langle 1 \\rangle &= \\sum_0^\\infty p(N \\mid D) = 1 \\\\\n",
    "  \\langle N \\rangle &= \\sum_0^\\infty N p(N \\mid D) = D \\\\\n",
    "  \\langle N^2 \\rangle - \\langle N \\rangle^2 &= \\sum_0^\\infty N^2 p(N \\mid D) - D^2 = D \n",
    "\\end{align}\n",
    "\n",
    "as already noted.  (These are easily verified with Mathematica.  Can you verify them with sympy?)"
   ]
  },
  {
   "cell_type": "code",
   "execution_count": null,
   "metadata": {
    "slideshow": {
     "slide_type": "subslide"
    }
   },
   "outputs": [],
   "source": [
    "def poisson(N, D):\n",
    "    \"\"\"\n",
    "    Returns a Poisson distribution value with mean D for integer N.\n",
    "    We require N to be an integer greater than equal to zero.\n",
    "    \"\"\"\n",
    "    assert (isinstance(N, int) and N >= 0), \\\n",
    "            \"N must be a non-negative integer!\"\n",
    "\n",
    "    return D**N * np.exp(-D) / factorial(N) "
   ]
  },
  {
   "cell_type": "markdown",
   "metadata": {
    "slideshow": {
     "slide_type": "slide"
    }
   },
   "source": [
    "\n",
    "Make some plots of Poisson distribution as a function of N, given D.\n"
   ]
  },
  {
   "cell_type": "code",
   "execution_count": null,
   "metadata": {
    "slideshow": {
     "slide_type": "fragment"
    }
   },
   "outputs": [],
   "source": [
    "def poisson_plot(ax, D, max_N):\n",
    "    \"\"\"\n",
    "    Make a bar plot on the axis ax of the Poisson distribution for mu = D\n",
    "    and out to a maximum integer max_N.\n",
    "    \"\"\"\n",
    "    N_pts = np.arange(0, max_N, 1, dtype=int)\n",
    "    poisson_pts = [poisson(int(N), D) for N in N_pts]\n",
    "    ax.bar(N_pts, poisson_pts, width=0.8, bottom=None, align='center')\n",
    "    ax.set_xlabel(r'Number of counts $N$')\n",
    "    ax.set_ylabel(fr'$\\mathrm{{p}}(N \\mid D={D:.1f})$')\n",
    "    ax.set_title(rf'$D = {D:.1f}$')\n",
    "    return 0\n",
    "\n",
    "fig = plt.figure(figsize=(15,5))\n",
    "\n",
    "D1 = 1.7\n",
    "max_N1 = 9\n",
    "ax1 = fig.add_subplot(1,2,1)\n",
    "poisson_plot(ax1, D1, max_N1)\n",
    "\n",
    "ax2 = fig.add_subplot(1,2,2)\n",
    "D2 = 12.5\n",
    "max_N2 = 30\n",
    "poisson_plot(ax2, D2, max_N2)\n",
    "\n",
    "fig.tight_layout()"
   ]
  },
  {
   "cell_type": "markdown",
   "metadata": {
    "slideshow": {
     "slide_type": "slide"
    }
   },
   "source": [
    "### Follow-ups\n",
    "\n",
    "* *Try both smaller and larger values of D and note the transition in the form of the pdf.*\n",
    "* At $D=12.5$ the pdf is already looking like a Gaussian (or what most of us imagine a Gaussian to look like).  *Prove that in the limit $D \\rightarrow \\infty$ that* \n",
    "\n",
    "$$\n",
    " p(N \\mid D) \\stackrel{D\\rightarrow\\infty}{\\longrightarrow} \\frac{1}{\\sqrt{2\\pi D}}e^{-(N-D)^2/(2D)}\n",
    "$$\n",
    "\n",
    "You'll want to use Stirling's formula:  $x! \\rightarrow \\sqrt{2\\pi x}e^{-x} x^x$ as $x\\rightarrow\\infty$.\n",
    "(Hint: let $x = N = D(1+\\delta)$ where $D\\gg 1$ and $\\delta \\ll 1$.  And use $(1+\\delta)^a = e^{a\\ln (1+\\delta)}$.)\n",
    "* *Show that this limit works in practice and visualize how close it is by adding the Gaussian pdf to the plot.* (See [scipy.stats.norm](https://docs.scipy.org/doc/scipy/reference/generated/scipy.stats.norm.html) or define a function yourself.)"
   ]
  },
  {
   "cell_type": "markdown",
   "metadata": {
    "slideshow": {
     "slide_type": "slide"
    }
   },
   "source": [
    "### Preparing data and the pdfs we'll need\n",
    "For our data, we can get single samples from a scipy.stats Poisson distribution with specified $\\mu$ (what we are calling $D$) or an array of samples.  Try running the next cell a few times to get a feel for how the samples fluctuate."
   ]
  },
  {
   "cell_type": "code",
   "execution_count": null,
   "metadata": {
    "slideshow": {
     "slide_type": "fragment"
    }
   },
   "outputs": [],
   "source": [
    "S1 = stats.poisson.rvs(mu=D2)  # sample one Poisson-distributed random number \n",
    "print(S1)\n",
    "\n",
    "S2 = stats.poisson.rvs(mu=D2, size=5)  # sample an array of specified size\n",
    "print(S2)"
   ]
  },
  {
   "cell_type": "markdown",
   "metadata": {
    "slideshow": {
     "slide_type": "subslide"
    }
   },
   "source": [
    "Once we specify the number and size of the bins for data (and other aspects), we can create a dataset and then make a series of plots as in Sivia.  So define functions to carry these out.\n",
    "\n",
    "Each of the data $\\{N_k\\}$ is assumed to be independent of the others, so for $M$ bins:\n",
    "\n",
    "$$\n",
    "  p(\\{N_k\\} \\mid A,B,I) = \\prod_{k=1}^{M} p(N_k \\mid A,B,I)\n",
    "   = \\prod_{k=1}^{M} \\frac{D_k^{N_k} e^{-D_k}}{N_k!}\n",
    "$$\n",
    "\n",
    "We use this to make the measured dataset based on `A_true` and `B_true`.  This is also what we use to calculate the log likelihood (natural logarithm of this likelihood function), but in that case $A$ and $B$ are not equal to their true values.  We also define a (flat) prior that is *supposed* to be uninformative (*but is it?*)."
   ]
  },
  {
   "cell_type": "code",
   "execution_count": null,
   "metadata": {
    "slideshow": {
     "slide_type": "subslide"
    }
   },
   "outputs": [],
   "source": [
    "# make a dataset for exploring\n",
    "def make_dataset(A_true, B_true, width, x_0, databins, delta_x=1, D_max=100):\n",
    "    \"\"\"\n",
    "    Create a data set based on the number of bins (databins), the spacing\n",
    "    of bins (delta_x), and the maximum we want the exact result to have\n",
    "    (D_max, this fixes the n_0 parameter).\n",
    "    \n",
    "    Return arrays for the x points (xk_pts), the corresponding values of the\n",
    "    exact signal plus background in those bins (Dk_pts), the measured values\n",
    "    in those bins (Nk_pts, integers drawn from a Poisson distribution), the \n",
    "    maximum extent of the bins (x_max) and n_0.\n",
    "    \"\"\"\n",
    "    \n",
    "    # set up evenly spaced bins, centered on x_0\n",
    "    x_max = x_0 + delta_x * (databins-1)/2\n",
    "    xk_pts = np.arange(-x_max, x_max + delta_x, delta_x, dtype=int)\n",
    "    \n",
    "    # scale n_0 so maximum of the \"true\" signal plus background is D_max\n",
    "    n_0 = D_max / (A_true + B_true)  \n",
    "    Dk_pts = exact_data(A_true, B_true, n_0, xk_pts, width=width)\n",
    "    \n",
    "    # sample for each k to determine the measured N_k\n",
    "    Nk_pts = [stats.poisson.rvs(mu=Dk) for Dk in Dk_pts]\n",
    "    \n",
    "    return xk_pts, Dk_pts, Nk_pts, x_max, n_0"
   ]
  },
  {
   "cell_type": "code",
   "execution_count": null,
   "metadata": {
    "slideshow": {
     "slide_type": "subslide"
    }
   },
   "outputs": [],
   "source": [
    "# Define the pdfs and combine with Bayes' theorem.\n",
    "def log_prior(A, B):\n",
    "    \"\"\"\n",
    "    Following Sivia's lead, we take a uniform (flat) prior with large enough\n",
    "    maximums but, more importantly, require positive values for A and B.\n",
    "    \"\"\"\n",
    "    A_max = 5.\n",
    "    B_max = 5.\n",
    "    # flat prior \n",
    "    if np.logical_and(A <= A_max, B <= B_max).all(): \n",
    "        return np.log(1/(A_max * B_max))\n",
    "    else:\n",
    "        return -np.inf\n",
    "\n",
    "def log_likelihood(A, B, xk_pts, Nk_pts, n_0):\n",
    "    \"\"\"Log likelihood for data Nk_pts given A and B\"\"\"\n",
    "    Dk_pts = exact_data(A, B, n_0, xk_pts, width=width)\n",
    "    try:\n",
    "        return np.sum(Nk_pts * np.log(Dk_pts) - Dk_pts)\n",
    "    except ValueError:\n",
    "        return -np.inf\n",
    "    \n",
    "def log_posterior(A, B, xk_pts, Nk_pts, n_0):\n",
    "    \"\"\"Log posterior for data Nk_pts given A and B\"\"\"\n",
    "    return log_prior(A, B) + log_likelihood(A, B, xk_pts, Nk_pts, n_0)\n",
    "\n",
    "def normalize(y_pts, x_pts):\n",
    "    \"\"\"Normalize the array y_pts to unity using Simpson's rule.\"\"\"\n",
    "    return y_pts / integrate.simps(y_pts, x_pts)\n",
    "\n",
    "def find_index(x_pts, x_value):\n",
    "    \"\"\"Return the index of the element of the ascending array x_pts that\n",
    "       is closest to x_value.\n",
    "    \"\"\"\n",
    "    return np.fabs(x_pts - x_value).argmin()\n"
   ]
  },
  {
   "cell_type": "markdown",
   "metadata": {
    "slideshow": {
     "slide_type": "slide"
    }
   },
   "source": [
    "### Figures to analyze!\n",
    "\n",
    "We'll follow Sivia again and make four figures for each case we consider.  (He does this in two groups of two, in figures 3.3 and 3.4.) We consider what happens for fixed signal and background but changing the experimental conditions specified by `D_max` and `databins` (we'll keep `delta_x` fixed to 1)."
   ]
  },
  {
   "cell_type": "code",
   "execution_count": null,
   "metadata": {
    "slideshow": {
     "slide_type": "fragment"
    }
   },
   "outputs": [],
   "source": [
    "def find_contour_levels(grid):\n",
    "    \"\"\"Compute 1, 2, 3-sigma contour levels for a gridded 2D posterior\n",
    "       Note: taken from BayesianAstronomy but may not work here.\n",
    "    \"\"\"\n",
    "    sorted_ = np.sort(grid.ravel())[::-1]\n",
    "    pct = np.cumsum(sorted_) / np.sum(sorted_)\n",
    "    cutoffs = np.searchsorted(pct, np.array([0.68, 0.95, 0.997]) ** 2)\n",
    "    return np.sort(sorted_[cutoffs])\n",
    "\n",
    "def make_figs(databins, delta_x, D_max, flag=False):\n",
    "    \"\"\"\n",
    "    If flag=True, generate another panel of four figures that shows 2. three\n",
    "    times (contour, shaded contour, 3D) plus showing 68% and 95% intervals.\n",
    "    Make a panel of four figures:\n",
    "      1. The data based on sampling the Poisson distribution.  If you rerun\n",
    "          the function you'll get new data.\n",
    "      2. The posterior pdf for the amplitude A of the signal and the magnitude\n",
    "          B of the (flat) background.  Five equally spaced contours are shown.\n",
    "      3. Posterior for A for two cases: i) marginalized over B, and \n",
    "          ii) conditional on known B = B_true.\n",
    "      4. Posterior for B marginaized over A.\n",
    "    If flag=True, generate another panel of four figures that shows 2. three\n",
    "    times (contour, shaded contour, 3D) plus showing 68% and 95% intervals.\n",
    "    \"\"\"\n",
    "    xk_pts, Dk_pts, Nk_pts, x_max, n_0 = make_dataset(A_true, B_true, width, \n",
    "                                                      x_0, databins, delta_x, \n",
    "                                                      D_max)\n",
    "    total_counts = np.sum(Nk_pts)\n",
    "    \n",
    "    # Figure 1.\n",
    "    fig = plt.figure(figsize=(12,10))\n",
    "    \n",
    "    ax1 = fig.add_subplot(2,2,1)\n",
    "    ax1.plot(xk_pts, Nk_pts, drawstyle='steps-mid', color='blue')\n",
    "    ax1.set_xlim(-x_max, x_max)\n",
    "    ax1.set_ylim(bottom = 0)\n",
    "    ax1.set_xlabel(r'Measurement variable $x$')\n",
    "    ax1.set_ylabel(r'Number of counts $N$')\n",
    "    \n",
    "    # Figure 2.  Can use contour or contourf.\n",
    "    A_max = 3.; B_max = 3.\n",
    "    A_pts = np.arange(0.01, A_max, .02)  # You may want to adjust the density\n",
    "    B_pts = np.arange(0.01, B_max, .02)  #  of points used.\n",
    "    A_grid, B_grid = np.meshgrid(A_pts, B_pts)    \n",
    "\n",
    "    # Z_grid = Z(B, A) the way we define it here with a list comprehension.\n",
    "    Z_grid = np.array([[log_posterior(A, B, xk_pts, Nk_pts, n_0) \n",
    "                        for A in A_pts] for B in B_pts])\n",
    "    Z_grid = np.exp(Z_grid - np.max(Z_grid))  # normalize the peak to be 1\n",
    "    ax2 = fig.add_subplot(2,2,2)\n",
    "    ax2.axvline(A_true, color='gray', linestyle='--', alpha=0.8)\n",
    "    ax2.axhline(B_true, color='gray', linestyle='--', alpha=0.8)\n",
    "\n",
    "    ax2.contourf(A_grid, B_grid, Z_grid, levels=5, cmap='jet') \n",
    "    ax2.set_xlim(0., A_max)\n",
    "    ax2.set_ylim(0., B_max)\n",
    "    ax2.set_xlabel(r'Amplitude $A$')\n",
    "    ax2.set_ylabel(r'Background $B$')\n",
    "    \n",
    "    # Figure 3.\n",
    "    ax3 = fig.add_subplot(2,2,3) \n",
    "    B_true_index = find_index(B_pts, B_true)\n",
    "    B_marginalized = [integrate.simps(Z_grid[:,i], B_pts) \\\n",
    "                                      for i in range(len(A_pts))]\n",
    "    B_marginalized = normalize(B_marginalized, A_pts)\n",
    "    B_true_fixed = Z_grid[B_true_index,:]\n",
    "    B_true_fixed = normalize(B_true_fixed, A_pts)\n",
    "    ax3.plot(A_pts, B_marginalized, color='blue', \n",
    "             label='marginalized over B')\n",
    "    ax3.plot(A_pts, B_true_fixed, color='red', \n",
    "             linestyle='--', label='B = B_true')\n",
    "    ax3.set_xlabel(r'Amplitude $A$')\n",
    "    ax3.set_ylabel(r'${\\rm p}(A | \\{N_k\\}, I)$')\n",
    "    ax3.legend()\n",
    "    \n",
    "    # Figure 4.\n",
    "    ax4 = fig.add_subplot(2,2,4)\n",
    "    A_marginalized = [integrate.simps(Z_grid[j,:], A_pts) \\\n",
    "                                      for j in range(len(B_pts))]\n",
    "    A_marginalized = normalize(A_marginalized, B_pts)\n",
    "    ax4.plot(B_pts, A_marginalized, color='blue',\n",
    "             label='marginalized over A')\n",
    "    ax4.set_xlabel(r'Background $B$')\n",
    "    ax4.set_ylabel(r'${\\rm p}(B|\\{N_k\\}, I)$')\n",
    "    ax4.legend()\n",
    "    \n",
    "    overall_title = f'Total counts = {total_counts},  ' \\\n",
    "                    + f'# of bins = {databins}' \\\n",
    "                    + '\\n'\n",
    "    fig.suptitle(overall_title, y=1.01)\n",
    "    \n",
    "    fig.tight_layout()\n",
    "    \n",
    "    if (flag):\n",
    "        fig2 = plt.figure(figsize=(12,10))\n",
    "        # Figure 1.\n",
    "        ax2_1 = fig2.add_subplot(2,2,1)\n",
    "        contour_levels = [0.2, 0.4, 0.6, 0.8, 1.0]\n",
    "        ax2_1.contour(A_grid, B_grid, Z_grid, levels=contour_levels)\n",
    "        ax2_1.axvline(A_true, color='gray', linestyle='--', alpha=0.8)\n",
    "        ax2_1.axhline(B_true, color='gray', linestyle='--', alpha=0.8)\n",
    "        ax2_1.set_xlim(0., A_max)\n",
    "        ax2_1.set_ylim(0., B_max)\n",
    "        ax2_1.set_xlabel(r'Amplitude $A$')\n",
    "        ax2_1.set_ylabel(r'Background $B$')\n",
    "        ax2_1.set_title('Contour plot with levels 0.2, 0.4, 0.6, 0.8, 1.0')\n",
    "        \n",
    "        # Figure 2.\n",
    "        ax2_2 = fig2.add_subplot(2,2,2)\n",
    "        ax2_2.contourf(A_grid, B_grid, Z_grid, levels=5, cmap='jet') \n",
    "        ax2_2.axvline(A_true, color='gray', linestyle='--', alpha=0.8)\n",
    "        ax2_2.axhline(B_true, color='gray', linestyle='--', alpha=0.8)\n",
    "        ax2_2.set_xlim(0., A_max)\n",
    "        ax2_2.set_ylim(0., B_max)\n",
    "        ax2_2.set_xlabel(r'Amplitude $A$')\n",
    "        ax2_2.set_ylabel(r'Background $B$')\n",
    "        ax2_2.set_title('Color contour plot with contourf')\n",
    "        \n",
    "        # Figure 3.\n",
    "        ax2_3 = fig2.add_subplot(2,2,3, projection='3d')\n",
    "        ax2_3.plot_surface(A_grid, B_grid, Z_grid, rstride=1, cstride=1, \n",
    "                           cmap='jet', linewidth=0, antialiased=False,\n",
    "                           edgecolor='none')\n",
    "        ax2_3.set_xlim(0., A_max)\n",
    "        ax2_3.set_ylim(0., B_max)\n",
    "        ax2_3.set_xlabel(r'Amplitude $A$')\n",
    "        ax2_3.set_ylabel(r'Background $B$')\n",
    "        ax2_3.set_title('Surface plot')\n",
    "        \n",
    "        # Figure 4.\n",
    "        ax2_4 = fig2.add_subplot(2,2,4)\n",
    "        ax2_4.contour(A_grid, B_grid, Z_grid, \n",
    "                      levels=find_contour_levels(Z_grid))\n",
    "        ax2_2.axvline(A_true, color='gray', linestyle='--', alpha=0.8)\n",
    "        ax2_2.axhline(B_true, color='gray', linestyle='--', alpha=0.8)\n",
    "        ax2_4.set_xlim(0., A_max)\n",
    "        ax2_4.set_ylim(0., B_max)\n",
    "        ax2_4.set_xlabel(r'Amplitude $A$')\n",
    "        ax2_4.set_ylabel(r'Background $B$')\n",
    "        ax2_4.set_title('Contours at 68%, 95%, 99.7%')\n",
    "        fig2.tight_layout()\n",
    "                \n",
    "    return fig"
   ]
  },
  {
   "cell_type": "markdown",
   "metadata": {
    "slideshow": {
     "slide_type": "slide"
    }
   },
   "source": [
    "Ok, let's do it.  For each of the examples (and more that you invent):\n",
    "\n",
    "* Make sure to run them multiple times to get a feel for the fluctuations. *What features are stable and what varies wildly (will change depending on the example!).*\n",
    "* *Interpret the change in the width of the contours in the different cases.*\n",
    "* *What do the slopes of the posterior ellipses (2nd figures) tell us?  Can you account for the behavior in the different cases?*\n",
    "* *Interpret the difference between the solid and dashed lines in the plots that marginalize over $B$ with two opposite limits of the prior knowledge of $B$ (3rd figures).*\n",
    "* *What are your conclusions for how to design the experiment given limited resources?*\n",
    "* *Follow-up task: check whether the size of the bin matters in the four figures."
   ]
  },
  {
   "cell_type": "code",
   "execution_count": null,
   "metadata": {
    "slideshow": {
     "slide_type": "subslide"
    }
   },
   "outputs": [],
   "source": [
    "# Baseline case: 15 bins and maximum expection of 100 counts.\n",
    "\n",
    "D_max = 100\n",
    "databins = 15\n",
    "delta_x = 1\n",
    "\n",
    "fig = make_figs(databins, delta_x, D_max, flag=True)"
   ]
  },
  {
   "cell_type": "code",
   "execution_count": null,
   "metadata": {
    "slideshow": {
     "slide_type": "slide"
    }
   },
   "outputs": [],
   "source": [
    "# Less data case: 15 bins and maximum expection of only 10 counts.\n",
    "\n",
    "D_max = 10\n",
    "databins = 15\n",
    "delta_x = 1\n",
    "\n",
    "fig = make_figs(databins, delta_x, D_max, flag=True)"
   ]
  },
  {
   "cell_type": "code",
   "execution_count": null,
   "metadata": {
    "slideshow": {
     "slide_type": "slide"
    }
   },
   "outputs": [],
   "source": [
    "# Greater range case: 31 bins (with fixed bin width) \n",
    "# and same maximum expection of 100 counts as in baseline case.\n",
    "\n",
    "D_max = 500\n",
    "databins = 31\n",
    "delta_x = 1\n",
    "\n",
    "fig = make_figs(databins, delta_x, D_max, flag=True)"
   ]
  },
  {
   "cell_type": "code",
   "execution_count": null,
   "metadata": {
    "slideshow": {
     "slide_type": "slide"
    }
   },
   "outputs": [],
   "source": [
    "# Same as baseline and last case except now only 7 bins.\n",
    "\n",
    "D_max = 100\n",
    "databins = 7\n",
    "delta_x = 1\n",
    "\n",
    "fig = make_figs(databins, delta_x, D_max, flag=True)"
   ]
  },
  {
   "cell_type": "code",
   "execution_count": null,
   "metadata": {},
   "outputs": [],
   "source": []
  }
 ],
 "metadata": {
  "kernelspec": {
   "display_name": "Python 3 (ipykernel)",
   "language": "python",
   "name": "python3"
  },
  "language_info": {
   "codemirror_mode": {
    "name": "ipython",
    "version": 3
   },
   "file_extension": ".py",
   "mimetype": "text/x-python",
   "name": "python",
   "nbconvert_exporter": "python",
   "pygments_lexer": "ipython3",
   "version": "3.10.13"
  }
 },
 "nbformat": 4,
 "nbformat_minor": 4
}
