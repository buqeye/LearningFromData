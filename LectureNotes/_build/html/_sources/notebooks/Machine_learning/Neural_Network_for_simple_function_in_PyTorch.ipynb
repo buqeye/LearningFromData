{
 "cells": [
  {
   "cell_type": "markdown",
   "id": "f10d4142-bf08-4340-aa31-556d26559532",
   "metadata": {},
   "source": [
    "# Feed-forward neural network for a function in PyTorch"
   ]
  },
  {
   "cell_type": "markdown",
   "id": "bf8d5f1d-aa07-4dc3-839b-131e3867e43b",
   "metadata": {},
   "source": [
    "See the [PyTorch website](https://pytorch.org/) for tutorials and other documentation. \n",
    "In this notebook we'll rely on ChatGPT 4 to generate code for a PyTorch neural network for a function of a single variable (this particular network is a \"multilayer perceptron\").\n",
    "Other than the questions to ChatGPT, all code and documentation was provided by ChatGPT. (Slight tweaks were made to change the format of the output from training and to increase the range of the trained function to test extrapolation.)"
   ]
  },
  {
   "cell_type": "markdown",
   "id": "a638acf8-55f4-4d0c-8265-e3290402e451",
   "metadata": {},
   "source": [
    "## Installation of PyTorch\n",
    "\n",
    "To install PyTorch via Anaconda, use the following conda command:\n",
    "\n",
    "`conda install pytorch torchvision -c pytorch`\n"
   ]
  },
  {
   "cell_type": "markdown",
   "id": "c5fdb0e9-10be-4f46-bac6-f5e9394fb5f5",
   "metadata": {},
   "source": [
    "### Verification of PyTorch installation (suggested in PyTorch website)"
   ]
  },
  {
   "cell_type": "code",
   "execution_count": 1,
   "id": "5aed2800-5ec1-4f74-b73a-26299edbff07",
   "metadata": {},
   "outputs": [
    {
     "name": "stdout",
     "output_type": "stream",
     "text": [
      "tensor([[0.1644, 0.1825, 0.8797],\n",
      "        [0.3559, 0.9459, 0.7673],\n",
      "        [0.6100, 0.7445, 0.0511],\n",
      "        [0.2605, 0.9417, 0.8078],\n",
      "        [0.4636, 0.3782, 0.6194]])\n"
     ]
    }
   ],
   "source": [
    "import torch\n",
    "x = torch.rand(5, 3)\n",
    "print(x)"
   ]
  },
  {
   "cell_type": "markdown",
   "id": "c359ac0c-8480-4c6a-a1bf-37d5f15ea940",
   "metadata": {},
   "source": [
    "Result should be similar to (but not the same; these are random numbers!):\n",
    "\n",
    "    tensor([[0.3380, 0.3845, 0.3217],\n",
    "            [0.8337, 0.9050, 0.2650],\n",
    "            [0.2979, 0.7141, 0.9069],\n",
    "            [0.1449, 0.1132, 0.1375],\n",
    "            [0.4675, 0.3947, 0.1426]])"
   ]
  },
  {
   "cell_type": "markdown",
   "id": "1df1cba9-add3-4fbe-84a1-ab58c33d4678",
   "metadata": {},
   "source": [
    "## Telling ChatGPT 4 to make a network for a function of one variable"
   ]
  },
  {
   "cell_type": "markdown",
   "id": "8093bb89-d4d5-4279-a3c6-51721e5af86b",
   "metadata": {},
   "source": [
    "**To ChatGPT:** *Write a neural network in PyTorch to learn a function of one variable. It should have three hidden layers, each with a width of 10 neurons.*"
   ]
  },
  {
   "cell_type": "markdown",
   "id": "1c6383b5-7fab-4df2-8861-9bc69173878a",
   "metadata": {},
   "source": [
    "To create a neural network in PyTorch with the specifications you described, we'll first need to import the necessary modules from PyTorch, particularly torch and torch.nn. The network will consist of three hidden layers, each with 10 neurons, and since it's for learning a function of one variable, the input and output layers will each have one neuron.\n",
    "\n",
    "Here’s how you can define such a network using PyTorch:"
   ]
  },
  {
   "cell_type": "code",
   "execution_count": 2,
   "id": "0a3af07b-37b2-49ff-9337-521b975fa117",
   "metadata": {},
   "outputs": [
    {
     "name": "stdout",
     "output_type": "stream",
     "text": [
      "OneVariableNet(\n",
      "  (hidden1): Linear(in_features=1, out_features=10, bias=True)\n",
      "  (hidden2): Linear(in_features=10, out_features=10, bias=True)\n",
      "  (hidden3): Linear(in_features=10, out_features=10, bias=True)\n",
      "  (output): Linear(in_features=10, out_features=1, bias=True)\n",
      "  (activation): Tanh()\n",
      ")\n"
     ]
    }
   ],
   "source": [
    "import torch\n",
    "import torch.nn as nn\n",
    "\n",
    "# Define the neural network class inheriting from nn.Module\n",
    "class OneVariableNet(nn.Module):\n",
    "    def __init__(self):\n",
    "        super(OneVariableNet, self).__init__()\n",
    "        # Define the first hidden layer (input layer to first hidden layer)\n",
    "        self.hidden1 = nn.Linear(1, 10)  # 1 input, 10 outputs\n",
    "        # Define the second hidden layer\n",
    "        self.hidden2 = nn.Linear(10, 10) # 10 inputs, 10 outputs\n",
    "        # Define the third hidden layer\n",
    "        self.hidden3 = nn.Linear(10, 10) # 10 inputs, 10 outputs\n",
    "        # Define the output layer\n",
    "        self.output = nn.Linear(10, 1)   # 10 inputs, 1 output\n",
    "\n",
    "        # Define activation function, you can use others like ReLU or LeakyReLU\n",
    "        self.activation = nn.Tanh()\n",
    "\n",
    "    def forward(self, x):\n",
    "        # Forward pass through each layer\n",
    "        x = self.activation(self.hidden1(x))\n",
    "        x = self.activation(self.hidden2(x))\n",
    "        x = self.activation(self.hidden3(x))\n",
    "        x = self.output(x)\n",
    "        return x\n",
    "\n",
    "# Create an instance of the network\n",
    "net = OneVariableNet()\n",
    "\n",
    "# Print the network structure\n",
    "print(net)\n"
   ]
  },
  {
   "cell_type": "markdown",
   "id": "b71a1923-cf8e-47b6-9828-6f07e2952d93",
   "metadata": {},
   "source": [
    "**Explanation:**\n",
    "1. **Network Structure:** This network begins with an input layer that accepts a single feature (since it's a function of one variable). It then passes through three hidden layers, each with 10 neurons, and finally outputs a single value, which is typical for regression tasks.\n",
    "\n",
    "1. **Activation Function:** I used the Tanh activation function for the hidden layers, which helps introduce non-linearity to the model, allowing it to learn more complex patterns. You can substitute this with other functions like ReLU if preferred, which might offer benefits in terms of training speed and avoiding vanishing gradients in some cases.\n",
    "\n",
    "1. **Output Layer:** The final output layer does not use an activation function since we're presumably predicting a continuous variable (regression task). If you're working on a classification task, you might need a suitable activation function like sigmoid or softmax for binary or multi-class classification, respectively.\n",
    "\n",
    "1. **Initialization and Usage:** After defining the network, you can create an instance and use it for training or inference as needed. Training this network would involve defining a loss function and an optimizer, then running a training loop to fit the model to your data.\n",
    "\n",
    "This setup should work well for basic experiments and learning purposes. If you want to train this model on actual data, you’ll need to set up a training loop with loss computation and optimization steps."
   ]
  },
  {
   "cell_type": "markdown",
   "id": "0a842491-1414-418c-8027-b5813fba4cae",
   "metadata": {},
   "source": [
    "## Now ask ChatGPT to use this code to learn a specified function in a specified region"
   ]
  },
  {
   "cell_type": "markdown",
   "id": "4a91fca7-78e6-422f-9140-9844954ebbe8",
   "metadata": {},
   "source": [
    "**To ChatGPT:** *Write code to use this code to learn the function `f(x) = sin(x)**2` from x = 0 to x = 2, with 20 randomly spaced training points. Then test it with 50 equally spaced testing points.*"
   ]
  },
  {
   "cell_type": "markdown",
   "id": "53dc5300-dc70-4bdf-b4d7-6a19743f4fc7",
   "metadata": {},
   "source": [
    "To accomplish the task of training a neural network on the function `f(x) = sin(x)**2` and testing it on new data points, we'll follow these steps:\n",
    "\n",
    "1. Data Preparation: Generate training data and testing data as specified.\n",
    "1. Network Training: Implement the training loop using a suitable optimizer and loss function.\n",
    "1. Testing: Evaluate the network on the testing data and possibly visualize the results.\n",
    "\n",
    "First, we'll need to define our dataset. We'll generate 20 random training points in the range [0, 2] and 50 equally spaced testing points in the same range.\n",
    "\n",
    "Here's the complete code to do this, including both training and testing phases:"
   ]
  },
  {
   "cell_type": "code",
   "execution_count": 3,
   "id": "7d290f08-7ff5-4e08-93d8-3f9e33cdd725",
   "metadata": {},
   "outputs": [
    {
     "name": "stdout",
     "output_type": "stream",
     "text": [
      "Epoch [100/2000], Loss: 2.1179e-03\n",
      "Epoch [200/2000], Loss: 8.0682e-04\n",
      "Epoch [300/2000], Loss: 1.7236e-04\n",
      "Epoch [400/2000], Loss: 1.0767e-04\n",
      "Epoch [500/2000], Loss: 6.0189e-05\n",
      "Epoch [600/2000], Loss: 3.2596e-05\n",
      "Epoch [700/2000], Loss: 1.9997e-05\n",
      "Epoch [800/2000], Loss: 1.4706e-05\n",
      "Epoch [900/2000], Loss: 1.1886e-05\n",
      "Epoch [1000/2000], Loss: 9.7982e-06\n",
      "Epoch [1100/2000], Loss: 8.0238e-06\n",
      "Epoch [1200/2000], Loss: 6.4789e-06\n",
      "Epoch [1300/2000], Loss: 5.1394e-06\n",
      "Epoch [1400/2000], Loss: 3.9923e-06\n",
      "Epoch [1500/2000], Loss: 3.0285e-06\n",
      "Epoch [1600/2000], Loss: 2.2377e-06\n",
      "Epoch [1700/2000], Loss: 1.6074e-06\n",
      "Epoch [1800/2000], Loss: 1.1207e-06\n",
      "Epoch [1900/2000], Loss: 7.5805e-07\n",
      "Epoch [2000/2000], Loss: 4.9749e-07\n"
     ]
    },
    {
     "data": {
      "image/png": "[encoded data removed]",
      "text/plain": [
       "<Figure size 640x480 with 1 Axes>"
      ]
     },
     "metadata": {},
     "output_type": "display_data"
    }
   ],
   "source": [
    "import torch\n",
    "import torch.nn as nn\n",
    "import torch.optim as optim\n",
    "import numpy as np\n",
    "import matplotlib.pyplot as plt\n",
    "\n",
    "class OneVariableNet(nn.Module):\n",
    "    def __init__(self):\n",
    "        super(OneVariableNet, self).__init__()\n",
    "        self.hidden1 = nn.Linear(1, 10)\n",
    "        self.hidden2 = nn.Linear(10, 10)\n",
    "        self.hidden3 = nn.Linear(10, 10)\n",
    "        self.output = nn.Linear(10, 1)\n",
    "        self.activation = nn.Tanh()\n",
    "\n",
    "    def forward(self, x):\n",
    "        x = self.activation(self.hidden1(x))\n",
    "        x = self.activation(self.hidden2(x))\n",
    "        x = self.activation(self.hidden3(x))\n",
    "        x = self.output(x)\n",
    "        return x\n",
    "\n",
    "# Create an instance of the network\n",
    "net = OneVariableNet()\n",
    "\n",
    "# Loss function and optimizer\n",
    "criterion = nn.MSELoss()\n",
    "optimizer = optim.Adam(net.parameters(), lr=0.01)\n",
    "\n",
    "# Generate training data\n",
    "x_train = 2 * torch.rand(10, 1)  # Randomly spaced points\n",
    "y_train = torch.sin(x_train)**2  # f(x) = sin(x)^2\n",
    "\n",
    "# Training loop\n",
    "epochs = 2000\n",
    "for epoch in range(epochs):\n",
    "    optimizer.zero_grad()\n",
    "    outputs = net(x_train)\n",
    "    loss = criterion(outputs, y_train)\n",
    "    loss.backward()\n",
    "    optimizer.step()\n",
    "    \n",
    "    if (epoch + 1) % 100 == 0:\n",
    "        print(f'Epoch [{epoch + 1}/{epochs}], Loss: {loss.item():.4e}')\n",
    "\n",
    "# Generate testing data\n",
    "x_test = torch.linspace(-1, 3, 100).unsqueeze(1)  # Equally spaced points\n",
    "y_test = torch.sin(x_test)**2  # f(x) = sin(x)^2\n",
    "with torch.no_grad():\n",
    "    predictions = net(x_test)\n",
    "\n",
    "# Plot the results\n",
    "plt.plot(x_test.numpy(), y_test.numpy(), label='True function', color='r')\n",
    "plt.scatter(x_train.numpy(), y_train.numpy(), label='Training data', color='g')\n",
    "plt.plot(x_test.numpy(), predictions.numpy(), label='Predictions', linestyle='--')\n",
    "plt.legend()\n",
    "plt.title('Neural Network Approximation of f(x) = sin(x)^2')\n",
    "plt.xlabel('x')\n",
    "plt.ylabel('f(x)')\n",
    "plt.show()\n"
   ]
  },
  {
   "cell_type": "markdown",
   "id": "57f507d5-a204-4051-bbce-e322acef25ad",
   "metadata": {},
   "source": [
    "**Explanation:**\n",
    "* **Network Setup:** The neural network is set up as defined previously.\n",
    "* **Data Generation:** Random training data is generated within the specified range and the function values are computed as `sin(x)**2` \n",
    "* **Training Process:** The network is trained using the Adam optimizer and mean squared error (MSE) loss function over 2000 epochs. Adjustments can be made to the learning rate or number of epochs based on how the loss progresses.\n",
    "* **Testing and Visualization:** The network's predictions are generated for the testing dataset and plotted against the true function values. The training data is also plotted to show how well the network learned to approximate the function within the training range.\n",
    "\n",
    "This code should provide a clear demonstration of how well the neural network can learn and generalize the function `f(x) = sin(x)**2`.\n"
   ]
  },
  {
   "cell_type": "markdown",
   "id": "472d850f-d48a-4513-9ae6-5407da4d4eb9",
   "metadata": {},
   "source": [
    "**To ChatGPT:** *Explain each of the steps in the for loop over epochs.*"
   ]
  },
  {
   "cell_type": "markdown",
   "id": "b25e3528-f066-422e-8b23-3d9c25491dcf",
   "metadata": {},
   "source": [
    "In the neural network training code that uses the `OneVariableNet`, the for-loop over epochs is a critical part where the actual training of the model takes place. Let's break down each step inside this training loop to understand how the model is trained epoch by epoch:\n",
    "\n",
    "```python\n",
    "epochs = 2000\n",
    "for epoch in range(epochs):\n",
    "    optimizer.zero_grad()  # Step 1\n",
    "    outputs = net(x_train)  # Step 2\n",
    "    loss = criterion(outputs, y_train)  # Step 3\n",
    "    loss.backward()  # Step 4\n",
    "    optimizer.step()  # Step 5\n",
    "    \n",
    "    if (epoch + 1) % 100 == 0:\n",
    "        print(f'Epoch [{epoch + 1}/{epochs}], Loss: {loss.item():.4f}')\n",
    "```\n",
    "\n",
    "### Detailed Explanation of Each Step:\n",
    "\n",
    "1. **Zero the gradients (`optimizer.zero_grad()`)**:\n",
    "    - **Purpose**: Before the new forward pass, you need to zero out the gradients from the previous pass, because PyTorch accumulates gradients on subsequent backward passes. If this is not done, you would be accumulating gradients across epochs which generally is not desired (except in specific cases).\n",
    "    - **Effect**: This resets the gradient of all model parameters to zero, ensuring that the backpropagation of this pass starts with a clean slate.\n",
    "\n",
    "2. **Perform a forward pass (`outputs = net(x_train)`)**:\n",
    "    - **Purpose**: This computes the predicted outputs (`outputs`) for the given input data (`x_train`). It involves passing the data through the network and calculating the output of each layer sequentially until the final layer.\n",
    "    - **Effect**: The model uses its current state (weights and biases) to predict the output based on the input data.\n",
    "\n",
    "3. **Calculate the loss (`loss = criterion(outputs, y_train)`)**:\n",
    "    - **Purpose**: After obtaining the predictions, this step computes the loss, which is a measure of how far the network's predictions are from the actual target values (`y_train`). The loss function used here is the Mean Squared Error Loss (MSE), which is typical for regression tasks.\n",
    "    - **Effect**: The calculated loss provides a quantitative measure of the model’s performance. A lower loss indicates better model predictions.\n",
    "\n",
    "4. **Backward pass to compute gradients (`loss.backward()`)**:\n",
    "    - **Purpose**: This step involves backpropagation. By calling `backward()` on the loss tensor, gradients are computed for every model parameter (weights and biases) that has `requires_grad=True`. This is done by tracing the loss back through the network, calculating the gradient of the loss with respect to each parameter.\n",
    "    - **Effect**: Updates the gradient of each parameter. These gradients will guide how the weights should be changed to minimize the loss.\n",
    "\n",
    "5. **Update the weights (`optimizer.step()`)**:\n",
    "    - **Purpose**: This step applies the gradients to adjust the weights of the network. The specific way the weights are updated depends on the optimizer used (Adam, in this case). Adam adjusts the learning rate dynamically for each parameter.\n",
    "    - **Effect**: Updates the model’s weights to potentially lower the loss in subsequent epochs. This is where the model learns by incrementally improving its predictions.\n",
    "\n",
    "6. **Printing the loss (Optional Debugging/Logging)**:\n",
    "    - **Purpose**: Regularly printing the loss gives you insight into how well the training is progressing. By observing the loss decrease over epochs, you can gauge the effectiveness of your training loop and hyperparameters.\n",
    "    - **Effect**: Helps in monitoring the training process and deciding when the model has sufficiently learned or if there might be issues like overfitting or underfitting.\n",
    "\n",
    "This loop is executed for a fixed number of iterations (`epochs`), and each iteration of this loop is intended to incrementally improve the model's performance by adjusting its parameters based on the calculated loss and its gradients."
   ]
  },
  {
   "cell_type": "markdown",
   "id": "b5a0a47b-19e2-40a7-8e5a-9e25a68ef923",
   "metadata": {},
   "source": [
    "**To ChatGPT:** *What is the same code with a ReLu activation function?*"
   ]
  },
  {
   "cell_type": "markdown",
   "id": "d447371e-715b-4f94-a899-febf3db70ca1",
   "metadata": {},
   "source": [
    "To modify the previously described neural network so that it uses the ReLU (Rectified Linear Unit) activation function instead of the Tanh activation function, you simply need to replace the Tanh activation instances with ReLU in the network definition. ReLU is often preferred in deep networks due to its simplicity and effectiveness at avoiding vanishing gradient issues.\n",
    "\n",
    "Here's how you can update the code to use ReLU:"
   ]
  },
  {
   "cell_type": "code",
   "execution_count": 4,
   "id": "492966e2-82f9-4ffd-af26-38db2f3fbce7",
   "metadata": {},
   "outputs": [
    {
     "name": "stdout",
     "output_type": "stream",
     "text": [
      "Epoch [100/2000], Loss: 6.4956e-03\n",
      "Epoch [200/2000], Loss: 2.0364e-03\n",
      "Epoch [300/2000], Loss: 3.2683e-04\n",
      "Epoch [400/2000], Loss: 1.2208e-04\n",
      "Epoch [500/2000], Loss: 7.6234e-05\n",
      "Epoch [600/2000], Loss: 5.5053e-05\n",
      "Epoch [700/2000], Loss: 5.3461e-05\n",
      "Epoch [800/2000], Loss: 4.7958e-05\n",
      "Epoch [900/2000], Loss: 3.7503e-05\n",
      "Epoch [1000/2000], Loss: 3.8561e-05\n",
      "Epoch [1100/2000], Loss: 4.1433e-05\n",
      "Epoch [1200/2000], Loss: 3.5881e-05\n",
      "Epoch [1300/2000], Loss: 5.2416e-05\n",
      "Epoch [1400/2000], Loss: 1.2166e-04\n",
      "Epoch [1500/2000], Loss: 5.3881e-05\n",
      "Epoch [1600/2000], Loss: 3.9605e-05\n",
      "Epoch [1700/2000], Loss: 4.8035e-05\n",
      "Epoch [1800/2000], Loss: 3.5790e-05\n",
      "Epoch [1900/2000], Loss: 3.5338e-05\n",
      "Epoch [2000/2000], Loss: 3.5454e-05\n"
     ]
    },
    {
     "data": {
      "image/png": "[encoded data removed]",
      "text/plain": [
       "<Figure size 640x480 with 1 Axes>"
      ]
     },
     "metadata": {},
     "output_type": "display_data"
    }
   ],
   "source": [
    "import torch\n",
    "import torch.nn as nn\n",
    "import torch.optim as optim\n",
    "import numpy as np\n",
    "import matplotlib.pyplot as plt\n",
    "\n",
    "class OneVariableNet(nn.Module):\n",
    "    def __init__(self):\n",
    "        super(OneVariableNet, self).__init__()\n",
    "        self.hidden1 = nn.Linear(1, 10)\n",
    "        self.hidden2 = nn.Linear(10, 10)\n",
    "        self.hidden3 = nn.Linear(10, 10)\n",
    "        self.output = nn.Linear(10, 1)\n",
    "        self.activation = nn.ReLU()  # Changed from nn.Tanh() to nn.ReLU()\n",
    "\n",
    "    def forward(self, x):\n",
    "        x = self.activation(self.hidden1(x))\n",
    "        x = self.activation(self.hidden2(x))\n",
    "        x = self.activation(self.hidden3(x))\n",
    "        x = self.output(x)\n",
    "        return x\n",
    "\n",
    "# Create an instance of the network\n",
    "net = OneVariableNet()\n",
    "\n",
    "# Loss function and optimizer\n",
    "criterion = nn.MSELoss()\n",
    "optimizer = optim.Adam(net.parameters(), lr=0.01)\n",
    "\n",
    "# Generate training data\n",
    "x_train = 2 * torch.rand(20, 1)  # Randomly spaced points\n",
    "y_train = torch.sin(x_train)**2  # f(x) = sin(x)^2\n",
    "\n",
    "# Training loop\n",
    "epochs = 2000\n",
    "for epoch in range(epochs):\n",
    "    optimizer.zero_grad()\n",
    "    outputs = net(x_train)\n",
    "    loss = criterion(outputs, y_train)\n",
    "    loss.backward()\n",
    "    optimizer.step()\n",
    "    \n",
    "    if (epoch + 1) % 100 == 0:\n",
    "        print(f'Epoch [{epoch + 1}/{epochs}], Loss: {loss.item():.4e}')\n",
    "\n",
    "# Generate testing data\n",
    "x_test = torch.linspace(-1, 3, 100).unsqueeze(1)  # Equally spaced points\n",
    "#x_test = torch.linspace(0, 2, 50).unsqueeze(1)  # Equally spaced points\n",
    "y_test = torch.sin(x_test)**2  # f(x) = sin(x)^2\n",
    "with torch.no_grad():\n",
    "    predictions = net(x_test)\n",
    "\n",
    "# Plot the results\n",
    "plt.plot(x_test.numpy(), y_test.numpy(), label='True function', color='r')\n",
    "plt.scatter(x_train.numpy(), y_train.numpy(), label='Training data', color='g')\n",
    "plt.plot(x_test.numpy(), predictions.numpy(), label='Predictions', linestyle='--')\n",
    "plt.legend()\n",
    "plt.title('Neural Network Approximation of f(x) = sin(x)^2 with ReLU Activation')\n",
    "plt.xlabel('x')\n",
    "plt.ylabel('f(x)')\n",
    "plt.show()\n"
   ]
  },
  {
   "cell_type": "markdown",
   "id": "d5fa87bc-691c-42c0-9fad-a5e6f0d9a506",
   "metadata": {},
   "source": [
    "**Changes and Considerations:**\n",
    "* **Activation Function:** We replaced `nn.Tanh()` with `nn.ReLU()`. ReLU activation function might result in different learning characteristics, particularly in how the network fits non-linear functions like `sin(x)**2`.\n",
    "ReLU provides linear responses for positive values and zero for negative values, which might affect how well it models the curve compared to Tanh.\n",
    "* Learning Characteristics: Networks with ReLU activation might learn faster in some cases due to simpler gradient computations. However, in cases where the function involves negative inputs or outputs that need modeling around zero, Tanh might capture dynamics better because of its symmetric behavior around zero.\n",
    "\n",
    "This updated code uses ReLU, and you might observe different results in how the model learns and generalizes the function `f(x) = sin(x)**2`. \n",
    "Experimenting with different activation functions can provide insights into their impact on model performance and behavior."
   ]
  },
  {
   "cell_type": "markdown",
   "id": "ee48d756-8571-4ebe-bffa-c44103e73293",
   "metadata": {},
   "source": [
    "## Information from ChatGPT about backpropagation"
   ]
  },
  {
   "cell_type": "markdown",
   "id": "07d07095-23e5-46a9-bf67-727e553f2626",
   "metadata": {},
   "source": [
    "**To ChatGPT:** *What algorithm is being used for backpropagation?*"
   ]
  },
  {
   "cell_type": "markdown",
   "id": "4a1b34b2-8e15-499d-9b4d-0eb66b1695a1",
   "metadata": {},
   "source": [
    "In the provided code, the algorithm being used for backpropagation is not explicitly specified because it's inherently handled by PyTorch's automatic differentiation engine, which is built into the `backward()` function. However, the optimization algorithm that leverages this backpropagation to update the weights is Adam (Adaptive Moment Estimation).\n",
    "\n",
    "Here's a breakdown of the key components:\n",
    "\n",
    "**Automatic Differentiation**\n",
    "* **Automatic Differentiation:** PyTorch uses a mechanism known as automatic differentiation to compute gradients. This is performed by the `backward()` method on the final loss tensor. This method calculates the gradients of the loss with respect to all tensors that have `requires_grad=True`. These tensors typically represent the weights and biases of the model.\n",
    "* **Backpropagation:** Under the hood, when you call `loss.backward()`, PyTorch computes the gradient of the loss with respect to all parameters (weights) in the network by tracing back from the loss through the computational graph. Each operation in the graph has a predefined way of calculating gradients in a backward pass, effectively implementing the chain rule. This process is a practical implementation of the backpropagation algorithm.\n",
    "\n",
    "**Optimization Algorithm**\n",
    "* **Adam Optimizer:** The optimizer used here, `optim.Adam`, is an algorithm for first-order gradient-based optimization of stochastic objective functions, based on adaptive estimates of lower-order moments. Adam combines the advantages of two other extensions of stochastic gradient descent, specifically:\n",
    "    * Adaptive Gradient Algorithm (AdaGrad) that maintains a per-parameter learning rate that improves performance on problems with sparse gradients (like natural language and computer vision problems).\n",
    "    * Root Mean Square Propagation (RMSProp) that also maintains per-parameter learning rates that are adapted based on the average of recent magnitudes of the gradients for the weight (this means it works well on online and non-stationary problems).\n",
    "\n",
    "**Why Adam?**\n",
    "* **Efficiency:** Adam is computationally efficient and has little memory requirement.\n",
    "* **Adaptive Learning Rate:** It handles sparse gradients on noisy problems very well.\n",
    "* **Suitability for Problems:** Adam is generally well suited for problems that are large in terms of data and/or parameters.\n",
    "* **Hyperparameters:** It has few hyperparameters that require tuning (like the learning rate, the exponential decay rates for the moment estimates).\n",
    "  \n",
    "In essence, while the backpropagation algorithm is the method used to compute the gradients, Adam is the algorithm that uses these gradients to update the weights iteratively in order to minimize the loss function."
   ]
  },
  {
   "cell_type": "markdown",
   "id": "38893c6e-9eb2-46b3-aaf2-59ed4f9a1f66",
   "metadata": {},
   "source": [
    "## Information from ChatGPT about tensor operations "
   ]
  },
  {
   "cell_type": "markdown",
   "id": "a5667ffa-4804-4935-874d-5cde81ce9230",
   "metadata": {},
   "source": [
    "**To ChatGPT:** *How do you write mathematical expressions using pytensor?*"
   ]
  },
  {
   "cell_type": "markdown",
   "id": "7a01e147-5519-452d-ada6-2836af5d7388",
   "metadata": {},
   "source": [
    "In PyTorch, writing mathematical expressions involves using a combination of PyTorch's tensor operations, which are very similar to those found in NumPy but are optimized for automatic differentiation and can run on GPUs. Here’s how you can utilize PyTorch to handle various mathematical expressions:\n",
    "\n",
    "### Basic Mathematical Operations\n",
    "Here are some basic operations:"
   ]
  },
  {
   "cell_type": "markdown",
   "id": "bcc18146-db82-4b7f-bf66-a23e58b14259",
   "metadata": {},
   "source": [
    "1. **Addition**"
   ]
  },
  {
   "cell_type": "code",
   "execution_count": 5,
   "id": "765badd1-6463-4cec-b303-59322e8c3e20",
   "metadata": {},
   "outputs": [
    {
     "name": "stdout",
     "output_type": "stream",
     "text": [
      "tensor([5, 7, 9])\n"
     ]
    }
   ],
   "source": [
    "import torch\n",
    "a = torch.tensor([1, 2, 3])\n",
    "b = torch.tensor([4, 5, 6])\n",
    "c = a + b  # Element-wise addition\n",
    "print(c)"
   ]
  },
  {
   "cell_type": "markdown",
   "id": "b2556804-0e5a-4007-8b19-801ba3ad3dbe",
   "metadata": {},
   "source": [
    "2. **Subtraction**"
   ]
  },
  {
   "cell_type": "code",
   "execution_count": 6,
   "id": "9e0bb561-549c-48d2-aa32-37d789852726",
   "metadata": {},
   "outputs": [
    {
     "name": "stdout",
     "output_type": "stream",
     "text": [
      "tensor([3, 3, 3])\n"
     ]
    }
   ],
   "source": [
    "d = b - a  # Element-wise subtraction\n",
    "print(d)"
   ]
  },
  {
   "cell_type": "markdown",
   "id": "3c54f70f-6abc-4a8b-a12d-3c682e28d954",
   "metadata": {},
   "source": [
    "3. **Multiplication** (element-wise)"
   ]
  },
  {
   "cell_type": "code",
   "execution_count": 7,
   "id": "65a26ad1-5189-4dcf-ade9-7f7332e809d4",
   "metadata": {},
   "outputs": [
    {
     "name": "stdout",
     "output_type": "stream",
     "text": [
      "tensor([ 4, 10, 18])\n"
     ]
    }
   ],
   "source": [
    "e = a * b  # Element-wise multiplication\n",
    "print(e)"
   ]
  },
  {
   "cell_type": "markdown",
   "id": "b9dcb7bf-6685-41d3-a519-4138a8b0590c",
   "metadata": {},
   "source": [
    "4. **Division**"
   ]
  },
  {
   "cell_type": "code",
   "execution_count": 8,
   "id": "1388cc70-028b-441d-b577-203456f2c084",
   "metadata": {},
   "outputs": [
    {
     "name": "stdout",
     "output_type": "stream",
     "text": [
      "tensor([4.0000, 2.5000, 2.0000])\n"
     ]
    }
   ],
   "source": [
    "f = b / a  # Element-wise division\n",
    "print(f)"
   ]
  },
  {
   "cell_type": "markdown",
   "id": "c5b79562-80c8-4625-a70b-e34157cbf1bb",
   "metadata": {},
   "source": [
    "5. **Matrix multiplication**"
   ]
  },
  {
   "cell_type": "code",
   "execution_count": 9,
   "id": "9b8dc276-486e-4211-9f7f-37ce8d6aa3b9",
   "metadata": {},
   "outputs": [
    {
     "name": "stdout",
     "output_type": "stream",
     "text": [
      "tensor([[19, 22],\n",
      "        [43, 50]])\n"
     ]
    }
   ],
   "source": [
    "x = torch.tensor([[1, 2], [3, 4]])\n",
    "y = torch.tensor([[5, 6], [7, 8]])\n",
    "z = torch.matmul(x, y)  # Matrix multiplication\n",
    "# or using the \"@\" operator\n",
    "z = x @ y\n",
    "print(z)"
   ]
  },
  {
   "cell_type": "markdown",
   "id": "c1c022eb-db4e-48fd-9bbe-7540b59296ce",
   "metadata": {},
   "source": [
    "### Complex Expressions\n",
    "For more complex mathematical expressions, such as those involving powers, roots, logarithms, trigonometric functions, \n",
    "and other operations, PyTorch provides a wide range of functions:"
   ]
  },
  {
   "cell_type": "code",
   "execution_count": 10,
   "id": "153237f3-9870-4a5d-a02f-ec8609921a4f",
   "metadata": {},
   "outputs": [],
   "source": [
    "import torch\n",
    "\n",
    "x = torch.tensor([1, 2, 3], dtype=torch.float32)\n",
    "\n",
    "# Power\n",
    "x_squared = x.pow(2)  # or x ** 2\n",
    "\n",
    "# Square root\n",
    "x_sqrt = torch.sqrt(x)\n",
    "\n",
    "# Exponential\n",
    "x_exp = torch.exp(x)\n",
    "\n",
    "# Logarithm\n",
    "x_log = torch.log(x)\n",
    "\n",
    "# Trigonometric functions\n",
    "x_sin = torch.sin(x)\n",
    "x_cos = torch.cos(x)\n",
    "\n",
    "# Hyperbolic functions\n",
    "x_sinh = torch.sinh(x)\n",
    "x_cosh = torch.cosh(x)\n"
   ]
  },
  {
   "cell_type": "markdown",
   "id": "3e3fae82-366b-491a-b6b7-ef7250163b77",
   "metadata": {},
   "source": [
    "### Example of a Complex Expression\n",
    "If you want to compute something more complex, like the following expression:\n",
    "\n",
    "$$f(x) = \\sin(x^2) + \\log(x) \\cdot \\cos(x)$$\n",
    "\n",
    "Here's how you would implement it in PyTorch:"
   ]
  },
  {
   "cell_type": "code",
   "execution_count": 11,
   "id": "3dcc3787-4c24-4a27-871b-86dddfbde9b5",
   "metadata": {},
   "outputs": [
    {
     "name": "stdout",
     "output_type": "stream",
     "text": [
      "tensor([ 0.8415, -1.0453, -0.6755], grad_fn=<AddBackward0>)\n"
     ]
    }
   ],
   "source": [
    "import torch\n",
    "\n",
    "# Assuming x is a tensor of positive numbers\n",
    "x = torch.tensor([1.0, 2.0, 3.0], requires_grad=True)\n",
    "\n",
    "# Compute the function\n",
    "f = torch.sin(x**2) + torch.log(x) * torch.cos(x)\n",
    "print(f)"
   ]
  },
  {
   "cell_type": "markdown",
   "id": "99282c5c-4604-41aa-a29f-6b87b599f99a",
   "metadata": {},
   "source": [
    "### Gradient Computations\n",
    "A key feature of PyTorch is its ability to automatically compute derivatives, which is crucial for machine learning algorithms like backpropagation. Here's how you can compute the gradient of $f$ with respect to $x$:"
   ]
  },
  {
   "cell_type": "code",
   "execution_count": 12,
   "id": "23f04a1d-f1d7-4db4-8267-99a768c1263a",
   "metadata": {},
   "outputs": [
    {
     "name": "stdout",
     "output_type": "stream",
     "text": [
      "tensor([ 1.6209, -3.4529, -5.9518])\n"
     ]
    }
   ],
   "source": [
    "f.sum().backward()  # Compute the gradients (derivative of sum of f wrt x)\n",
    "print(x.grad)       # Access the gradients\n"
   ]
  },
  {
   "cell_type": "markdown",
   "id": "a04c485e-e192-48d1-8aa0-ff72330bfdc3",
   "metadata": {},
   "source": [
    "This example assumes that f is not a scalar, so we use f.sum() to create a scalar context for backward(), which computes the total derivative."
   ]
  },
  {
   "cell_type": "markdown",
   "id": "81d132ec-659b-4120-afe7-9c21388db411",
   "metadata": {},
   "source": [
    "### Utilizing GPU Acceleration\n",
    "To leverage GPU acceleration, you would typically move your tensors and models to the GPU:"
   ]
  },
  {
   "cell_type": "code",
   "execution_count": 13,
   "id": "be8a3da6-2925-43c8-9401-9370b5468cfb",
   "metadata": {},
   "outputs": [],
   "source": [
    "if torch.cuda.is_available():\n",
    "    x = x.to('cuda')\n",
    "    # Perform your operations on x here"
   ]
  },
  {
   "cell_type": "markdown",
   "id": "03f294de-9dc8-4ad6-9fa8-1cc15eea3d2b",
   "metadata": {},
   "source": [
    "This approach to writing mathematical expressions in PyTorch enables both flexibility and powerful integration with deep learning models, allowing for both simple and advanced computations, all while being able to backpropagate errors through complex computational graphs efficiently."
   ]
  },
  {
   "cell_type": "markdown",
   "id": "d107de18-81a4-4bb8-80f5-0515ad419bab",
   "metadata": {},
   "source": [
    "## Information from ChatGPT about tensor operations "
   ]
  },
  {
   "cell_type": "markdown",
   "id": "a2a72227-da34-46d7-a6f6-8ae359f5b062",
   "metadata": {},
   "source": [
    "**To ChatGPT:** *How are these neural networks initialized?*"
   ]
  },
  {
   "cell_type": "markdown",
   "id": "de98ca5f-77e2-4ba2-803d-30948d4313e2",
   "metadata": {},
   "source": [
    "Neural networks in frameworks like PyTorch and TensorFlow are initialized using specific strategies for setting the initial weights and biases of the network before training begins. Proper initialization is crucial because it can significantly affect the convergence and performance of the network during training.\n",
    "\n",
    "### Common Initialization Methods\n",
    "Here are some of the most common methods used for initializing neural networks:\n",
    "\n",
    "1. **Zero Initialization:**\n",
    "    * Weights and biases are set to zero.\n",
    "    * Generally not recommended except for biases because it can lead to problems where neurons in the same layer learn the same features during training (symmetry breaking issue).\n",
    "\n",
    "2. **Random Initialization:**\n",
    "    * Weights are set to small random values, often drawn from a normal or uniform distribution.\n",
    "    * Helps in breaking symmetry so that each neuron can learn different things.\n",
    "    * Too small values can lead to the vanishing gradients problem, and too large values can lead to exploding gradients.\n",
    "  \n",
    "3. **Uniform and Normal Distribution:**\n",
    "    * **Uniform Distribution:** Weights are initialized uniformly at random within a specified range (e.g., $[-y, y]$ where $y$ is a small value).\n",
    "    * **Normal Distribution:** Weights are initialized according to a Gaussian distribution, usually with a mean of 0 and a small standard deviation.\n",
    "      \n",
    "4. **Xavier/Glorot Initialization:**\n",
    "    * Designed specifically for keeping the scale of gradients roughly the same in all layers.\n",
    "    * For a layer with $n_{\\rm in}$ inputs and $n_{\\rm out}$ outputs, weights are initialized from a distribution with zero mean and a variance of $2 / (n_{\\rm in} + n_{\\rm out})$.\n",
    "    * Works well with sigmoid and tanh activation functions.\n",
    "\n",
    "5. **He Initialization:**\n",
    "    * Similar to Xavier initialization but designed for layers with ReLU activation functions.\n",
    "    * Weights are initialized from a normal distribution with a mean of 0 and a variance of 2 / n_in or a uniform distribution scaled by sqrt(6 / n_in), where n_in is the number of input units.\n",
    "    * Helps prevent issues related to the non-linear nature of ReLU activations at initialization.\n",
    "\n",
    "### PyTorch Default Initialization\n",
    "In PyTorch, different types of layers are initialized differently by default:\n",
    "\n",
    "* **Linear layers** (`nn.Linear`): By default, the weights and biases are initialized from a uniform distribution $U(-\\sqrt{k},\\sqrt{k})$\n",
    "where $k = 1/(\\textrm{number of input features})$.\n",
    "* **Convolutional layers** (`nn.Conv2d`): These use Kaiming uniform initialization by default, which is a form of He initialization suitable for layers followed by ReLU activations.\n"
   ]
  },
  {
   "cell_type": "markdown",
   "id": "427f07c5-965d-4ca9-8b94-706229761b3b",
   "metadata": {},
   "source": [
    "### Customizing Initialization in PyTorch\n",
    "You can also customize how layers are initialized in PyTorch. Here’s a simple example where we set the weights of a linear layer with He initialization and set biases to zero:"
   ]
  },
  {
   "cell_type": "code",
   "execution_count": 14,
   "id": "6c70f149-9960-4f02-bf72-0bf7be517bc0",
   "metadata": {},
   "outputs": [
    {
     "name": "stdout",
     "output_type": "stream",
     "text": [
      "MyModel(\n",
      "  (linear): Linear(in_features=10, out_features=5, bias=True)\n",
      ")\n"
     ]
    }
   ],
   "source": [
    "import torch\n",
    "import torch.nn as nn\n",
    "import torch.nn.init as init\n",
    "\n",
    "class MyModel(nn.Module):\n",
    "    def __init__(self):\n",
    "        super(MyModel, self).__init__()\n",
    "        self.linear = nn.Linear(10, 5)\n",
    "\n",
    "        # Custom weights initialization\n",
    "        init.kaiming_normal_(self.linear.weight, mode='fan_out', nonlinearity='relu')\n",
    "        init.constant_(self.linear.bias, 0)  # setting biases to zero\n",
    "\n",
    "model = MyModel()\n",
    "print(model)\n"
   ]
  },
  {
   "cell_type": "markdown",
   "id": "03f50ca8-50cf-4a33-af39-39b92971b279",
   "metadata": {},
   "source": [
    "This flexibility allows you to experiment with different initialization methods to find what works best for your specific application or to adapt to different activation functions used in the network."
   ]
  },
  {
   "cell_type": "markdown",
   "id": "83787165-baee-4bd5-8a77-9ead4b1f7ba0",
   "metadata": {},
   "source": [
    "## Information from ChatGPT about the default initialization "
   ]
  },
  {
   "cell_type": "markdown",
   "id": "c01a2f14-273e-4574-ad7b-47572143b75e",
   "metadata": {},
   "source": [
    "**To ChatGPT:** *Which initialization method was used in the latest code you provided above?*"
   ]
  },
  {
   "cell_type": "markdown",
   "id": "a200c8da-92de-4f25-8dac-8eb5781f0c44",
   "metadata": {},
   "source": [
    "In the example of the `OneVariableNet` class I provided earlier, the network uses PyTorch's default initialization methods for the layers defined within it. For `nn.Linear` layers in PyTorch, the default initialization is done with a uniform distribution over a range derived from the number of input and output units of the layer. Specifically:\n",
    "\n",
    "1. **Weights:** Initialized from a uniform distribution $U(-\\sqrt{k},\\sqrt{k})$\n",
    "where $k = 1/(\\textrm{number of input features})$.\n",
    "\n",
    "2. **Biases:** Also typically initialized from the same uniform distribution, unless otherwise specified or customized.\n",
    "\n",
    "This is a good default choice for many situations, especially when just starting out with a new neural network model, because it provides a reasonable compromise between too large and too small initial weights, helping to ensure that gradients are neither too small (causing vanishing gradients) nor too large (causing exploding gradients) at the start of training."
   ]
  },
  {
   "cell_type": "markdown",
   "id": "9fd538ed-9fc1-4809-9aa2-9447446c540a",
   "metadata": {},
   "source": [
    "## Information from ChatGPT about how to switch to normal distributions to initialize"
   ]
  },
  {
   "cell_type": "markdown",
   "id": "fe9e17ca-c43e-4adc-bc7f-9a8fb002880a",
   "metadata": {},
   "source": [
    "**To ChatGPT:** *Give the `OneVariableNet` class initialized with a normal distribution.*"
   ]
  },
  {
   "cell_type": "markdown",
   "id": "7a467fbc-0c15-4552-bf54-d5fee8b14b19",
   "metadata": {},
   "source": [
    "To customize the `OneVariableNet` class such that all the weights (and optionally biases) of the layers are initialized from a normal distribution, you can use PyTorch's `torch.nn.init` functions. In this case, we will use `normal_` to initialize the weights and biases.\n",
    "\n",
    "Here's how you can modify the `OneVariableNet` class to initialize its parameters with a normal distribution, specifying a mean and a standard deviation:"
   ]
  },
  {
   "cell_type": "code",
   "execution_count": 15,
   "id": "ae65756d-361d-4384-8c57-1b2389d96eb8",
   "metadata": {},
   "outputs": [
    {
     "name": "stdout",
     "output_type": "stream",
     "text": [
      "OneVariableNet(\n",
      "  (hidden1): Linear(in_features=1, out_features=10, bias=True)\n",
      "  (hidden2): Linear(in_features=10, out_features=10, bias=True)\n",
      "  (hidden3): Linear(in_features=10, out_features=10, bias=True)\n",
      "  (output): Linear(in_features=10, out_features=1, bias=True)\n",
      "  (activation): ReLU()\n",
      ")\n"
     ]
    }
   ],
   "source": [
    "import torch\n",
    "import torch.nn as nn\n",
    "import torch.nn.init as init\n",
    "\n",
    "class OneVariableNet(nn.Module):\n",
    "    def __init__(self):\n",
    "        super(OneVariableNet, self).__init__()\n",
    "        self.hidden1 = nn.Linear(1, 10)\n",
    "        self.hidden2 = nn.Linear(10, 10)\n",
    "        self.hidden3 = nn.Linear(10, 10)\n",
    "        self.output = nn.Linear(10, 1)\n",
    "        self.activation = nn.ReLU()  # or any other activation\n",
    "\n",
    "        # Initialize weights and biases with a normal distribution\n",
    "        self.init_weights()\n",
    "\n",
    "    def init_weights(self):\n",
    "        # Initialize weights with a normal distribution\n",
    "        for m in self.modules():\n",
    "            if isinstance(m, nn.Linear):\n",
    "                init.normal_(m.weight, mean=0.0, std=0.1)\n",
    "                init.constant_(m.bias, 0)  # Initialize biases to zero or use normal distribution as well\n",
    "\n",
    "    def forward(self, x):\n",
    "        x = self.activation(self.hidden1(x))\n",
    "        x = self.activation(self.hidden2(x))\n",
    "        x = self.activation(self.hidden3(x))\n",
    "        x = self.output(x)\n",
    "        return x\n",
    "\n",
    "# Create an instance of the network\n",
    "net = OneVariableNet()\n",
    "print(net)\n"
   ]
  },
  {
   "cell_type": "markdown",
   "id": "bf2a8691-1d93-4c59-850d-aad29f72693a",
   "metadata": {},
   "source": [
    "**Explanation:**\n",
    "1. **`init_weights` Method:** This method iterates through all modules (layers) in the network. If the module is an instance of `nn.Linear` (a linear layer), it initializes the weights using a normal distribution with specified mean and standard deviation (mean=0.0, std=0.1 in this example). Biases are set to zero using `init.constant_`. You can also choose to initialize biases from a normal distribution if desired.\n",
    "\n",
    "2. **Initialization in Constructor:** The `init_weights` method is called within the constructor (`__init__`) of the class, ensuring that all weights and biases are initialized properly when an instance of `OneVariableNet` is created.\n",
    "\n",
    "This approach lets you control the initialization process in depth, adapting it as needed for different network architectures or experiments. Adjusting the mean and standard deviation of the normal distribution can help in fine-tuning the initialization process according to specific needs of your training dynamics.\n",
    "\n",
    "\n",
    "\n",
    "\n",
    "\n",
    "\n"
   ]
  },
  {
   "cell_type": "code",
   "execution_count": null,
   "id": "bb66d5df-4756-44dc-a785-45817931166d",
   "metadata": {},
   "outputs": [],
   "source": []
  }
 ],
 "metadata": {
  "kernelspec": {
   "display_name": "Python [conda env:8820-env]",
   "language": "python",
   "name": "conda-env-8820-env-py"
  },
  "language_info": {
   "codemirror_mode": {
    "name": "ipython",
    "version": 3
   },
   "file_extension": ".py",
   "mimetype": "text/x-python",
   "name": "python",
   "nbconvert_exporter": "python",
   "pygments_lexer": "ipython3",
   "version": "3.9.18"
  }
 },
 "nbformat": 4,
 "nbformat_minor": 5
}
