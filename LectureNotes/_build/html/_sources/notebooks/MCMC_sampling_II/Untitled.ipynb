{
 "cells": [
  {
   "cell_type": "markdown",
   "id": "522de479",
   "metadata": {},
   "source": [
    "# Quick check of the distribution of normal variables squared"
   ]
  },
  {
   "cell_type": "code",
   "execution_count": 2,
   "id": "a557b6d8",
   "metadata": {},
   "outputs": [],
   "source": [
    "import numpy as np\n",
    "import matplotlib.pyplot as plt\n",
    "import scipy.stats as stats"
   ]
  },
  {
   "cell_type": "code",
   "execution_count": null,
   "id": "4bb20b36",
   "metadata": {},
   "outputs": [],
   "source": []
  }
 ],
 "metadata": {
  "kernelspec": {
   "display_name": "Python [conda env:8820-book-env-2] *",
   "language": "python",
   "name": "conda-env-8820-book-env-2-py"
  },
  "language_info": {
   "codemirror_mode": {
    "name": "ipython",
    "version": 3
   },
   "file_extension": ".py",
   "mimetype": "text/x-python",
   "name": "python",
   "nbconvert_exporter": "python",
   "pygments_lexer": "ipython3",
   "version": "3.9.6"
  }
 },
 "nbformat": 4,
 "nbformat_minor": 5
}
