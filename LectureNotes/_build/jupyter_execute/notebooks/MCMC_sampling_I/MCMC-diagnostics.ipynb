{
 "cells": [
  {
   "cell_type": "markdown",
   "metadata": {
    "slideshow": {
     "slide_type": "slide"
    }
   },
   "source": [
    "#  Overview: MCMC Diagnostics\n",
    "\n",
    "Adapted from the TALENT course on Learning from Data: Bayesian Methods and Machine Learning\n",
    "(York, UK, June 10-28, 2019).\n",
    "\n",
    "The original notebook was by Christian Forssen.  Revisions by Dick Furnstahl."
   ]
  },
  {
   "cell_type": "code",
   "execution_count": null,
   "metadata": {
    "ExecuteTime": {
     "end_time": "2016-03-02T07:57:16.457264",
     "start_time": "2016-03-02T07:57:16.443739"
    }
   },
   "outputs": [],
   "source": [
    "%matplotlib inline\n",
    "\n",
    "import numpy as np\n",
    "from scipy.stats import norm, uniform\n",
    "\n",
    "import matplotlib.pyplot as plt\n",
    "import seaborn as sbn\n",
    "sbn.set_style('white')\n",
    "sbn.set_context('talk')\n",
    "\n",
    "import pandas as pd\n",
    "import warnings\n",
    "warnings.filterwarnings('ignore')\n"
   ]
  },
  {
   "cell_type": "markdown",
   "metadata": {
    "slideshow": {
     "slide_type": "slide"
    }
   },
   "source": [
    "## MCMC diagnostics: assessing convergence\n",
    "\n",
    "From previous notebooks, we know that using Metropolis-Hastings (MH) leads to a Markov Chain that we can use for inference. This is predicated on our chain converging to our stationary distribution (the posterior).  Knowing when a chain has converged is a numerical issue and there are some diagnostic tools that we can use for assessing convergence."
   ]
  },
  {
   "cell_type": "markdown",
   "metadata": {
    "slideshow": {
     "slide_type": "subslide"
    }
   },
   "source": [
    "### BDA3: Gelman et al, Fig. 11.1\n",
    "![BDA3: Gelman et al, Fig. 11.1](https://raw.githubusercontent.com/buqeye/LearningFromData/main/LectureNotes/_images/gelman_11.1.png)"
   ]
  },
  {
   "cell_type": "code",
   "execution_count": null,
   "metadata": {},
   "outputs": [],
   "source": []
  },
  {
   "cell_type": "markdown",
   "metadata": {
    "slideshow": {
     "slide_type": "slide"
    }
   },
   "source": [
    "### Fitting a straight line - revisited\n",
    "Let us revisit the problem of inferring the parameters of a straight line. See also [parameter_estimation_fitting_straight_line_I.ipynb](../Parameter_estimation/parameter_estimation_fitting_straight_line_I.ipynb) and [parameter_estimation_fitting_straight_line_II.ipynb](../Why_Bayes_is_better//parameter_estimation_fitting_straight_line_II.ipynb)"
   ]
  },
  {
   "cell_type": "markdown",
   "metadata": {
    "slideshow": {
     "slide_type": "fragment"
    }
   },
   "source": [
    "#### The Data\n",
    "\n",
    "Let's start by creating some data that we will fit with a straight line.  We'll start with a constant standard deviation of $\\sigma$ on the $y$ values and no error on $x$."
   ]
  },
  {
   "cell_type": "code",
   "execution_count": null,
   "metadata": {},
   "outputs": [],
   "source": [
    "np.random.seed()   # set up the random seed for later calls\n",
    "\n",
    "def make_data(intercept, slope, N_pts=20, dy=.2, rseed=None):\n",
    "    \"\"\"Given a straight line defined by intercept and slope:\n",
    "          y = slope * x + intercept\n",
    "       generate N_pts points randomly spaced points from x=0 to x=x_max\n",
    "       with Gaussian (i.e., normal) error with mean zero and standard\n",
    "       deviation dy.\n",
    "       \n",
    "       Unless rseed is specified as an integer, new random data will be \n",
    "       generated each time.\n",
    "       \n",
    "       Return the x and y arrays and an array of standard deviations.\n",
    "    \"\"\"\n",
    "    rand = np.random.RandomState(rseed) \n",
    "    \n",
    "    x_max = 10.\n",
    "    x = x_max * rand.rand(N_pts)  # choose the x values randomly in [0,10]\n",
    "    y = intercept + slope * x  # This is the y value without noise\n",
    "    y += dy * rand.randn(N_pts)    # Add in Gaussian noise\n",
    "    return x, y, dy * np.ones_like(x)  # return coordinates and error bars\n",
    "\n",
    "# Specify the true parameters and make sample data\n",
    "intercept = 1.5   # true intercept (called b elsewhere)\n",
    "slope = 0.5       # true slope (called m elsewhere)\n",
    "theta_true = [intercept, slope]  # put parameters in a true theta vector\n",
    "x, y, dy = make_data(*theta_true)\n",
    "\n",
    "# Make a plot of the data\n",
    "fig, ax = plt.subplots(figsize=(8,8))\n",
    "ax.errorbar(x, y, dy, fmt='o', color='blue')\n",
    "ax.set_xlabel(r'$x$')\n",
    "ax.set_ylabel(r'$y$')\n",
    "plot_title = rf'intercept $= {intercept:.1f}$, slope $= {slope:.1f}$, ' \\\n",
    "              + rf' $\\sigma = {dy[0]:.1f}$'\n",
    "ax.set_title(plot_title)\n",
    "fig.tight_layout()"
   ]
  },
  {
   "cell_type": "markdown",
   "metadata": {
    "slideshow": {
     "slide_type": "subslide"
    }
   },
   "source": [
    "#### The Model\n",
    "\n",
    "Next we need to specify a theoretical model. We're fitting a straight line to data, so we'll need a slope and an intercept; i.e.\n",
    "\n",
    "$$\n",
    "y_{\\textrm{th}}(x) = mx + b\n",
    "$$\n",
    "\n",
    "where our parameter vector will be \n",
    "\n",
    "$$\n",
    "\\theta = [b, m]\n",
    "$$\n",
    "\n",
    "But this is only half the picture: what we mean by a \"model\" in a Bayesian sense is not only this expected value $y_{\\textrm{th}}(x;\\theta)$, but a **probability distribution** for our data.\n",
    "That is, we need an expression to compute the likelihood $p(D\\mid\\theta, I)$ for our data as a function of the parameters $\\theta$ ($I$ stands for all other information).\n",
    "Here $D$ is the set of all $(x,y)$ pairs that we know about (or measure).\n",
    "\n",
    "\\[Note: At this stage we are (implicitly) assuming that our theoretical model is perfect.  But it is not!  We'll come back eventually to talk about adding a theory error $\\delta y_{\\textrm{th}}$.\\]"
   ]
  },
  {
   "cell_type": "markdown",
   "metadata": {},
   "source": [
    "We are given data with simple error bars, which imply that the probability for any *single* data point (labeled by $i$) is a normal distribution with mean given by the true value. That is,\n",
    "\n",
    "$$\n",
    "y_i \\sim \\mathcal{N}(y_{\\textrm{th}}(x_i;\\theta), \\varepsilon_i^2)\n",
    "$$\n",
    "\n",
    "or, in other words,\n",
    "\n",
    "$$\n",
    "p(y_i\\mid x_i,\\theta,  I) = \\frac{1}{\\sqrt{2\\pi\\varepsilon_i^2}} \\exp\\left(\\frac{-\\left[y_i - y_{\\textrm{th}}(x_i;\\theta)\\right]^2}{2\\varepsilon_i^2}\\right)\n",
    "$$\n",
    "\n",
    "where $\\varepsilon_i$ are the (known) measurement errors indicated by the error bars."
   ]
  },
  {
   "cell_type": "markdown",
   "metadata": {},
   "source": [
    "Assuming all the points are independent, we can find the full likelihood by multiplying the individual likelihoods together:\n",
    "\n",
    "$$\n",
    "p(D\\mid\\theta, I) = \\prod_{i=1}^N p(y_i\\mid x_i,\\theta, I)\n",
    "$$\n",
    "\n",
    "For convenience (and also for numerical accuracy) this is often expressed in terms of the log-likelihood:\n",
    "\n",
    "$$\n",
    "\\log p(D\\mid\\theta, I) = -\\frac{1}{2}\\sum_{i=1}^N\\left(\\log(2\\pi\\varepsilon_i^2) + \\frac{\\left[y_i - y_M(x_i;\\theta)\\right]^2}{\\varepsilon_i^2}\\right)\n",
    "$$"
   ]
  },
  {
   "cell_type": "code",
   "execution_count": null,
   "metadata": {
    "slideshow": {
     "slide_type": "subslide"
    }
   },
   "outputs": [],
   "source": [
    "# Log likelihood\n",
    "def log_likelihood(theta, x, y, dy):\n",
    "    \"\"\"Return the log likelihood given the vector of parameters theta and\n",
    "        numpy arrays for x, y, and dy (which is the standard deviation).\n",
    "    \"\"\"\n",
    "    y_model = theta[0] + theta[1] * x\n",
    "    return -0.5 * np.sum(np.log(2 * np.pi * dy ** 2) + \n",
    "                         (y - y_model) ** 2 / dy ** 2)\n",
    "\n",
    "# Let's use the (log) symmetric prior, which is the scale-invariant one.\n",
    "# Uniform prior for the offset\n",
    "def log_prior(theta):\n",
    "    \"\"\"Prior p(m) proportional to (1 + m^2)^{-3/2}\"\"\"\n",
    "    if np.abs(theta[0]) < 1000:\n",
    "        return -1.5 * np.log(1 + theta[1]**2)\n",
    "    else:\n",
    "        return -np.inf  # log(0)\n",
    "    \n",
    "def log_posterior(theta, x, y, dy):\n",
    "    \"\"\"Return the log posterior by evaluating the log prior and log\n",
    "        likelihood.\n",
    "       Probably should first check if the log prior is -np.inf before \n",
    "        evaluating the log likelihood\n",
    "    \"\"\"\n",
    "    return log_prior(theta) + log_likelihood(theta, x, y, dy)"
   ]
  },
  {
   "cell_type": "markdown",
   "metadata": {},
   "source": [
    "We will use the emcee sampler, but in its Metropolis-Hastings mode. Here you can use your own sampler if you created one."
   ]
  },
  {
   "cell_type": "code",
   "execution_count": null,
   "metadata": {},
   "outputs": [],
   "source": [
    "import emcee\n",
    "import corner\n",
    "print('emcee sampling (version: )', emcee.__version__)\n",
    "\n",
    "ndim = 2  # number of parameters in the model\n",
    "nwalkers = 10\n",
    "nwarmup = 1000\n",
    "nsteps = 2000\n",
    "\n",
    "# MH-Sampler setup\n",
    "stepsize = .005\n",
    "cov = stepsize * np.eye(ndim)\n",
    "p0 = np.random.rand(nwalkers,ndim)\n",
    "\n",
    "# initialize the sampler\n",
    "sampler = emcee.EnsembleSampler(nwalkers, ndim, log_posterior, args=[x, y, dy],\n",
    "                               moves=emcee.moves.GaussianMove(cov))"
   ]
  },
  {
   "cell_type": "code",
   "execution_count": null,
   "metadata": {
    "slideshow": {
     "slide_type": "subslide"
    }
   },
   "outputs": [],
   "source": [
    "# Sample the posterior distribution\n",
    "\n",
    "# Warm-up\n",
    "if nwarmup > 0:\n",
    "    print(f'Performing {nwarmup} warmup iterations.')\n",
    "    pos, prob, state = sampler.run_mcmc(p0, nwarmup)\n",
    "    sampler.reset()\n",
    "else:\n",
    "    pos = p0\n",
    "    \n",
    "# Perform iterations, starting at the final position from the warmup.\n",
    "print(f'MH sampler performing {nsteps} samples.')\n",
    "%time sampler.run_mcmc(pos, nsteps)\n",
    "print(\"done\")\n",
    "\n",
    "print(f\"Mean acceptance fraction: {np.mean(sampler.acceptance_fraction):.3f}\")\n",
    "\n",
    "samples = sampler.chain.reshape((-1, ndim))\n",
    "samples_unflattened = sampler.chain\n",
    "lnposts = sampler.lnprobability.flatten()\n",
    "\n",
    "    \n",
    "# make a corner plot with the posterior distribution\n",
    "fig = corner.corner(samples, quantiles=[0.16, 0.5, 0.84], labels=[r\"$\\theta_0$\", r\"$\\theta_1$\"],\n",
    "                       show_titles=True, title_kwargs={\"fontsize\": 12})"
   ]
  },
  {
   "cell_type": "code",
   "execution_count": null,
   "metadata": {},
   "outputs": [],
   "source": [
    "print(samples.shape)\n",
    "print(samples_unflattened.shape)\n",
    "print(lnposts.shape)"
   ]
  },
  {
   "cell_type": "code",
   "execution_count": null,
   "metadata": {
    "ExecuteTime": {
     "end_time": "2016-03-02T07:57:53.986854",
     "start_time": "2016-03-02T07:57:53.144613"
    },
    "slideshow": {
     "slide_type": "subslide"
    }
   },
   "outputs": [],
   "source": [
    "fix, ax = plt.subplots(3,2,figsize=(12,5*ndim))\n",
    "for irow in range(ndim):\n",
    "    ax[irow,0].plot(np.arange(samples.shape[0]),samples[:,irow])\n",
    "    ax[irow,0].set_ylabel(r'$\\theta_{0}$'.format(irow))\n",
    "    ax[irow,1].hist(samples[:,irow],orientation='horizontal',bins=30)\n",
    "    \n",
    "ax[2,0].plot(np.arange(samples.shape[0]),lnposts)\n",
    "ax[2,1].hist(lnposts,orientation='horizontal',bins=30)\n",
    "ax[2,0].set_ylabel(r'$\\log(p)$')\n",
    "\n",
    "ax[0,1].set_title('Histogram')\n",
    "ax[0,0].set_title('Trace Plot')\n",
    "\n",
    "plt.tight_layout()"
   ]
  },
  {
   "cell_type": "markdown",
   "metadata": {
    "collapsed": true,
    "jupyter": {
     "outputs_hidden": true
    },
    "slideshow": {
     "slide_type": "slide"
    }
   },
   "source": [
    "## How do we know this chain has converged to the posterior?\n",
    "Credit to [BDA3](http://www.stat.columbia.edu/~gelman/book/) by Gelman et al. and lecture notes by [Rob Hicks](https://rlhick.people.wm.edu/)"
   ]
  },
  {
   "cell_type": "markdown",
   "metadata": {
    "slideshow": {
     "slide_type": "subslide"
    }
   },
   "source": [
    "### Standard Error of the Mean\n",
    "\n",
    "This investigates the question how does the **mean** of $\\theta$ deviate in our chain, and is capturing the *simulation error* of the mean rather than underlying uncertainty of our parameter $\\theta$:\n",
    "\n",
    "$$\n",
    "SE({\\bar{\\theta}}) = \\frac{\\text{Posterior Standard Deviation}}{\\sqrt{N}}\n",
    "$$\n",
    "\n",
    "where $N$ is the chain length (the number of iterations in your chain). \n",
    "\n",
    "For our problem this is:"
   ]
  },
  {
   "cell_type": "code",
   "execution_count": null,
   "metadata": {
    "ExecuteTime": {
     "end_time": "2016-03-02T07:57:53.992359",
     "start_time": "2016-03-02T07:57:53.988659"
    }
   },
   "outputs": [],
   "source": [
    "for irow in range(ndim):\n",
    "    print(f\"Standard Error of the Mean for theta_{irow}: {samples[:,irow].std()/np.sqrt(samples.shape[0]):.1e}\")"
   ]
  },
  {
   "cell_type": "markdown",
   "metadata": {},
   "source": [
    "This is saying that very little of our posterior variation in $\\theta$ is due to sampling error (that is good).  We can visualize this by examining the moving average of our chain as we move through the iterations:"
   ]
  },
  {
   "cell_type": "code",
   "execution_count": null,
   "metadata": {
    "ExecuteTime": {
     "end_time": "2016-03-02T07:57:59.840736",
     "start_time": "2016-03-02T07:57:59.296811"
    }
   },
   "outputs": [],
   "source": [
    "fix, ax = plt.subplots(2,1,figsize=(12,10))\n",
    "# pandas makes this easy:\n",
    "df_chain = pd.DataFrame(samples,columns=['theta0','theta1'])\n",
    "df_chain['ma_theta0'] = df_chain.theta0.rolling(window=500,center=False).mean()\n",
    "df_chain['ma_theta1'] = df_chain.theta1.rolling(window=500,center=False).mean()\n",
    "\n",
    "ax[0].plot(np.arange(samples.shape[0]),samples[:,0],label=r'$\\theta_0$')\n",
    "ax[0].plot(np.arange(samples.shape[0]),df_chain['ma_theta0'],label=r'Moving average')\n",
    "ax[0].set_ylabel(r'$\\theta_0$')\n",
    "\n",
    "ax[1].plot(np.arange(samples.shape[0]),samples[:,1],label=r'trace')\n",
    "ax[1].plot(np.arange(samples.shape[0]),df_chain['ma_theta1'],label=r'Moving average')\n",
    "ax[1].set_ylabel(r'$\\theta_1$')\n",
    "\n",
    "plt.legend();"
   ]
  },
  {
   "cell_type": "markdown",
   "metadata": {},
   "source": [
    "This is a good sign that our chain is stable, since both the individual samples of $\\theta$ in our chain and the mean of the samples dance around a stable value of $\\theta$.  The calculation above makes this more concrete.  There are time series versions of this calculation that accounts for the fact that the chain is not iid."
   ]
  },
  {
   "cell_type": "markdown",
   "metadata": {
    "slideshow": {
     "slide_type": "subslide"
    }
   },
   "source": [
    "### Autocorrelation Plots"
   ]
  },
  {
   "cell_type": "code",
   "execution_count": null,
   "metadata": {},
   "outputs": [],
   "source": [
    "def autocorrelation(chain, max_lag=100):\n",
    "    dimension = len(chain)\n",
    "    acors = np.empty(max_lag+1)\n",
    "    if max_lag > len(chain)/5:\n",
    "        warnings.warn('max_lag is more than one fifth the chain length')\n",
    "    # Create a copy of the chain with average zero\n",
    "    chain1d = chain - np.average(chain)\n",
    "    for lag in range(max_lag+1):\n",
    "        unshifted = None\n",
    "        shifted = chain1d[lag:]\n",
    "        if 0 == lag:\n",
    "            unshifted = chain1d\n",
    "        else:\n",
    "            unshifted = chain1d[:-lag]\n",
    "        normalization = np.sqrt(np.dot(unshifted, unshifted))\n",
    "        normalization *= np.sqrt(np.dot(shifted, shifted))\n",
    "        acors[lag] = np.dot(unshifted, shifted) / normalization\n",
    "    return acors"
   ]
  },
  {
   "cell_type": "code",
   "execution_count": null,
   "metadata": {},
   "outputs": [],
   "source": [
    "fig, ax = plt.subplots(1,2,sharey=True,figsize=(12,5))\n",
    "for icol in range(ndim):\n",
    "    acors = autocorrelation(samples[:,icol],max_lag=1000)\n",
    "    ax[icol].plot(acors)\n",
    "    ax[icol].set_xlabel('lag')\n",
    "ax[0].set(ylabel='autocorrelation', ylim=(-.5, 1.));"
   ]
  },
  {
   "cell_type": "markdown",
   "metadata": {
    "slideshow": {
     "slide_type": "subslide"
    }
   },
   "source": [
    "### Acceptance Rate for the MH Algorithm\n",
    "\n",
    "Recall that we want the acceptance rate to be in the range .2 to .4.  For our problem [this paper](http://projecteuclid.org/DPubS?service=UI&version=1.0&verb=Display&handle=euclid.aoap/1034625254) suggests an acceptance rate of .234 for random walk MH.\n",
    "\n",
    "Since the number of **new** members in the chain represent the number of acceptances, count changes in chain values and divide by total chain length to calculate acceptance rate:"
   ]
  },
  {
   "cell_type": "code",
   "execution_count": null,
   "metadata": {
    "ExecuteTime": {
     "end_time": "2016-03-02T07:58:10.318014",
     "start_time": "2016-03-02T07:58:10.311158"
    }
   },
   "outputs": [],
   "source": [
    "print(f\"Acceptance Rate is: {np.mean(sampler.acceptance_fraction):.3f}\")"
   ]
  },
  {
   "cell_type": "markdown",
   "metadata": {},
   "source": [
    "The acceptance rate is helpful in describing convergence because it indicates a good level of \"mixing\" over the parameter space. The acceptance rate can be tuned via the proposal width after which we re-run our MH MCMC sampler.\n",
    "\n",
    "> Note: modern software (like pymc and emcee) can auto-tune the proposal distribution to achieve a desired acceptance rate."
   ]
  },
  {
   "cell_type": "markdown",
   "metadata": {
    "collapsed": true,
    "jupyter": {
     "outputs_hidden": true
    },
    "slideshow": {
     "slide_type": "subslide"
    }
   },
   "source": [
    "### Gelman Rubin Diagnostic\n",
    "\n",
    "If our MH MCMC Chain reaches a stationary distribution, and we repeat the exercise multiple times, then we can examine if the posterior for each chain converges to the same place in the distribution of the parameter space.\n",
    "\n",
    "Steps:\n",
    "1. Run multiple chains starting at different points (multiple walkers).  Discard the warm-up for each.\n",
    "2. Split each chain in two, with $N$ iterations in each half chain.  Call $M$ the total number of chains now (twice the original number). \n",
    "3. Calculate the within and between chain variance.  This tests both mixing (if well-mixed, the separate parts of different chains should mix) and stationarity (two halves of each chain should be sampling the same distribution).\n",
    "* Label the scalar parameter or expectation value being tested as $\\psi$ and label the simulated results as $\\psi_{ij}$, where $i$ runs from 1 to $N$ within each chain and $j$ labels the chain from 1 to $M$.  Then we define:\n",
    "\n",
    "$$\n",
    "    \\overline\\psi_{\\cdot j} \\equiv \\frac{1}{N} \\sum_{i=1}^{N} \\psi_{ij}\n",
    "    \\quad \\mbox{and} \\quad\n",
    "    \\overline\\psi_{\\cdot \\cdot} \\equiv \\frac{1}{M} \\sum_{j=1}^{M} \\overline\\psi_{\\cdot j}    \n",
    "$$\n",
    "\n",
    "where $\\overline\\psi_{\\cdot j}$ is the mean within chain $j$ and $\\overline\\psi_{\\cdot \\cdot}$ is the average (mean) of these means across the $M$ chains.\n",
    "    \n",
    "* Within chain variance:\n",
    "\n",
    "$$\n",
    "    W = \\frac{1}{M}\\sum_{j=1}^M s_j^2 \n",
    "    \\quad \\mbox{where} \\quad\n",
    "    s_j^2 = \\frac{1}{N-1}\\sum_{i=1}^{N}(\\psi_{ij} - \\overline\\psi_{\\cdot j})^2 \\;,\n",
    "$$\n",
    "\n",
    "with $s_j^2$ is the variance of each chain.  So $W$ is the mean of the in-chain variances.  It is expected that $W$ will *underestimate* the variance of $\\psi$ (which we'll denote ${\\mbox{var}}(\\psi)$ because an individual sequence (i.e., chain) with $N < \\infty$ will not have run forever, so it will not have ranged over the full target distribution, so it will have less variability.\n",
    "    \n",
    "* Between chain variance:\n",
    "    \n",
    "$$\n",
    "    B = \\frac{N}{M-1} \\sum_{j=1}^M (\\overline\\psi_{\\cdot j} - \\overline\\psi_{\\cdot \\cdot})^2 \\;.\n",
    "$$\n",
    "\n",
    "There is an $N$ in the numerator of $B$ because it is from the variance of the within-sequence means $\\overline\\psi_{\\cdot j}$,\n",
    "    each of which is an average of $N$ values $\\psi_{ij}$.\n",
    "    \n",
    "4. Calculate the estimated variance of $\\psi$ as the weighted sum of within and between chain variance.\n",
    "\n",
    "$$\n",
    "    \\hat{\\mbox{var}}(\\psi)^{+} = \\left ( 1 - \\frac{1}{N}\\right ) W + \\frac{1}{N}B  \\;.\n",
    "$$\n",
    "\n",
    "This quantity is expected to *overestimate* ${\\mbox{var}}(\\psi)$ but is unbiased under stationarity.  \n",
    "\n",
    "5. Calculate the potential scale reduction factor, $\\hat{R}$, which is the factor by which the scale that characterizes the distribution for $\\psi$ at the current stage might be reduced if we increased each chain size $N$ toward infinity:\n",
    "\n",
    "$$\n",
    "    \\hat{R} = \\sqrt{\\frac{\\hat{\\mbox{var}}(\\psi)}{W}}\n",
    "$$\n",
    "\n",
    "Based on our expectations, this should be greater than 1 because the numerator overestimates ${\\mbox{var}}(\\psi)$ and denominator underestimates it.  But if it is close to 1, then it should mean that both chains are mixing around the stationary distribution.   \n",
    "Gelman and Rubin show that when $\\hat{R}$ is greater than 1.1 or 1.2, we need longer runs.\n",
    "\n",
    "Let's run 2 chains:"
   ]
  },
  {
   "cell_type": "code",
   "execution_count": null,
   "metadata": {
    "slideshow": {
     "slide_type": "subslide"
    }
   },
   "outputs": [],
   "source": [
    "no_of_chains=2\n",
    "chains=[]\n",
    "\n",
    "for ichain in range(no_of_chains):\n",
    "    sampler.reset()\n",
    "    p0 = np.random.rand(nwalkers,ndim)\n",
    "    # Warm-up\n",
    "    if nwarmup > 0:\n",
    "        print(f'Chain {ichain} performing {nwarmup} warmup iterations.')\n",
    "        pos, prob, state = sampler.run_mcmc(p0, nwarmup)\n",
    "        sampler.reset()\n",
    "    else:\n",
    "        pos = p0\n",
    "    \n",
    "    # Perform iterations, starting at the final position from the warmup.\n",
    "    print(f'MH sampler {ichain} performing {nsteps} samples.')\n",
    "    sampler.run_mcmc(pos, nsteps)\n",
    "    print(\"done\")\n",
    "    print(f\"Mean acceptance fraction: {np.mean(sampler.acceptance_fraction):.3f}\")\n",
    "\n",
    "    chains.append(sampler.flatchain)"
   ]
  },
  {
   "cell_type": "code",
   "execution_count": null,
   "metadata": {
    "ExecuteTime": {
     "end_time": "2016-03-02T07:59:14.474005",
     "start_time": "2016-03-02T07:58:28.055943"
    }
   },
   "outputs": [],
   "source": [
    "chain1 = chains[0]\n",
    "chain2 = chains[1]\n",
    "num_iter = chain1.shape[0]"
   ]
  },
  {
   "cell_type": "code",
   "execution_count": null,
   "metadata": {
    "ExecuteTime": {
     "end_time": "2016-03-02T07:59:44.103696",
     "start_time": "2016-03-02T07:59:43.638529"
    }
   },
   "outputs": [],
   "source": [
    "fig, ax = plt.subplots(2, 1, figsize=(12,10))\n",
    "for icol in range(ndim):\n",
    "    ax[icol].plot(np.arange(num_iter), chain1[:,icol])\n",
    "    ax[icol].plot(np.arange(num_iter), chain2[:,icol], alpha=.7)\n",
    "    ax[icol].set_ylabel(fr'$\\theta_{icol}$')\n",
    "    ax[icol].set_xlabel('iteration')\n",
    "    \n",
    "fig.tight_layout()"
   ]
  },
  {
   "cell_type": "code",
   "execution_count": null,
   "metadata": {
    "ExecuteTime": {
     "end_time": "2016-03-02T07:59:46.241200",
     "start_time": "2016-03-02T07:59:46.219331"
    },
    "scrolled": true
   },
   "outputs": [],
   "source": [
    "# rewrite of Gelman-Rubin estimation\n",
    "# we only want one of the variables\n",
    "Nchain = int(nsteps / 2)  # full chain\n",
    "\n",
    "Nchain = 2500  # size of each chain to use here\n",
    "Mchain = 4   # total number of chains\n",
    "param = 0    # which parameter to use\n",
    "\n",
    "\n",
    "def Gelman_Rubin_diagnostic_calc(chains, Nchain, Mchain=4, param=0):\n",
    "    psi_chains = np.zeros((Mchain, Nchain))\n",
    "    for icol in range(0, Mchain, 2):\n",
    "        i = int(icol/2)\n",
    "        psi_chains[icol,:] = np.array( chains[i] )[:Nchain, param]\n",
    "        psi_chains[icol+1,:] = np.array( chains[i] )[Nchain:2*Nchain, param]\n",
    "    \n",
    "    psi_mean = np.array([chain.mean() for chain in psi_chains])\n",
    "    psi_mean_all = psi_mean.sum() / Mchain\n",
    "\n",
    "    var_chain = np.zeros(Mchain)\n",
    "    for i in range(Mchain):\n",
    "        var_chain[i] = 1./(Nchain - 1) * \\\n",
    "                           ((psi_chains[i] - psi_mean[i])**2).sum()\n",
    "\n",
    "    W = var_chain.sum() / Mchain\n",
    "\n",
    "    B = Nchain / (Mchain - 1) * \\\n",
    "          np.array([(mean - psi_mean_all)**2 for mean in psi_mean]).sum()\n",
    "    \n",
    "    var_theta = (1. - 1./Nchain) * W + 1./Nchain * B\n",
    "    Rhat = np.sqrt(var_theta/W)\n",
    "    print(fr\"Nchain = {Nchain:4d}  Rhat = {Rhat:.3f}\")\n",
    "    \n",
    "print(f\"Gelman-Rubin Diagnostic for different chain lengths: \")\n",
    "for Nchain in [50, 100, 200, 500, 1000, 2000]:\n",
    "    Gelman_Rubin_diagnostic_calc(chains, Nchain, param=0)"
   ]
  },
  {
   "cell_type": "markdown",
   "metadata": {},
   "source": [
    "To repeat: Gelman and Rubin show that when $\\hat{R}$ is greater than 1.1 or 1.2, we need longer runs.\n"
   ]
  },
  {
   "cell_type": "markdown",
   "metadata": {
    "collapsed": true,
    "jupyter": {
     "outputs_hidden": true
    },
    "slideshow": {
     "slide_type": "slide"
    }
   },
   "source": [
    "# Univariate Approaches\n",
    "\n",
    "The diagnostics we have discussed are all univariate (they work perfectly when there is only one parameter to estimate).  \n",
    "\n",
    "So most people examine univariate diagnostics *for each variable*, examine autocorrelation plots, acceptance rates and try to argue chain convergence based on that."
   ]
  },
  {
   "cell_type": "code",
   "execution_count": null,
   "metadata": {},
   "outputs": [],
   "source": []
  },
  {
   "cell_type": "code",
   "execution_count": null,
   "metadata": {},
   "outputs": [],
   "source": []
  }
 ],
 "metadata": {
  "hide_input": false,
  "kernelspec": {
   "display_name": "Python 3 (ipykernel)",
   "language": "python",
   "name": "python3"
  },
  "language_info": {
   "codemirror_mode": {
    "name": "ipython",
    "version": 3
   },
   "file_extension": ".py",
   "mimetype": "text/x-python",
   "name": "python",
   "nbconvert_exporter": "python",
   "pygments_lexer": "ipython3",
   "version": "3.10.13"
  },
  "latex_envs": {
   "bibliofile": "biblio.bib",
   "cite_by": "apalike",
   "current_citInitial": 1,
   "eqLabelWithNumbers": true,
   "eqNumInitial": 0
  }
 },
 "nbformat": 4,
 "nbformat_minor": 4
}