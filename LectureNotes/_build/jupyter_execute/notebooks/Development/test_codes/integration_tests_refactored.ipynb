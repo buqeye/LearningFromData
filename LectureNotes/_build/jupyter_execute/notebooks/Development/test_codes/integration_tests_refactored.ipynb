{
 "cells": [
  {
   "cell_type": "markdown",
   "metadata": {
    "slideshow": {
     "slide_type": "slide"
    }
   },
   "source": [
    "# Integration tests of square well (refactored)\n",
    "\n",
    "Here we compare various ways to integrate in Python, both numerically and analytically, using the square well bound-state eigenvector continuation problem as an example."
   ]
  },
  {
   "cell_type": "markdown",
   "metadata": {
    "slideshow": {
     "slide_type": "fragment"
    }
   },
   "source": [
    "Something to look at: [quadpy](https://github.com/nschloe/quadpy)"
   ]
  },
  {
   "cell_type": "code",
   "execution_count": 4,
   "metadata": {
    "slideshow": {
     "slide_type": "fragment"
    }
   },
   "outputs": [],
   "source": [
    "%load_ext autoreload\n",
    "%autoreload 2\n",
    "\n",
    "import numpy as np\n",
    "from scipy.integrate import simps, trapz, quad, fixed_quad, quadrature\n",
    "import matplotlib.pyplot as plt\n",
    "\n",
    "from scipy.linalg import eig, eigh\n",
    "\n",
    "from integration import Gaussian_quadrature, Gaussian_mesh\n",
    "from square_well import SquareWell, rMeshSW, rGaussSW"
   ]
  },
  {
   "cell_type": "markdown",
   "metadata": {
    "slideshow": {
     "slide_type": "slide"
    }
   },
   "source": [
    "## Normalization integrals\n",
    "\n",
    "Here we integrate from 0 to R and from R to r_max (which could be infinity) of the wave function squared."
   ]
  },
  {
   "cell_type": "code",
   "execution_count": 5,
   "metadata": {
    "slideshow": {
     "slide_type": "fragment"
    }
   },
   "outputs": [],
   "source": [
    "# specify a test square well\n",
    "V0 = 2.\n",
    "R = 1.\n",
    "mu = 1.\n",
    "hbar = 1.\n",
    "new_variable = 5\n",
    "\n",
    "r_max = 20.\n",
    "\n",
    "sw_1 = SquareWell(V0, R, mu, hbar, r_max)"
   ]
  },
  {
   "cell_type": "code",
   "execution_count": 6,
   "metadata": {},
   "outputs": [
    {
     "data": {
      "text/plain": [
       "5"
      ]
     },
     "execution_count": 6,
     "metadata": {},
     "output_type": "execute_result"
    }
   ],
   "source": [
    "new_variable"
   ]
  },
  {
   "cell_type": "markdown",
   "metadata": {
    "slideshow": {
     "slide_type": "slide"
    }
   },
   "source": [
    "## Scipy routines"
   ]
  },
  {
   "cell_type": "markdown",
   "metadata": {},
   "source": [
    "### scipy.integrate.quad\n",
    "\n",
    "An unspecified general integration routine adapted from QUADPACK.\n",
    "Will work with infinite limits."
   ]
  },
  {
   "cell_type": "code",
   "execution_count": 7,
   "metadata": {},
   "outputs": [
    {
     "name": "stdout",
     "output_type": "stream",
     "text": [
      "49.5 µs ± 414 ns per loop (mean ± std. dev. of 7 runs, 10,000 loops each)\n",
      "229 µs ± 743 ns per loop (mean ± std. dev. of 7 runs, 1,000 loops each)\n"
     ]
    },
    {
     "ename": "NameError",
     "evalue": "name 'int_wf_sq_in_quad' is not defined",
     "output_type": "error",
     "traceback": [
      "\u001b[0;31m---------------------------------------------------------------------------\u001b[0m",
      "\u001b[0;31mNameError\u001b[0m                                 Traceback (most recent call last)",
      "Input \u001b[0;32mIn [7]\u001b[0m, in \u001b[0;36m<cell line: 4>\u001b[0;34m()\u001b[0m\n\u001b[1;32m      2\u001b[0m get_ipython()\u001b[38;5;241m.\u001b[39mrun_line_magic(\u001b[38;5;124m'\u001b[39m\u001b[38;5;124mtimeit\u001b[39m\u001b[38;5;124m'\u001b[39m, \u001b[38;5;124m'\u001b[39m\u001b[38;5;124mint_wf_sq_in_quad, err_in = quad(lambda r: sw_1.un_wf_in(r)**2,                                   0, R, epsabs=1.e-14, epsrel=1.e-14)\u001b[39m\u001b[38;5;124m'\u001b[39m)\n\u001b[1;32m      3\u001b[0m get_ipython()\u001b[38;5;241m.\u001b[39mrun_line_magic(\u001b[38;5;124m'\u001b[39m\u001b[38;5;124mtimeit\u001b[39m\u001b[38;5;124m'\u001b[39m, \u001b[38;5;124m'\u001b[39m\u001b[38;5;124mint_wf_sq_out_quad, err_out = quad(lambda r: sw_1.un_wf_out(r)**2,                                     R, r_max, epsabs=1.e-14, epsrel=1.e-14)\u001b[39m\u001b[38;5;124m'\u001b[39m)\n\u001b[0;32m----> 4\u001b[0m \u001b[38;5;28mprint\u001b[39m(\u001b[38;5;124mf\u001b[39m\u001b[38;5;124m'\u001b[39m\u001b[38;5;124minner by quad \u001b[39m\u001b[38;5;132;01m{\u001b[39;00mint_wf_sq_in_quad\u001b[38;5;132;01m:\u001b[39;00m\u001b[38;5;124m.16f\u001b[39m\u001b[38;5;132;01m}\u001b[39;00m\u001b[38;5;124m +/- \u001b[39m\u001b[38;5;132;01m{\u001b[39;00merr_in\u001b[38;5;132;01m:\u001b[39;00m\u001b[38;5;124m.3e\u001b[39m\u001b[38;5;132;01m}\u001b[39;00m\u001b[38;5;124m'\u001b[39m)\n\u001b[1;32m      5\u001b[0m \u001b[38;5;28mprint\u001b[39m(\u001b[38;5;124mf\u001b[39m\u001b[38;5;124m'\u001b[39m\u001b[38;5;124mouter by quad \u001b[39m\u001b[38;5;132;01m{\u001b[39;00mint_wf_sq_out_quad\u001b[38;5;132;01m:\u001b[39;00m\u001b[38;5;124m.16f\u001b[39m\u001b[38;5;132;01m}\u001b[39;00m\u001b[38;5;124m +/- \u001b[39m\u001b[38;5;132;01m{\u001b[39;00merr_out\u001b[38;5;132;01m:\u001b[39;00m\u001b[38;5;124m.3e\u001b[39m\u001b[38;5;132;01m}\u001b[39;00m\u001b[38;5;124m'\u001b[39m)\n",
      "\u001b[0;31mNameError\u001b[0m: name 'int_wf_sq_in_quad' is not defined"
     ]
    }
   ],
   "source": [
    "# scipy.integrate.quad \n",
    "%timeit int_wf_sq_in_quad, err_in = quad(lambda r: sw_1.un_wf_in(r)**2, \\\n",
    "                                 0, R, epsabs=1.e-14, epsrel=1.e-14)\n",
    "%timeit int_wf_sq_out_quad, err_out = quad(lambda r: sw_1.un_wf_out(r)**2, \\\n",
    "                                   R, r_max, epsabs=1.e-14, epsrel=1.e-14)\n",
    "print(f'inner by quad {int_wf_sq_in_quad:.16f} +/- {err_in:.3e}')\n",
    "print(f'outer by quad {int_wf_sq_out_quad:.16f} +/- {err_out:.3e}')"
   ]
  },
  {
   "cell_type": "code",
   "execution_count": 3,
   "metadata": {},
   "outputs": [
    {
     "name": "stdout",
     "output_type": "stream",
     "text": [
      "inner by quad 0.5797556310356548 +/- 6.437e-15\n",
      "outer by quad 0.2187357524270836 +/- 2.432e-15\n"
     ]
    }
   ],
   "source": [
    "# scipy.integrate.quad \n",
    "int_wf_sq_in_quad, err_in = quad(lambda r: sw_1.un_wf_in(r)**2, \n",
    "                                 0, R, epsabs=1.e-14, epsrel=1.e-14)\n",
    "int_wf_sq_out_quad, err_out = quad(lambda r: sw_1.un_wf_out(r)**2, \n",
    "                                   R, r_max, epsabs=1.e-14, epsrel=1.e-14)\n",
    "print(f'inner by quad {int_wf_sq_in_quad:.16f} +/- {err_in:.3e}')\n",
    "print(f'outer by quad {int_wf_sq_out_quad:.16f} +/- {err_out:.3e}')"
   ]
  },
  {
   "cell_type": "code",
   "execution_count": null,
   "metadata": {},
   "outputs": [],
   "source": []
  },
  {
   "cell_type": "markdown",
   "metadata": {},
   "source": [
    "Now try r_max -> np.inf. It works!"
   ]
  },
  {
   "cell_type": "code",
   "execution_count": 4,
   "metadata": {},
   "outputs": [
    {
     "name": "stdout",
     "output_type": "stream",
     "text": [
      "inner by quad 0.5797556310356548 +/- 6.437e-15\n",
      "outer by quad 0.2187357524335422 +/- 4.739e-15\n"
     ]
    }
   ],
   "source": [
    "# Now take it to r_max -> infinity\n",
    "# scipy.integrate.quad \n",
    "int_wf_sq_in_quad, err_in = quad(lambda r: sw_1.un_wf_in(r)**2, \n",
    "                                 0, R, epsabs=1.e-14, epsrel=1.e-14)\n",
    "int_wf_sq_out_quad, err_out = quad(lambda r: sw_1.un_wf_out(r)**2, \n",
    "                                   R, np.inf, epsabs=1.e-14, epsrel=1.e-14)\n",
    "print(f'inner by quad {int_wf_sq_in_quad:.16f} +/- {err_in:.3e}')\n",
    "print(f'outer by quad {int_wf_sq_out_quad:.16f} +/- {err_out:.3e}')"
   ]
  },
  {
   "cell_type": "markdown",
   "metadata": {},
   "source": [
    "### scipy.integrate.quadrature\n",
    "\n",
    "Computes a definite integral using fixed-tolerance Gaussian quadrature. \n",
    "Only works with finite limits. "
   ]
  },
  {
   "cell_type": "code",
   "execution_count": 5,
   "metadata": {},
   "outputs": [
    {
     "name": "stdout",
     "output_type": "stream",
     "text": [
      "inner by quadrature 0.5797556310356546 +/- 1.527e-15\n",
      "outer by quadrature 0.2187357524270815 +/- 1.527e-15\n"
     ]
    }
   ],
   "source": [
    "# scipy.integrate.quadrature\n",
    "int_wf_sq_in_quadrature, err = quadrature(lambda r: sw_1.un_wf_in(r)**2, \n",
    "                                          0, R, tol=1.e-14, rtol=1.e-14)\n",
    "int_wf_sq_out_quadrature, err = quadrature(lambda r: sw_1.un_wf_out(r)**2, \n",
    "                                          R, r_max, tol=1.e-14, rtol=1.e-14)\n",
    "print(f'inner by quadrature {int_wf_sq_in_quadrature:.16f} +/- {err:.3e}')\n",
    "print(f'outer by quadrature {int_wf_sq_out_quadrature:.16f} +/- {err:.3e}')"
   ]
  },
  {
   "cell_type": "markdown",
   "metadata": {},
   "source": [
    "### scipy.integrate.fixed_quad\n",
    "\n",
    "Computes a definite integral using fixed-order Gaussian quadrature.\n",
    "Only works with finite limits. "
   ]
  },
  {
   "cell_type": "code",
   "execution_count": 6,
   "metadata": {},
   "outputs": [
    {
     "name": "stdout",
     "output_type": "stream",
     "text": [
      "inner by fixed_quad 0.5797556310356546 \n",
      "outer by fixed_quad 0.5649079751430025 \n"
     ]
    }
   ],
   "source": [
    "# scipy.integrate.fixed_quad\n",
    "int_wf_sq_in_fixed_quad, dum = fixed_quad(lambda r: sw_1.un_wf_in(r)**2, \n",
    "                                     0, R, n=20)\n",
    "int_wf_sq_out_fixed_quad, dum = fixed_quad(lambda r: sw_1.un_wf_out(r)**2, \n",
    "                                     0, R, n=20)\n",
    "print(f'inner by fixed_quad {int_wf_sq_in_fixed_quad:.16f} ')\n",
    "print(f'outer by fixed_quad {int_wf_sq_out_fixed_quad:.16f} ')"
   ]
  },
  {
   "cell_type": "markdown",
   "metadata": {},
   "source": [
    "### Uniform mesh \n",
    "\n",
    "Use Simpson's rule (`scipy.integrate.simps`) or the trapezoid rule (`scipy.integrate.trapz`)."
   ]
  },
  {
   "cell_type": "code",
   "execution_count": 7,
   "metadata": {},
   "outputs": [
    {
     "name": "stdout",
     "output_type": "stream",
     "text": [
      "Uniform mesh up to r_max = 20.0 with 1000 points.\n",
      "inner integration Simpsons rule:  0.5797556310965298\n",
      "inner integration trapezoid rule: 0.5797555353263462\n",
      "outer integration Simpsons rule:  0.2187358815657248\n",
      "outer integration trapezoid rule: 0.2187464891851396\n"
     ]
    }
   ],
   "source": [
    "# Use a mesh with equal points from 0 to R and R to r_max\n",
    "num_pts = 1000\n",
    "r_mesh = rMeshSW(R, r_max, num_pts, num_pts)\n",
    "\n",
    "wf_sq_in = sw_1.un_wf_in(r_mesh.r_in_pts)**2\n",
    "int_wf_sq_in_simps = simps(wf_sq_in, r_mesh.r_in_pts)\n",
    "int_wf_sq_in_trapz = trapz(wf_sq_in, r_mesh.r_in_pts)\n",
    "\n",
    "wf_sq_out = sw_1.un_wf_out(r_mesh.r_out_pts)**2\n",
    "int_wf_sq_out_simps = simps(wf_sq_out, r_mesh.r_out_pts)\n",
    "int_wf_sq_out_trapz = trapz(wf_sq_out, r_mesh.r_out_pts)\n",
    "\n",
    "print(rf'Uniform mesh up to r_max = {r_max:.1f} with {num_pts} points.')\n",
    "print(rf'inner integration Simpsons rule:  {int_wf_sq_in_simps:.16f}')\n",
    "print(rf'inner integration trapezoid rule: {int_wf_sq_in_trapz:.16f}')\n",
    "print(rf'outer integration Simpsons rule:  {int_wf_sq_out_simps:.16f}')\n",
    "print(rf'outer integration trapezoid rule: {int_wf_sq_out_trapz:.16f}')"
   ]
  },
  {
   "cell_type": "code",
   "execution_count": 8,
   "metadata": {
    "code_folding": []
   },
   "outputs": [
    {
     "name": "stdout",
     "output_type": "stream",
     "text": [
      "Inner wave function:\n",
      " # pts      Simpsons       relerr           Trapezoid        relerr\n",
      "  100  0.5797556912185021 1.04e-07     0.5797458850610347   1.68e-05\n",
      "  200  0.5797556386084631 1.31e-08     0.5797532190122070   4.16e-06\n",
      "  400  0.5797556319851576 1.64e-09     0.5797550310513172   1.03e-06\n",
      "  800  0.5797556311545172 2.05e-10     0.5797554814149639   2.58e-07\n",
      " 1600  0.5797556310505231 2.56e-11     0.5797555936772636   6.44e-08\n",
      "\n",
      "\n",
      "Outer wave function:\n",
      " # pts      Simpsons       relerr           Trapezoid        relerr\n",
      "  100  0.2188582471476681 5.60e-04     0.2198279577212179   4.99e-03\n",
      "  200  0.2187515196434340 7.21e-05     0.2190062695943003   1.24e-03\n",
      "  400  0.2187377524908481 9.14e-06     0.2188030556543204   3.08e-04\n",
      "  800  0.2187360042801514 1.15e-06     0.2187525369183738   7.67e-05\n",
      " 1600  0.2187357840247480 1.44e-07     0.2187399433513712   1.92e-05\n"
     ]
    }
   ],
   "source": [
    "# Make a table comparing Simpson's and trapezoid to one of the best routines.\n",
    "\n",
    "best_in = int_wf_sq_in_quadrature\n",
    "best_out = int_wf_sq_out_quadrature\n",
    "\n",
    "print('Inner wave function:')\n",
    "print(' # pts      Simpsons       relerr',\n",
    "      '          Trapezoid        relerr')\n",
    "for n_pts in [100, 200, 400, 800, 1600]:\n",
    "    r_mesh = rMeshSW(R, r_max, n_pts, n_pts)\n",
    "    wf_sq_in = sw_1.un_wf_in(r_mesh.r_in_pts)**2\n",
    "    simpsons = simps(wf_sq_in, r_mesh.r_in_pts)\n",
    "    rel_simps = np.abs((simpsons - best_in) / best_in)\n",
    "    trapezoid = trapz(wf_sq_in, r_mesh.r_in_pts)\n",
    "    rel_trapz = np.abs((trapezoid - best_in) / best_in)\n",
    "    print(f' {n_pts:4d}  {simpsons:.16f} {rel_simps:.2e}',\n",
    "          f'    {trapezoid:.16f}   {rel_trapz:.2e}')\n",
    "\n",
    "print('\\n')\n",
    "print('Outer wave function:')\n",
    "print(' # pts      Simpsons       relerr',\n",
    "      '          Trapezoid        relerr')\n",
    "for n_pts in [100, 200, 400, 800, 1600]:\n",
    "    r_mesh = rMeshSW(R, r_max, n_pts, n_pts)\n",
    "    wf_sq_out = sw_1.un_wf_out(r_mesh.r_out_pts)**2\n",
    "    simpsons = simps(wf_sq_out, r_mesh.r_out_pts)\n",
    "    rel_simps = np.abs((simpsons - best_out) / best_out)\n",
    "    trapezoid = trapz(wf_sq_out, r_mesh.r_out_pts)\n",
    "    rel_trapz = np.abs((trapezoid - best_out) / best_out)\n",
    "    print(f' {n_pts:4d}  {simpsons:.16f} {rel_simps:.2e}',\n",
    "          f'    {trapezoid:.16f}   {rel_trapz:.2e}')\n",
    "\n"
   ]
  },
  {
   "cell_type": "markdown",
   "metadata": {},
   "source": [
    "## Gaussian quadrature"
   ]
  },
  {
   "cell_type": "code",
   "execution_count": 9,
   "metadata": {
    "code_folding": []
   },
   "outputs": [
    {
     "name": "stdout",
     "output_type": "stream",
     "text": [
      "Inner wave function:\n",
      " # pts      Gauss-Legendre    relerr    \n",
      "   12     0.5797556310356546  0.000e+00  \n",
      "   24     0.5797556310356549  3.830e-16  \n",
      "   36     0.5797556310356544  3.830e-16  \n",
      "   48     0.5797556310356542  7.660e-16  \n",
      "   64     0.5797556310356548  1.915e-16  \n",
      "\n",
      "\n",
      "Outer wave function:\n",
      " # pts      Gauss-Legendre    relerr    \n",
      "   12     0.2187357507135612  7.834e-09  \n",
      "   24     0.2187357524270832  7.360e-15  \n",
      "   36     0.2187357524270865  2.271e-14  \n",
      "   48     0.2187357524270915  4.568e-14  \n",
      "   64     0.2187357524270831  7.233e-15  \n"
     ]
    }
   ],
   "source": [
    "best_in = int_wf_sq_in_quadrature\n",
    "best_out = int_wf_sq_out_quadrature\n",
    "\n",
    "a = 0.\n",
    "b = R\n",
    "type = 'Legendre'\n",
    "\n",
    "print('Inner wave function:')\n",
    "print(' # pts      Gauss-Legendre    relerr    ')\n",
    "for n_pts in [12, 24, 36, 48, 64]:\n",
    "    nodes, weights = Gaussian_quadrature(n_pts, type=type, \n",
    "                                         a=a, b=b)\n",
    "    Legendre = sw_1.un_wf_in(nodes)**2 @ weights\n",
    "    rel_Legendre = np.abs((Legendre - best_in)/best_in)\n",
    "    print(f' {n_pts:4d}     {Legendre:.16f}',\n",
    "          f' {rel_Legendre:.3e}  ')\n",
    "\n",
    "\n",
    "a = R\n",
    "b = r_max\n",
    "type = 'Legendre'\n",
    "\n",
    "print('\\n')\n",
    "print('Outer wave function:')\n",
    "print(' # pts      Gauss-Legendre    relerr    ')\n",
    "for n_pts in [12, 24, 36, 48, 64]:\n",
    "    nodes, weights = Gaussian_quadrature(n_pts, type=type, \n",
    "                                         a=a, b=b)\n",
    "    Legendre = sw_1.un_wf_out(nodes)**2 @ weights\n",
    "    rel_Legendre = np.abs((Legendre - best_out)/best_out)\n",
    "    print(f' {n_pts:4d}     {Legendre:.16f}',\n",
    "          f' {rel_Legendre:.3e}  ')\n",
    "    "
   ]
  },
  {
   "cell_type": "markdown",
   "metadata": {},
   "source": [
    "## Sympy\n",
    "\n",
    "This is a work in progress . . ."
   ]
  },
  {
   "cell_type": "code",
   "execution_count": 10,
   "metadata": {},
   "outputs": [],
   "source": [
    "import sympy as sym\n",
    "from sympy.utilities.lambdify import lambdify, implemented_function\n",
    "\n",
    "r_s, k_in_s = sym.symbols('r_s k_in_s')\n",
    "expr = sym.integrate(sym.sin(k_in_s*r_s)**2, r_s)\n",
    "\n",
    "f = lambdify([r_s, k_in_s], expr, \"numpy\")"
   ]
  },
  {
   "cell_type": "code",
   "execution_count": 11,
   "metadata": {},
   "outputs": [
    {
     "name": "stdout",
     "output_type": "stream",
     "text": [
      "Piecewise(((k_in_s*r_s/2 - sin(k_in_s*r_s)*cos(k_in_s*r_s)/2)/k_in_s, Ne(k_in_s, 0)), (0, True))\n"
     ]
    }
   ],
   "source": [
    "print(expr)"
   ]
  },
  {
   "cell_type": "markdown",
   "metadata": {},
   "source": [
    "## Basic tests of Gaussian quadrature\n",
    "\n",
    "Some simple tests that the nodes and weights are correct."
   ]
  },
  {
   "cell_type": "code",
   "execution_count": 12,
   "metadata": {},
   "outputs": [
    {
     "name": "stdout",
     "output_type": "stream",
     "text": [
      "[0.00310652 0.01633188 0.03997814 0.07379995 0.11743946 0.17043424\n",
      " 0.23222257 0.30214951 0.37947382 0.46337585 0.55296623 0.64729527\n",
      " 0.74536307 0.84613009 0.94852816 1.05147184 1.15386991 1.25463693\n",
      " 1.35270473 1.44703377 1.53662415 1.62052618 1.69785049 1.76777743\n",
      " 1.82956576 1.88256054 1.92620005 1.96002186 1.98366812 1.99689348]\n",
      "[0.00796819 0.01846647 0.02878471 0.03879919 0.04840267 0.05749316\n",
      " 0.06597423 0.07375597 0.0807559  0.08689979 0.09212252 0.09636874\n",
      " 0.09959342 0.10176239 0.10285265 0.10285265 0.10176239 0.09959342\n",
      " 0.09636874 0.09212252 0.08689979 0.0807559  0.07375597 0.06597423\n",
      " 0.05749316 0.04840267 0.03879919 0.02878471 0.01846647 0.00796819]\n"
     ]
    }
   ],
   "source": [
    "npts = 30\n",
    "lower_limit = 0.\n",
    "upper_limit = 2.\n",
    "type = 'Legendre'\n",
    "nodes, weights = Gaussian_quadrature(npts, type=type, \n",
    "                                     a=lower_limit, b=upper_limit)\n",
    "\n",
    "print(nodes)\n",
    "print(weights)"
   ]
  },
  {
   "cell_type": "code",
   "execution_count": 13,
   "metadata": {},
   "outputs": [
    {
     "name": "stdout",
     "output_type": "stream",
     "text": [
      "Integral of x from 0 to 2 [2]: 1.9999999999999998  1.110e-16\n",
      "Integral of x^2 from 0 to 2 [2.6666666666666665]: 2.66666666666667  1.332e-15\n",
      "Integral of exp(-x) from 0 to 2 [0.8646647167633873]: 0.864664716763388  7.704e-16\n",
      "Integral of sin(10x) from 0 to 2 [0.0591917938186608]: 0.059191793818664046  5.486e-14\n"
     ]
    }
   ],
   "source": [
    "# integral of x from 0 to 2 --> 2\n",
    "integrand = nodes\n",
    "exact = 2\n",
    "answer = integrand @ weights\n",
    "print(f'Integral of x from 0 to 2 [{exact}]: {answer}', \n",
    "      f' {np.abs((exact-answer)/exact):.3e}')\n",
    "\n",
    "# integral of x^2 from 0 to 2 --> 8/3\n",
    "integrand = nodes**2\n",
    "exact = 8/3\n",
    "answer = integrand @ weights\n",
    "print(f'Integral of x^2 from 0 to 2 [{exact}]: {answer}', \n",
    "      f' {np.abs((exact-answer)/exact):.3e}')\n",
    "\n",
    "# integral of e^{-x} from zero to 2 \n",
    "exact = 1 - np.exp(-2);\n",
    "integrand = np.exp(-nodes)\n",
    "answer = integrand @ weights\n",
    "print(f'Integral of exp(-x) from 0 to 2 [{exact}]: {answer}', \n",
    "      f' {np.abs((exact-answer)/exact):.3e}')\n",
    "\n",
    "# integral of sin(10x) from zero to 2 \n",
    "exact = (1 - np.cos(20))/10;\n",
    "integrand = np.sin(10*nodes)\n",
    "answer = integrand @ weights\n",
    "print(f'Integral of sin(10x) from 0 to 2 [{exact}]: {answer}', \n",
    "      f' {np.abs((exact-answer)/exact):.3e}')\n",
    "\n"
   ]
  },
  {
   "cell_type": "code",
   "execution_count": 14,
   "metadata": {},
   "outputs": [
    {
     "name": "stdout",
     "output_type": "stream",
     "text": [
      "Integral of x from 0 to 2 [2]: 2.0  0.000e+00\n",
      "Integral of x^2 from 0 to 2 [2.6666666666666665]: 2.666666666666667  1.665e-16\n",
      "Integral of exp(-x) from 0 to 2 [0.8646647167633873]: 0.8646647167633872  1.284e-16\n",
      "Integral of sin(10x) from 0 to 2 [0.0591917938186608]: 0.05919179381866042  6.448e-15\n"
     ]
    }
   ],
   "source": [
    "# Let's do some basic checks\n",
    "npts_array = [15, 10, 12]\n",
    "lower_limit_array = [0., 1., 1.5]\n",
    "upper_limit_array = [1., 1.5, 2.]\n",
    "type = 'Legendre'\n",
    "nodes, weights = Gaussian_mesh(npts_array, type, lower_limit_array,\n",
    "                               upper_limit_array);\n",
    "\n",
    "# integral of x from 0 to 2 --> 2\n",
    "integrand = nodes\n",
    "exact = 2\n",
    "answer = integrand @ weights\n",
    "print(f'Integral of x from 0 to 2 [{exact}]: {answer}', \n",
    "      f' {np.abs((exact-answer)/exact):.3e}')\n",
    "\n",
    "# integral of x^2 from 0 to 2 --> 8/3\n",
    "integrand = nodes**2\n",
    "exact = 8/3\n",
    "answer = integrand @ weights\n",
    "print(f'Integral of x^2 from 0 to 2 [{exact}]: {answer}', \n",
    "      f' {np.abs((exact-answer)/exact):.3e}')\n",
    "\n",
    "# integral of e^{-x} from zero to 2 \n",
    "exact = 1 - np.exp(-2);\n",
    "integrand = np.exp(-nodes)\n",
    "answer = integrand @ weights\n",
    "print(f'Integral of exp(-x) from 0 to 2 [{exact}]: {answer}', \n",
    "      f' {np.abs((exact-answer)/exact):.3e}')\n",
    "\n",
    "# integral of sin(10x) from zero to 2 \n",
    "exact = (1 - np.cos(20))/10;\n",
    "integrand = np.sin(10*nodes)\n",
    "answer = integrand @ weights\n",
    "print(f'Integral of sin(10x) from 0 to 2 [{exact}]: {answer}', \n",
    "      f' {np.abs((exact-answer)/exact):.3e}')\n",
    "\n"
   ]
  }
 ],
 "metadata": {
  "celltoolbar": "Slideshow",
  "kernelspec": {
   "display_name": "Python 3 (ipykernel)",
   "language": "python",
   "name": "python3"
  },
  "language_info": {
   "codemirror_mode": {
    "name": "ipython",
    "version": 3
   },
   "file_extension": ".py",
   "mimetype": "text/x-python",
   "name": "python",
   "nbconvert_exporter": "python",
   "pygments_lexer": "ipython3",
   "version": "3.10.6"
  }
 },
 "nbformat": 4,
 "nbformat_minor": 4
}