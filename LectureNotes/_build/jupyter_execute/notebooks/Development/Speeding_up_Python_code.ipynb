{
 "cells": [
  {
   "cell_type": "markdown",
   "id": "465c1319",
   "metadata": {},
   "source": [
    "# Speeding up Python code"
   ]
  },
  {
   "cell_type": "markdown",
   "id": "14447748",
   "metadata": {},
   "source": [
    "In this notebook we try out methods to speed up the execution of Python code.\n",
    "Some of the possibilities are:\n",
    "* [Memoization](#Memoization)\n",
    "* [Numba](#Numba)\n",
    "* [Cython](#Cython)\n",
    "* [Parallelizing](#Parallelizing)\n",
    "\n",
    "To assess the speed-ups we have various [Timing tools](#Timing_tools) and to identify places where the code takes \n",
    "\n",
    "Refs:\n",
    "\n",
    "https://numba.readthedocs.io/en/stable/index.html\n",
    "\n",
    "https://www.scaler.com/topics/python-parallel-for-loop/"
   ]
  },
  {
   "cell_type": "code",
   "execution_count": 10,
   "id": "7e19c347",
   "metadata": {},
   "outputs": [],
   "source": [
    "import numpy as np"
   ]
  },
  {
   "cell_type": "markdown",
   "id": "41c4955c",
   "metadata": {},
   "source": [
    "## Timing tools <a id='Timing_tools'></a>"
   ]
  },
  {
   "cell_type": "markdown",
   "id": "74d676ee",
   "metadata": {},
   "source": [
    "Within a Jupyter notebook we can use `%timeit` in front of a single command (e.g., a function call) or `%%time` for a cell."
   ]
  },
  {
   "cell_type": "markdown",
   "id": "ae5018ea",
   "metadata": {},
   "source": [
    "### Python timing tools\n",
    "\n",
    "See https://realpython.com/python-timer/ for further details."
   ]
  },
  {
   "cell_type": "code",
   "execution_count": null,
   "id": "67d5aa0c",
   "metadata": {},
   "outputs": [],
   "source": []
  },
  {
   "cell_type": "markdown",
   "id": "8434206d",
   "metadata": {},
   "source": [
    "## Memoization <a id='Memoization'></a>"
   ]
  },
  {
   "cell_type": "code",
   "execution_count": 19,
   "id": "4fb1de78",
   "metadata": {},
   "outputs": [],
   "source": [
    "from math import sin, sqrt\n",
    "\n",
    "def sin_half_plain(x):\n",
    "    return sin(x)/2"
   ]
  },
  {
   "cell_type": "code",
   "execution_count": 2,
   "id": "4e7f21c8",
   "metadata": {},
   "outputs": [],
   "source": [
    "from functools import lru_cache\n",
    "from math import sin\n",
    "\n",
    "@lru_cache(360)   # cache at most 360 values\n",
    "def sin_half(x):\n",
    "    return sin(x)/2\n"
   ]
  },
  {
   "cell_type": "code",
   "execution_count": 34,
   "id": "d833e505",
   "metadata": {},
   "outputs": [
    {
     "name": "stdout",
     "output_type": "stream",
     "text": [
      "Non-memoized fib()=9227465\n",
      "Time took 2306010792\n",
      "Memoized fib()=9227465\n",
      "Time took 49334\n"
     ]
    }
   ],
   "source": [
    "# from https://www.dice.com/career-advice/5-ways-to-make-your-python-programs-run-faster\n",
    "from time import perf_counter_ns\n",
    "from functools import lru_cache\n",
    "\n",
    "def main():    \n",
    "    def fib(n):\n",
    "        return n if n < 2 else fib(n-1) + fib(n-2)\n",
    "\n",
    "    @lru_cache(maxsize=None)\n",
    "    def mfib(n):\n",
    "        return n if n < 2 else mfib(n-1) + mfib(n-2)\n",
    "    start=perf_counter_ns()\n",
    "    print(f\"Non-memoized fib()={fib(35)}\")\n",
    "    end=perf_counter_ns()      \n",
    "    print(f\"Time took {end-start}\")\n",
    "\n",
    "    start=perf_counter_ns()  \n",
    "    print(f\"Memoized fib()={mfib(35)}\")\n",
    "    end=perf_counter_ns()      \n",
    "    print(f\"Time took {end-start}\")\n",
    "\n",
    "main()"
   ]
  },
  {
   "cell_type": "markdown",
   "id": "808bbdd2",
   "metadata": {},
   "source": [
    "## Numba"
   ]
  },
  {
   "cell_type": "markdown",
   "id": "2f6552ff",
   "metadata": {},
   "source": [
    "From https://towardsdatascience.com/how-to-skyrocket-your-python-speed-with-numba-89fd16362e47"
   ]
  },
  {
   "cell_type": "code",
   "execution_count": 4,
   "id": "d7ac1d45",
   "metadata": {},
   "outputs": [],
   "source": [
    "import random\n",
    "\n",
    "def monte_carlo_pi(nsamples):\n",
    "    acc = 0\n",
    "    for i in range(nsamples):\n",
    "        x = random.random()\n",
    "        y = random.random()\n",
    "        if (x ** 2 + y ** 2) < 1.0:\n",
    "            acc += 1\n",
    "    return 4.0 * acc / nsamples"
   ]
  },
  {
   "cell_type": "code",
   "execution_count": 5,
   "id": "17f2e643",
   "metadata": {},
   "outputs": [
    {
     "name": "stdout",
     "output_type": "stream",
     "text": [
      "2.55 ms ± 30.2 µs per loop (mean ± std. dev. of 7 runs, 100 loops each)\n"
     ]
    }
   ],
   "source": [
    "%timeit monte_carlo_pi(10000)"
   ]
  },
  {
   "cell_type": "code",
   "execution_count": 7,
   "id": "ad9d3f03",
   "metadata": {},
   "outputs": [],
   "source": [
    "from numba import jit # <-- importing jit from numba\n",
    "import random\n",
    "\n",
    "@jit(nopython=True) # <-- The only difference\n",
    "def monte_carlo_pi_numba(nsamples):\n",
    "    acc = 0\n",
    "    for i in range(nsamples):\n",
    "        x = random.random()\n",
    "        y = random.random()\n",
    "        if (x ** 2 + y ** 2) < 1.0:\n",
    "            acc += 1\n",
    "    return 4.0 * acc / nsamples\n"
   ]
  },
  {
   "cell_type": "code",
   "execution_count": 8,
   "id": "d99c6a38",
   "metadata": {
    "scrolled": true
   },
   "outputs": [
    {
     "name": "stdout",
     "output_type": "stream",
     "text": [
      "75.8 µs ± 1.5 µs per loop (mean ± std. dev. of 7 runs, 1 loop each)\n"
     ]
    }
   ],
   "source": [
    "%timeit monte_carlo_pi_numba(10000)"
   ]
  },
  {
   "cell_type": "code",
   "execution_count": 11,
   "id": "025dd17f",
   "metadata": {},
   "outputs": [],
   "source": [
    "import numpy\n",
    "from numba import jit\n",
    "\n",
    "def numpy_features(matrix: np.array) -> None:\n",
    "    \"\"\"Illustrates some common features of NumPy.\"\"\"\n",
    "    cosine_trace = 0.0\n",
    "    for i in range(matrix.shape[0]):\n",
    "        cosine_trace += np.cos(matrix[i, i])\n",
    "    matrix = matrix + cosine_trace\n"
   ]
  },
  {
   "cell_type": "code",
   "execution_count": 12,
   "id": "96881dd5",
   "metadata": {},
   "outputs": [
    {
     "name": "stdout",
     "output_type": "stream",
     "text": [
      "CPU times: user 7.72 ms, sys: 4.94 ms, total: 12.7 ms\n",
      "Wall time: 12 ms\n"
     ]
    }
   ],
   "source": [
    "x = np.arange(1000000).reshape(1000, 1000)\n",
    "%time numpy_features(x)\n"
   ]
  },
  {
   "cell_type": "code",
   "execution_count": 13,
   "id": "6f5e3275",
   "metadata": {},
   "outputs": [],
   "source": [
    "import numpy\n",
    "from numba import jit\n",
    "\n",
    "@jit(nopython=True)\n",
    "def numpy_features_numba(matrix: np.array) -> None:\n",
    "    \"\"\"Illustrates some common features of NumPy.\"\"\"\n",
    "    cosine_trace = 0.0\n",
    "    for i in range(matrix.shape[0]):\n",
    "        cosine_trace += np.cos(matrix[i, i])\n",
    "    matrix = matrix + cosine_trace"
   ]
  },
  {
   "cell_type": "code",
   "execution_count": 16,
   "id": "b00064da",
   "metadata": {
    "scrolled": true
   },
   "outputs": [
    {
     "name": "stdout",
     "output_type": "stream",
     "text": [
      "CPU times: user 213 ms, sys: 8.43 ms, total: 222 ms\n",
      "Wall time: 233 ms\n"
     ]
    }
   ],
   "source": [
    "x = np.arange(1000000).reshape(1000, 1000)\n",
    "%time numpy_features_numba(x)\n"
   ]
  },
  {
   "cell_type": "markdown",
   "id": "57f1882b",
   "metadata": {},
   "source": [
    "So slow!  But now run again."
   ]
  },
  {
   "cell_type": "code",
   "execution_count": 17,
   "id": "b4a10092",
   "metadata": {},
   "outputs": [
    {
     "name": "stdout",
     "output_type": "stream",
     "text": [
      "CPU times: user 3.49 ms, sys: 911 µs, total: 4.4 ms\n",
      "Wall time: 5.18 ms\n"
     ]
    }
   ],
   "source": [
    "x = np.arange(1000000).reshape(1000, 1000)\n",
    "%time numpy_features(x)\n"
   ]
  },
  {
   "cell_type": "markdown",
   "id": "71e4cef1",
   "metadata": {},
   "source": [
    "Not such a large speed-up as found in the article."
   ]
  },
  {
   "cell_type": "markdown",
   "id": "57051bc4",
   "metadata": {},
   "source": [
    "From http://numba.pydata.org/numba-doc/dev/user/5minguide.html"
   ]
  },
  {
   "cell_type": "code",
   "execution_count": 36,
   "id": "2ec67e0a",
   "metadata": {},
   "outputs": [
    {
     "name": "stdout",
     "output_type": "stream",
     "text": [
      "13.9 µs ± 26.3 ns per loop (mean ± std. dev. of 7 runs, 100,000 loops each)\n",
      "955 ns ± 7.01 ns per loop (mean ± std. dev. of 7 runs, 1,000,000 loops each)\n",
      "958 ns ± 5.05 ns per loop (mean ± std. dev. of 7 runs, 1,000,000 loops each)\n"
     ]
    }
   ],
   "source": [
    "from numba import jit\n",
    "import numpy as np\n",
    "\n",
    "x = np.arange(100).reshape(10, 10)\n",
    "\n",
    "def go_fast_nonumba(a): \n",
    "    trace = 0.0\n",
    "    for i in range(a.shape[0]):   # Numba likes loops\n",
    "        trace += np.tanh(a[i, i]) # Numba likes NumPy functions\n",
    "    return a + trace              # Numba likes NumPy broadcasting\n",
    "\n",
    "@jit(nopython=True) # Set \"nopython\" mode for best performance, equivalent to @njit\n",
    "def go_fast_numba(a): # Function is compiled to machine code when called the first time\n",
    "    trace = 0.0\n",
    "    for i in range(a.shape[0]):   # Numba likes loops\n",
    "        trace += np.tanh(a[i, i]) # Numba likes NumPy functions\n",
    "    return a + trace              # Numba likes NumPy broadcasting\n",
    "\n",
    "%timeit go_fast_nonumba(x)\n",
    "%timeit go_fast_numba(x)\n",
    "%timeit go_fast_numba(x)\n"
   ]
  },
  {
   "cell_type": "markdown",
   "id": "25466ea7",
   "metadata": {},
   "source": [
    "### test_mandelbrot"
   ]
  },
  {
   "cell_type": "code",
   "execution_count": null,
   "id": "9d4aa785",
   "metadata": {},
   "outputs": [],
   "source": [
    "from timeit import default_timer as timer\n",
    "try:\n",
    "    from matplotlib.pylab import imshow, show\n",
    "    have_mpl = True\n",
    "except ImportError:\n",
    "    have_mpl = False\n",
    "import numpy as np\n",
    "from numba import jit\n",
    "\n",
    "@jit(nopython=True)\n",
    "def mandel(x, y, max_iters):\n",
    "    \"\"\"\n",
    "    Given the real and imaginary parts of a complex number,\n",
    "    determine if it is a candidate for membership in the Mandelbrot\n",
    "    set given a fixed number of iterations.\n",
    "    \"\"\"\n",
    "    i = 0\n",
    "    c = complex(x,y)\n",
    "    z = 0.0j\n",
    "    for i in range(max_iters):\n",
    "        z = z * z + c\n",
    "        if (z.real * z.real + z.imag * z.imag) >= 4:\n",
    "            return i\n",
    "\n",
    "    return 255\n",
    "\n",
    "@jit(nopython=True)\n",
    "def create_fractal(min_x, max_x, min_y, max_y, image, iters):\n",
    "    height = image.shape[0]\n",
    "    width = image.shape[1]\n",
    "\n",
    "    pixel_size_x = (max_x - min_x) / width\n",
    "    pixel_size_y = (max_y - min_y) / height\n",
    "    for x in range(width):\n",
    "        real = min_x + x * pixel_size_x\n",
    "        for y in range(height):\n",
    "            imag = min_y + y * pixel_size_y\n",
    "            color = mandel(real, imag, iters)\n",
    "            image[y, x] = color\n",
    "\n",
    "    return image\n",
    "\n",
    "image = np.zeros((500 * 2, 750 * 2), dtype=np.uint8)\n",
    "s = timer()\n",
    "create_fractal(-2.0, 1.0, -1.0, 1.0, image, 20)\n",
    "e = timer()\n",
    "print(e - s)\n",
    "if have_mpl:\n",
    "    imshow(image)\n",
    "    show()"
   ]
  },
  {
   "cell_type": "markdown",
   "id": "ac36968d",
   "metadata": {},
   "source": [
    "From https://pythonspeed.com/articles/numba-faster-python/"
   ]
  },
  {
   "cell_type": "code",
   "execution_count": 44,
   "id": "b042193b",
   "metadata": {},
   "outputs": [],
   "source": [
    "a_test = np.ones(10000000)"
   ]
  },
  {
   "cell_type": "code",
   "execution_count": 45,
   "id": "21a9792d",
   "metadata": {},
   "outputs": [],
   "source": [
    "def monotonically_increasing(a):\n",
    "    max_value = 0\n",
    "    for i in range(len(a)):\n",
    "        if a[i] > max_value:\n",
    "            max_value = a[i]\n",
    "        a[i] = max_value"
   ]
  },
  {
   "cell_type": "code",
   "execution_count": 46,
   "id": "406c95a0",
   "metadata": {},
   "outputs": [],
   "source": [
    "from numba import njit\n",
    "\n",
    "@njit\n",
    "def monotonically_increasing_numba(a):\n",
    "    max_value = 0\n",
    "    for i in range(len(a)):\n",
    "        if a[i] > max_value:\n",
    "            max_value = a[i]\n",
    "        a[i] = max_value"
   ]
  },
  {
   "cell_type": "code",
   "execution_count": 47,
   "id": "45cdd26b",
   "metadata": {},
   "outputs": [
    {
     "name": "stdout",
     "output_type": "stream",
     "text": [
      "1.38 s ± 30.4 ms per loop (mean ± std. dev. of 7 runs, 1 loop each)\n"
     ]
    }
   ],
   "source": [
    "%timeit monotonically_increasing(a_test)"
   ]
  },
  {
   "cell_type": "code",
   "execution_count": 48,
   "id": "68c1479b",
   "metadata": {},
   "outputs": [
    {
     "name": "stdout",
     "output_type": "stream",
     "text": [
      "6.25 ms ± 20 µs per loop (mean ± std. dev. of 7 runs, 100 loops each)\n"
     ]
    }
   ],
   "source": [
    "%timeit monotonically_increasing_numba(a_test)"
   ]
  },
  {
   "cell_type": "markdown",
   "id": "7ec7f611",
   "metadata": {},
   "source": [
    "## Random speed-ups"
   ]
  },
  {
   "cell_type": "markdown",
   "id": "ce46fdbe",
   "metadata": {},
   "source": [
    "From https://hungyuling.com/blog/make-python-run-faster/\n",
    "\n",
    "Try with numba"
   ]
  },
  {
   "cell_type": "code",
   "execution_count": 18,
   "id": "29eb62fe",
   "metadata": {},
   "outputs": [
    {
     "name": "stdout",
     "output_type": "stream",
     "text": [
      "8.47 ns ± 0.0338 ns per loop (mean ± std. dev. of 7 runs, 100,000,000 loops each)\n"
     ]
    }
   ],
   "source": [
    "%timeit 3.1415 ** 0.5"
   ]
  },
  {
   "cell_type": "code",
   "execution_count": 20,
   "id": "6ad28853",
   "metadata": {},
   "outputs": [
    {
     "name": "stdout",
     "output_type": "stream",
     "text": [
      "43.7 ns ± 0.043 ns per loop (mean ± std. dev. of 7 runs, 10,000,000 loops each)\n"
     ]
    }
   ],
   "source": [
    "%timeit sqrt(3.1415)"
   ]
  },
  {
   "cell_type": "code",
   "execution_count": 21,
   "id": "56472257",
   "metadata": {},
   "outputs": [
    {
     "name": "stdout",
     "output_type": "stream",
     "text": [
      "729 ns ± 2.9 ns per loop (mean ± std. dev. of 7 runs, 1,000,000 loops each)\n"
     ]
    }
   ],
   "source": [
    "%timeit np.sqrt(3.1415)"
   ]
  },
  {
   "cell_type": "code",
   "execution_count": 22,
   "id": "483a6281",
   "metadata": {},
   "outputs": [
    {
     "name": "stdout",
     "output_type": "stream",
     "text": [
      "518 ns ± 1.13 ns per loop (mean ± std. dev. of 7 runs, 1,000,000 loops each)\n"
     ]
    }
   ],
   "source": [
    "a = np.array(3.1415)\n",
    "%timeit np.sqrt(a)"
   ]
  },
  {
   "cell_type": "markdown",
   "id": "bdd549ba",
   "metadata": {},
   "source": [
    "### Be more pythonic"
   ]
  },
  {
   "cell_type": "code",
   "execution_count": 28,
   "id": "040005fc",
   "metadata": {},
   "outputs": [
    {
     "name": "stdout",
     "output_type": "stream",
     "text": [
      "Non-Pythonic Total of divisible by 3= 1683\n",
      "Time took 259500\n",
      "Pythonic Total of divisible by 3= 1617\n",
      "Time took 119583\n"
     ]
    }
   ],
   "source": [
    "from time import perf_counter_ns\n",
    "\n",
    "# non pythonic\n",
    "start = perf_counter_ns()\n",
    "total = 0 \n",
    "for i in range(1,100):\n",
    "    if (i %3) == 0:\n",
    "        total += i\n",
    "end=perf_counter_ns()      \n",
    "print (f\"Non-Pythonic Total of divisible by 3= {total}\")\n",
    "print(f\"Time took {end-start}\")\n",
    "\n",
    "# pythonic\n",
    "start = perf_counter_ns()\n",
    "total = sum(range(1, 100, 3))\n",
    "end=perf_counter_ns()      \n",
    "print (f\"Pythonic Total of divisible by 3= {total}\")\n",
    "print(f\"Time took {end-start}\")\n",
    "\n"
   ]
  },
  {
   "cell_type": "code",
   "execution_count": 31,
   "id": "ccf7696f",
   "metadata": {},
   "outputs": [
    {
     "name": "stdout",
     "output_type": "stream",
     "text": [
      "Non-Pythonic Total of divisible by 3= 1683\n",
      "Time took 25250\n",
      "Pythonic Total of divisible by 3= 1617\n",
      "Time took 4917\n"
     ]
    }
   ],
   "source": [
    "from time import perf_counter_ns\n",
    "\n",
    "def main():\n",
    "    # non pythonic\n",
    "    start = perf_counter_ns()\n",
    "    total = 0 \n",
    "    for i in range(1,100):\n",
    "        if (i %3) == 0:\n",
    "            total += i\n",
    "    end=perf_counter_ns()      \n",
    "    print (f\"Non-Pythonic Total of divisible by 3= {total}\")\n",
    "    print(f\"Time took {end-start}\")\n",
    "    \n",
    "    # pythonic\n",
    "    start = perf_counter_ns()\n",
    "    total = sum(range(1, 100, 3))\n",
    "    end=perf_counter_ns()      \n",
    "    print (f\"Pythonic Total of divisible by 3= {total}\")\n",
    "    print(f\"Time took {end-start}\")\n",
    "\n",
    "main()"
   ]
  },
  {
   "cell_type": "code",
   "execution_count": 26,
   "id": "10630d69",
   "metadata": {},
   "outputs": [
    {
     "name": "stdout",
     "output_type": "stream",
     "text": [
      "CPU times: user 46 µs, sys: 26 µs, total: 72 µs\n",
      "Wall time: 143 µs\n"
     ]
    }
   ],
   "source": [
    "%%time\n",
    "total = 0 \n",
    "for i in range(1,100):\n",
    "    if (i %3) == 0:\n",
    "        total += i\n"
   ]
  },
  {
   "cell_type": "code",
   "execution_count": 27,
   "id": "30d51898",
   "metadata": {},
   "outputs": [
    {
     "name": "stdout",
     "output_type": "stream",
     "text": [
      "CPU times: user 13 µs, sys: 19 µs, total: 32 µs\n",
      "Wall time: 46.7 µs\n"
     ]
    }
   ],
   "source": [
    "%%time\n",
    "total = sum(range(1, 100, 3))\n"
   ]
  },
  {
   "cell_type": "markdown",
   "id": "a69e16ba",
   "metadata": {},
   "source": [
    "## Multiprocessing"
   ]
  },
  {
   "cell_type": "markdown",
   "id": "8cd5875a",
   "metadata": {},
   "source": [
    "### Method1: Use the Multiprocessing Module\n",
    "\n",
    "`multiprocessing.Pool().map()` is a good choice for parallelizing simple loops. To parallelize the loop the multiprocessing package provides a process pool with helpful functions to automatically manage a pool of worker processes. By default, the created Pool class instance uses all available CPU cores. The parallel version of the built-in map() function takes a single argument. It calls the same function for every data in the provided iterable and returns an iterable of return values from the target function. Once all the work is done using the close() function the pool_obj is closed to release the worker processes."
   ]
  },
  {
   "cell_type": "code",
   "execution_count": 33,
   "id": "ce9a7d5e",
   "metadata": {},
   "outputs": [
    {
     "name": "stderr",
     "output_type": "stream",
     "text": [
      "Process SpawnPoolWorker-4:\n",
      "Process SpawnPoolWorker-2:\n",
      "Process SpawnPoolWorker-1:\n",
      "Process SpawnPoolWorker-3:\n",
      "Traceback (most recent call last):\n",
      "  File \"/Users/furnstah/Dropbox/Anaconda/anaconda3/lib/python3.9/multiprocessing/process.py\", line 315, in _bootstrap\n",
      "    self.run()\n",
      "Traceback (most recent call last):\n",
      "  File \"/Users/furnstah/Dropbox/Anaconda/anaconda3/lib/python3.9/multiprocessing/process.py\", line 108, in run\n",
      "    self._target(*self._args, **self._kwargs)\n",
      "  File \"/Users/furnstah/Dropbox/Anaconda/anaconda3/lib/python3.9/multiprocessing/pool.py\", line 114, in worker\n",
      "    task = get()\n",
      "  File \"/Users/furnstah/Dropbox/Anaconda/anaconda3/lib/python3.9/multiprocessing/queues.py\", line 367, in get\n",
      "    return _ForkingPickler.loads(res)\n",
      "  File \"/Users/furnstah/Dropbox/Anaconda/anaconda3/lib/python3.9/multiprocessing/process.py\", line 315, in _bootstrap\n",
      "    self.run()\n",
      "Traceback (most recent call last):\n",
      "AttributeError: Can't get attribute 'printVal' on <module '__main__' (built-in)>\n",
      "Traceback (most recent call last):\n",
      "  File \"/Users/furnstah/Dropbox/Anaconda/anaconda3/lib/python3.9/multiprocessing/process.py\", line 108, in run\n",
      "    self._target(*self._args, **self._kwargs)\n",
      "  File \"/Users/furnstah/Dropbox/Anaconda/anaconda3/lib/python3.9/multiprocessing/pool.py\", line 114, in worker\n",
      "    task = get()\n",
      "  File \"/Users/furnstah/Dropbox/Anaconda/anaconda3/lib/python3.9/multiprocessing/process.py\", line 315, in _bootstrap\n",
      "    self.run()\n",
      "  File \"/Users/furnstah/Dropbox/Anaconda/anaconda3/lib/python3.9/multiprocessing/queues.py\", line 367, in get\n",
      "    return _ForkingPickler.loads(res)\n",
      "  File \"/Users/furnstah/Dropbox/Anaconda/anaconda3/lib/python3.9/multiprocessing/process.py\", line 315, in _bootstrap\n",
      "    self.run()\n",
      "AttributeError: Can't get attribute 'printVal' on <module '__main__' (built-in)>\n",
      "  File \"/Users/furnstah/Dropbox/Anaconda/anaconda3/lib/python3.9/multiprocessing/process.py\", line 108, in run\n",
      "    self._target(*self._args, **self._kwargs)\n",
      "  File \"/Users/furnstah/Dropbox/Anaconda/anaconda3/lib/python3.9/multiprocessing/pool.py\", line 114, in worker\n",
      "    task = get()\n",
      "  File \"/Users/furnstah/Dropbox/Anaconda/anaconda3/lib/python3.9/multiprocessing/queues.py\", line 367, in get\n",
      "    return _ForkingPickler.loads(res)\n",
      "  File \"/Users/furnstah/Dropbox/Anaconda/anaconda3/lib/python3.9/multiprocessing/process.py\", line 108, in run\n",
      "    self._target(*self._args, **self._kwargs)\n",
      "  File \"/Users/furnstah/Dropbox/Anaconda/anaconda3/lib/python3.9/multiprocessing/pool.py\", line 114, in worker\n",
      "    task = get()\n",
      "  File \"/Users/furnstah/Dropbox/Anaconda/anaconda3/lib/python3.9/multiprocessing/queues.py\", line 367, in get\n",
      "    return _ForkingPickler.loads(res)\n",
      "AttributeError: Can't get attribute 'printVal' on <module '__main__' (built-in)>\n",
      "AttributeError: Can't get attribute 'printVal' on <module '__main__' (built-in)>\n",
      "Process SpawnPoolWorker-14:\n",
      "Process SpawnPoolWorker-13:\n",
      "Process SpawnPoolWorker-12:\n",
      "Traceback (most recent call last):\n",
      "  File \"/Users/furnstah/Dropbox/Anaconda/anaconda3/lib/python3.9/multiprocessing/process.py\", line 315, in _bootstrap\n",
      "    self.run()\n",
      "  File \"/Users/furnstah/Dropbox/Anaconda/anaconda3/lib/python3.9/multiprocessing/process.py\", line 108, in run\n",
      "    self._target(*self._args, **self._kwargs)\n",
      "  File \"/Users/furnstah/Dropbox/Anaconda/anaconda3/lib/python3.9/multiprocessing/pool.py\", line 114, in worker\n",
      "    task = get()\n",
      "  File \"/Users/furnstah/Dropbox/Anaconda/anaconda3/lib/python3.9/multiprocessing/queues.py\", line 364, in get\n",
      "    with self._rlock:\n",
      "  File \"/Users/furnstah/Dropbox/Anaconda/anaconda3/lib/python3.9/multiprocessing/synchronize.py\", line 95, in __enter__\n",
      "    return self._semlock.__enter__()\n",
      "KeyboardInterrupt\n",
      "Process SpawnPoolWorker-11:\n",
      "Process SpawnPoolWorker-9:\n",
      "Process SpawnPoolWorker-10:\n",
      "Traceback (most recent call last):\n",
      "  File \"/Users/furnstah/Dropbox/Anaconda/anaconda3/lib/python3.9/multiprocessing/process.py\", line 315, in _bootstrap\n",
      "    self.run()\n",
      "  File \"/Users/furnstah/Dropbox/Anaconda/anaconda3/lib/python3.9/multiprocessing/process.py\", line 108, in run\n",
      "    self._target(*self._args, **self._kwargs)\n",
      "  File \"/Users/furnstah/Dropbox/Anaconda/anaconda3/lib/python3.9/multiprocessing/pool.py\", line 114, in worker\n",
      "    task = get()\n",
      "  File \"/Users/furnstah/Dropbox/Anaconda/anaconda3/lib/python3.9/multiprocessing/queues.py\", line 364, in get\n",
      "    with self._rlock:\n",
      "  File \"/Users/furnstah/Dropbox/Anaconda/anaconda3/lib/python3.9/multiprocessing/synchronize.py\", line 95, in __enter__\n",
      "    return self._semlock.__enter__()\n",
      "KeyboardInterrupt\n",
      "Process SpawnPoolWorker-8:\n",
      "Traceback (most recent call last):\n",
      "Process SpawnPoolWorker-6:\n",
      "  File \"/Users/furnstah/Dropbox/Anaconda/anaconda3/lib/python3.9/multiprocessing/process.py\", line 315, in _bootstrap\n",
      "    self.run()\n",
      "  File \"/Users/furnstah/Dropbox/Anaconda/anaconda3/lib/python3.9/multiprocessing/process.py\", line 108, in run\n",
      "    self._target(*self._args, **self._kwargs)\n",
      "  File \"/Users/furnstah/Dropbox/Anaconda/anaconda3/lib/python3.9/multiprocessing/pool.py\", line 114, in worker\n",
      "    task = get()\n",
      "  File \"/Users/furnstah/Dropbox/Anaconda/anaconda3/lib/python3.9/multiprocessing/queues.py\", line 364, in get\n",
      "    with self._rlock:\n",
      "  File \"/Users/furnstah/Dropbox/Anaconda/anaconda3/lib/python3.9/multiprocessing/synchronize.py\", line 95, in __enter__\n",
      "    return self._semlock.__enter__()\n",
      "KeyboardInterrupt\n",
      "Traceback (most recent call last):\n",
      "  File \"/Users/furnstah/Dropbox/Anaconda/anaconda3/lib/python3.9/multiprocessing/process.py\", line 315, in _bootstrap\n",
      "    self.run()\n",
      "Traceback (most recent call last):\n",
      "  File \"/Users/furnstah/Dropbox/Anaconda/anaconda3/lib/python3.9/multiprocessing/process.py\", line 315, in _bootstrap\n",
      "    self.run()\n",
      "  File \"/Users/furnstah/Dropbox/Anaconda/anaconda3/lib/python3.9/multiprocessing/process.py\", line 108, in run\n",
      "    self._target(*self._args, **self._kwargs)\n",
      "  File \"/Users/furnstah/Dropbox/Anaconda/anaconda3/lib/python3.9/multiprocessing/pool.py\", line 114, in worker\n",
      "    task = get()\n",
      "  File \"/Users/furnstah/Dropbox/Anaconda/anaconda3/lib/python3.9/multiprocessing/queues.py\", line 364, in get\n",
      "    with self._rlock:\n",
      "  File \"/Users/furnstah/Dropbox/Anaconda/anaconda3/lib/python3.9/multiprocessing/synchronize.py\", line 95, in __enter__\n",
      "    return self._semlock.__enter__()\n",
      "Process SpawnPoolWorker-7:\n",
      "KeyboardInterrupt\n",
      "Process SpawnPoolWorker-5:\n",
      "Traceback (most recent call last):\n",
      "  File \"/Users/furnstah/Dropbox/Anaconda/anaconda3/lib/python3.9/multiprocessing/process.py\", line 315, in _bootstrap\n",
      "    self.run()\n",
      "  File \"/Users/furnstah/Dropbox/Anaconda/anaconda3/lib/python3.9/multiprocessing/process.py\", line 108, in run\n",
      "    self._target(*self._args, **self._kwargs)\n",
      "  File \"/Users/furnstah/Dropbox/Anaconda/anaconda3/lib/python3.9/multiprocessing/pool.py\", line 114, in worker\n",
      "    task = get()\n",
      "  File \"/Users/furnstah/Dropbox/Anaconda/anaconda3/lib/python3.9/multiprocessing/queues.py\", line 364, in get\n",
      "    with self._rlock:\n",
      "  File \"/Users/furnstah/Dropbox/Anaconda/anaconda3/lib/python3.9/multiprocessing/synchronize.py\", line 95, in __enter__\n",
      "    return self._semlock.__enter__()\n",
      "Traceback (most recent call last):\n",
      "KeyboardInterrupt\n",
      "  File \"/Users/furnstah/Dropbox/Anaconda/anaconda3/lib/python3.9/multiprocessing/process.py\", line 315, in _bootstrap\n",
      "    self.run()\n",
      "  File \"/Users/furnstah/Dropbox/Anaconda/anaconda3/lib/python3.9/multiprocessing/process.py\", line 108, in run\n",
      "    self._target(*self._args, **self._kwargs)\n",
      "  File \"/Users/furnstah/Dropbox/Anaconda/anaconda3/lib/python3.9/multiprocessing/process.py\", line 108, in run\n",
      "    self._target(*self._args, **self._kwargs)\n",
      "  File \"/Users/furnstah/Dropbox/Anaconda/anaconda3/lib/python3.9/multiprocessing/pool.py\", line 114, in worker\n",
      "    task = get()\n",
      "  File \"/Users/furnstah/Dropbox/Anaconda/anaconda3/lib/python3.9/multiprocessing/queues.py\", line 364, in get\n",
      "    with self._rlock:\n",
      "  File \"/Users/furnstah/Dropbox/Anaconda/anaconda3/lib/python3.9/multiprocessing/synchronize.py\", line 95, in __enter__\n",
      "    return self._semlock.__enter__()\n",
      "KeyboardInterrupt\n",
      "  File \"/Users/furnstah/Dropbox/Anaconda/anaconda3/lib/python3.9/multiprocessing/pool.py\", line 114, in worker\n",
      "    task = get()\n",
      "  File \"/Users/furnstah/Dropbox/Anaconda/anaconda3/lib/python3.9/multiprocessing/queues.py\", line 364, in get\n",
      "    with self._rlock:\n",
      "  File \"/Users/furnstah/Dropbox/Anaconda/anaconda3/lib/python3.9/multiprocessing/synchronize.py\", line 95, in __enter__\n",
      "    return self._semlock.__enter__()\n",
      "KeyboardInterrupt\n",
      "Traceback (most recent call last):\n",
      "  File \"/Users/furnstah/Dropbox/Anaconda/anaconda3/lib/python3.9/multiprocessing/process.py\", line 315, in _bootstrap\n",
      "    self.run()\n",
      "  File \"/Users/furnstah/Dropbox/Anaconda/anaconda3/lib/python3.9/multiprocessing/process.py\", line 108, in run\n",
      "    self._target(*self._args, **self._kwargs)\n",
      "  File \"/Users/furnstah/Dropbox/Anaconda/anaconda3/lib/python3.9/multiprocessing/pool.py\", line 114, in worker\n",
      "    task = get()\n",
      "  File \"/Users/furnstah/Dropbox/Anaconda/anaconda3/lib/python3.9/multiprocessing/queues.py\", line 364, in get\n",
      "    with self._rlock:\n",
      "  File \"/Users/furnstah/Dropbox/Anaconda/anaconda3/lib/python3.9/multiprocessing/synchronize.py\", line 95, in __enter__\n",
      "    return self._semlock.__enter__()\n",
      "KeyboardInterrupt\n",
      "Traceback (most recent call last):\n",
      "  File \"/Users/furnstah/Dropbox/Anaconda/anaconda3/lib/python3.9/multiprocessing/process.py\", line 315, in _bootstrap\n",
      "    self.run()\n",
      "  File \"/Users/furnstah/Dropbox/Anaconda/anaconda3/lib/python3.9/multiprocessing/process.py\", line 108, in run\n",
      "    self._target(*self._args, **self._kwargs)\n",
      "  File \"/Users/furnstah/Dropbox/Anaconda/anaconda3/lib/python3.9/multiprocessing/pool.py\", line 114, in worker\n",
      "    task = get()\n",
      "  File \"/Users/furnstah/Dropbox/Anaconda/anaconda3/lib/python3.9/multiprocessing/queues.py\", line 364, in get\n",
      "    with self._rlock:\n",
      "  File \"/Users/furnstah/Dropbox/Anaconda/anaconda3/lib/python3.9/multiprocessing/synchronize.py\", line 95, in __enter__\n",
      "    return self._semlock.__enter__()\n",
      "KeyboardInterrupt\n",
      "Traceback (most recent call last):\n",
      "  File \"/Users/furnstah/Dropbox/Anaconda/anaconda3/lib/python3.9/multiprocessing/process.py\", line 315, in _bootstrap\n",
      "    self.run()\n",
      "  File \"/Users/furnstah/Dropbox/Anaconda/anaconda3/lib/python3.9/multiprocessing/process.py\", line 108, in run\n",
      "    self._target(*self._args, **self._kwargs)\n",
      "  File \"/Users/furnstah/Dropbox/Anaconda/anaconda3/lib/python3.9/multiprocessing/pool.py\", line 114, in worker\n",
      "    task = get()\n",
      "  File \"/Users/furnstah/Dropbox/Anaconda/anaconda3/lib/python3.9/multiprocessing/queues.py\", line 365, in get\n",
      "    res = self._reader.recv_bytes()\n",
      "  File \"/Users/furnstah/Dropbox/Anaconda/anaconda3/lib/python3.9/multiprocessing/connection.py\", line 216, in recv_bytes\n",
      "    buf = self._recv_bytes(maxlength)\n",
      "  File \"/Users/furnstah/Dropbox/Anaconda/anaconda3/lib/python3.9/multiprocessing/connection.py\", line 414, in _recv_bytes\n",
      "    buf = self._recv(4)\n",
      "  File \"/Users/furnstah/Dropbox/Anaconda/anaconda3/lib/python3.9/multiprocessing/connection.py\", line 379, in _recv\n",
      "    chunk = read(handle, remaining)\n",
      "KeyboardInterrupt\n"
     ]
    },
    {
     "ename": "KeyboardInterrupt",
     "evalue": "",
     "output_type": "error",
     "traceback": [
      "\u001b[0;31m---------------------------------------------------------------------------\u001b[0m",
      "\u001b[0;31mKeyboardInterrupt\u001b[0m                         Traceback (most recent call last)",
      "Cell \u001b[0;32mIn[33], line 5\u001b[0m\n\u001b[1;32m      3\u001b[0m     \u001b[38;5;28;01mreturn\u001b[39;00m (\u001b[38;5;124m\"\u001b[39m\u001b[38;5;124mhello \u001b[39m\u001b[38;5;124m\"\u001b[39m\u001b[38;5;241m*\u001b[39m(value))\n\u001b[1;32m      4\u001b[0m pool_obj \u001b[38;5;241m=\u001b[39m multiprocessing\u001b[38;5;241m.\u001b[39mPool()\n\u001b[0;32m----> 5\u001b[0m ans \u001b[38;5;241m=\u001b[39m \u001b[43mpool_obj\u001b[49m\u001b[38;5;241;43m.\u001b[39;49m\u001b[43mmap\u001b[49m\u001b[43m(\u001b[49m\u001b[43mprintVal\u001b[49m\u001b[43m,\u001b[49m\u001b[38;5;28;43mrange\u001b[39;49m\u001b[43m(\u001b[49m\u001b[38;5;241;43m0\u001b[39;49m\u001b[43m,\u001b[49m\u001b[38;5;241;43m4\u001b[39;49m\u001b[43m)\u001b[49m\u001b[43m)\u001b[49m\n\u001b[1;32m      6\u001b[0m \u001b[38;5;28mprint\u001b[39m(ans)\n\u001b[1;32m      7\u001b[0m pool_obj\u001b[38;5;241m.\u001b[39mclose()\n",
      "File \u001b[0;32m~/Dropbox/Anaconda/anaconda3/lib/python3.9/multiprocessing/pool.py:364\u001b[0m, in \u001b[0;36mPool.map\u001b[0;34m(self, func, iterable, chunksize)\u001b[0m\n\u001b[1;32m    359\u001b[0m \u001b[38;5;28;01mdef\u001b[39;00m \u001b[38;5;21mmap\u001b[39m(\u001b[38;5;28mself\u001b[39m, func, iterable, chunksize\u001b[38;5;241m=\u001b[39m\u001b[38;5;28;01mNone\u001b[39;00m):\n\u001b[1;32m    360\u001b[0m     \u001b[38;5;124;03m'''\u001b[39;00m\n\u001b[1;32m    361\u001b[0m \u001b[38;5;124;03m    Apply `func` to each element in `iterable`, collecting the results\u001b[39;00m\n\u001b[1;32m    362\u001b[0m \u001b[38;5;124;03m    in a list that is returned.\u001b[39;00m\n\u001b[1;32m    363\u001b[0m \u001b[38;5;124;03m    '''\u001b[39;00m\n\u001b[0;32m--> 364\u001b[0m     \u001b[38;5;28;01mreturn\u001b[39;00m \u001b[38;5;28;43mself\u001b[39;49m\u001b[38;5;241;43m.\u001b[39;49m\u001b[43m_map_async\u001b[49m\u001b[43m(\u001b[49m\u001b[43mfunc\u001b[49m\u001b[43m,\u001b[49m\u001b[43m \u001b[49m\u001b[43miterable\u001b[49m\u001b[43m,\u001b[49m\u001b[43m \u001b[49m\u001b[43mmapstar\u001b[49m\u001b[43m,\u001b[49m\u001b[43m \u001b[49m\u001b[43mchunksize\u001b[49m\u001b[43m)\u001b[49m\u001b[38;5;241;43m.\u001b[39;49m\u001b[43mget\u001b[49m\u001b[43m(\u001b[49m\u001b[43m)\u001b[49m\n",
      "File \u001b[0;32m~/Dropbox/Anaconda/anaconda3/lib/python3.9/multiprocessing/pool.py:765\u001b[0m, in \u001b[0;36mApplyResult.get\u001b[0;34m(self, timeout)\u001b[0m\n\u001b[1;32m    764\u001b[0m \u001b[38;5;28;01mdef\u001b[39;00m \u001b[38;5;21mget\u001b[39m(\u001b[38;5;28mself\u001b[39m, timeout\u001b[38;5;241m=\u001b[39m\u001b[38;5;28;01mNone\u001b[39;00m):\n\u001b[0;32m--> 765\u001b[0m     \u001b[38;5;28;43mself\u001b[39;49m\u001b[38;5;241;43m.\u001b[39;49m\u001b[43mwait\u001b[49m\u001b[43m(\u001b[49m\u001b[43mtimeout\u001b[49m\u001b[43m)\u001b[49m\n\u001b[1;32m    766\u001b[0m     \u001b[38;5;28;01mif\u001b[39;00m \u001b[38;5;129;01mnot\u001b[39;00m \u001b[38;5;28mself\u001b[39m\u001b[38;5;241m.\u001b[39mready():\n\u001b[1;32m    767\u001b[0m         \u001b[38;5;28;01mraise\u001b[39;00m \u001b[38;5;167;01mTimeoutError\u001b[39;00m\n",
      "File \u001b[0;32m~/Dropbox/Anaconda/anaconda3/lib/python3.9/multiprocessing/pool.py:762\u001b[0m, in \u001b[0;36mApplyResult.wait\u001b[0;34m(self, timeout)\u001b[0m\n\u001b[1;32m    761\u001b[0m \u001b[38;5;28;01mdef\u001b[39;00m \u001b[38;5;21mwait\u001b[39m(\u001b[38;5;28mself\u001b[39m, timeout\u001b[38;5;241m=\u001b[39m\u001b[38;5;28;01mNone\u001b[39;00m):\n\u001b[0;32m--> 762\u001b[0m     \u001b[38;5;28;43mself\u001b[39;49m\u001b[38;5;241;43m.\u001b[39;49m\u001b[43m_event\u001b[49m\u001b[38;5;241;43m.\u001b[39;49m\u001b[43mwait\u001b[49m\u001b[43m(\u001b[49m\u001b[43mtimeout\u001b[49m\u001b[43m)\u001b[49m\n",
      "File \u001b[0;32m~/Dropbox/Anaconda/anaconda3/lib/python3.9/threading.py:581\u001b[0m, in \u001b[0;36mEvent.wait\u001b[0;34m(self, timeout)\u001b[0m\n\u001b[1;32m    579\u001b[0m signaled \u001b[38;5;241m=\u001b[39m \u001b[38;5;28mself\u001b[39m\u001b[38;5;241m.\u001b[39m_flag\n\u001b[1;32m    580\u001b[0m \u001b[38;5;28;01mif\u001b[39;00m \u001b[38;5;129;01mnot\u001b[39;00m signaled:\n\u001b[0;32m--> 581\u001b[0m     signaled \u001b[38;5;241m=\u001b[39m \u001b[38;5;28;43mself\u001b[39;49m\u001b[38;5;241;43m.\u001b[39;49m\u001b[43m_cond\u001b[49m\u001b[38;5;241;43m.\u001b[39;49m\u001b[43mwait\u001b[49m\u001b[43m(\u001b[49m\u001b[43mtimeout\u001b[49m\u001b[43m)\u001b[49m\n\u001b[1;32m    582\u001b[0m \u001b[38;5;28;01mreturn\u001b[39;00m signaled\n",
      "File \u001b[0;32m~/Dropbox/Anaconda/anaconda3/lib/python3.9/threading.py:312\u001b[0m, in \u001b[0;36mCondition.wait\u001b[0;34m(self, timeout)\u001b[0m\n\u001b[1;32m    310\u001b[0m \u001b[38;5;28;01mtry\u001b[39;00m:    \u001b[38;5;66;03m# restore state no matter what (e.g., KeyboardInterrupt)\u001b[39;00m\n\u001b[1;32m    311\u001b[0m     \u001b[38;5;28;01mif\u001b[39;00m timeout \u001b[38;5;129;01mis\u001b[39;00m \u001b[38;5;28;01mNone\u001b[39;00m:\n\u001b[0;32m--> 312\u001b[0m         \u001b[43mwaiter\u001b[49m\u001b[38;5;241;43m.\u001b[39;49m\u001b[43macquire\u001b[49m\u001b[43m(\u001b[49m\u001b[43m)\u001b[49m\n\u001b[1;32m    313\u001b[0m         gotit \u001b[38;5;241m=\u001b[39m \u001b[38;5;28;01mTrue\u001b[39;00m\n\u001b[1;32m    314\u001b[0m     \u001b[38;5;28;01melse\u001b[39;00m:\n",
      "\u001b[0;31mKeyboardInterrupt\u001b[0m: "
     ]
    }
   ],
   "source": [
    "import multiprocessing\n",
    "def printVal(value):\n",
    "    return (\"hello \"*(value))\n",
    "pool_obj = multiprocessing.Pool()\n",
    "ans = pool_obj.map(printVal,range(0,4))\n",
    "print(ans)\n",
    "pool_obj.close()"
   ]
  },
  {
   "cell_type": "markdown",
   "id": "a2f2e3e9",
   "metadata": {},
   "source": [
    "### Method 2: Use the Joblib Module\n",
    "\n",
    "Joblib is a set of tools to provide lightweight pipelining in Python. It mainly aims to avoid computing the same thing twice. To perform parallel processing, we have to set the number of jobs, which is limited to the number of cores in the CPU. The delayed() function delays the mentioned method call for some time. The Parallel() function creates a parallel instance with the specified number of cores."
   ]
  },
  {
   "cell_type": "code",
   "execution_count": 1,
   "id": "db5f61fc",
   "metadata": {},
   "outputs": [
    {
     "name": "stdout",
     "output_type": "stream",
     "text": [
      "[0, 6, 12, 18, 24]\n"
     ]
    }
   ],
   "source": [
    "import joblib\n",
    "import math\n",
    "def multiple_of_six(i):\n",
    "    return (i*6)\n",
    "print(joblib.Parallel(n_jobs=2)(joblib.delayed(multiple_of_six)(i) for i in range(5)))"
   ]
  },
  {
   "cell_type": "markdown",
   "id": "b7c1ff7d",
   "metadata": {},
   "source": [
    "### Method 3: Use the Asyncio Module\n",
    "\n",
    "The asyncio module is single-threaded that runs loops by suspending the sequence temporarily using await methods. The main function and called functions run parallelly without affecting each other. The loop also runs in parallel with the main function."
   ]
  },
  {
   "cell_type": "code",
   "execution_count": 2,
   "id": "31e70e33",
   "metadata": {},
   "outputs": [
    {
     "name": "stdout",
     "output_type": "stream",
     "text": [
      "Loop finished before functions\n",
      "Function 0 Executed\n",
      "Function 1 Executed\n",
      "Function 2 Executed\n",
      "Function 3 Executed\n",
      "Function 4 Executed\n"
     ]
    }
   ],
   "source": [
    "import asyncio\n",
    "import time\n",
    "def background(f):\n",
    "    def wrapped(*args, **kwargs):\n",
    "        return asyncio.get_event_loop().run_in_executor(None, f, *args, **kwargs)\n",
    "    return wrapped\n",
    "@background\n",
    "def f(argument):\n",
    "    time.sleep(2)\n",
    "    print('Function', str(argument), 'Executed')\n",
    "for i in range(5):\n",
    "    f(i)\n",
    "print('Loop finished before functions')"
   ]
  },
  {
   "cell_type": "markdown",
   "id": "d17f52b2",
   "metadata": {},
   "source": [
    "## memoization\n",
    "\n",
    "https://www.dice.com/career-advice/5-ways-to-make-your-python-programs-run-faster\n",
    "\n"
   ]
  },
  {
   "cell_type": "code",
   "execution_count": null,
   "id": "98ddcbbd",
   "metadata": {},
   "outputs": [],
   "source": [
    "from time import perf_counter_ns\n",
    "from functools import lru_cache\n",
    "\n",
    "def main():    \n",
    "    def fib(n):\n",
    "        return n if n < 2 else fib(n-1) + fib(n-2)\n",
    "\n",
    "    @lru_cache(maxsize=None)\n",
    "    def mfib(n):\n",
    "        return n if n < 2 else mfib(n-1) + mfib(n-2)\n",
    "    start=perf_counter_ns()\n",
    "    print(f\"Non-memoized fib()={fib(35)}\")\n",
    "    end=perf_counter_ns()      \n",
    "    print(f\"Time took {end-start}\")\n",
    "\n",
    "    start=perf_counter_ns()  \n",
    "    print(f\"Memoized fib()={mfib(35)}\")\n",
    "    end=perf_counter_ns()      \n",
    "    print(f\"Time took {end-start}\")\n",
    "\n",
    "# if __name__ == \"__main__\":\n",
    "#     main()\n"
   ]
  },
  {
   "cell_type": "code",
   "execution_count": null,
   "id": "0e347a82",
   "metadata": {},
   "outputs": [],
   "source": []
  },
  {
   "cell_type": "markdown",
   "id": "08598fd4",
   "metadata": {},
   "source": [
    "## GPUs"
   ]
  },
  {
   "cell_type": "code",
   "execution_count": 52,
   "id": "9dc55c43",
   "metadata": {},
   "outputs": [
    {
     "name": "stdout",
     "output_type": "stream",
     "text": [
      "without GPU: 1.7374667909462005\n",
      "with GPU: 0.03767174994572997\n"
     ]
    }
   ],
   "source": [
    "from numba import jit, cuda\n",
    "import numpy as np\n",
    "# to measure exec time\n",
    "from timeit import default_timer as timer\n",
    "\n",
    "# normal function to run on cpu\n",
    "def func(a):\n",
    "    for i in range(10000000):\n",
    "        a[i]+= 1\n",
    "\n",
    "# function optimized to run on gpu\n",
    "@jit(target_backend='cuda')\n",
    "def func2(a):\n",
    "    for i in range(10000000):\n",
    "        a[i]+= 1\n",
    "        \n",
    "if __name__==\"__main__\":\n",
    "    n = 10000000\n",
    "    a = np.ones(n, dtype = np.float64)\n",
    "    \n",
    "    start = timer()\n",
    "    func(a)\n",
    "    print(\"without GPU:\", timer()-start)\n",
    "    \n",
    "    start = timer()\n",
    "    func2(a)\n",
    "    print(\"with GPU:\", timer()-start)\n"
   ]
  },
  {
   "cell_type": "code",
   "execution_count": 51,
   "id": "e272fb87",
   "metadata": {},
   "outputs": [
    {
     "name": "stdout",
     "output_type": "stream",
     "text": [
      "without GPU: 1.783250084030442\n",
      "with GPU: 0.03734833304770291\n"
     ]
    }
   ],
   "source": [
    "from numba import jit, cuda\n",
    "import numpy as np\n",
    "# to measure exec time\n",
    "from timeit import default_timer as timer\n",
    "\n",
    "# normal function to run on cpu\n",
    "def func(a):\n",
    "    for i in range(10000000):\n",
    "        a[i]+= 1\n",
    "\n",
    "# function optimized to run on gpu\n",
    "@jit(target_backend='cuda')\n",
    "def func2(a):\n",
    "    for i in range(10000000):\n",
    "        a[i]+= 1\n",
    "        \n",
    "if __name__==\"__main__\":\n",
    "    n = 10000000\n",
    "    a = np.ones(n, dtype = np.float64)\n",
    "    \n",
    "    start = timer()\n",
    "    func(a)\n",
    "    print(\"without GPU:\", timer()-start)\n",
    "    \n",
    "    start = timer()\n",
    "    func2(a)\n",
    "    print(\"with GPU:\", timer()-start)\n"
   ]
  },
  {
   "cell_type": "code",
   "execution_count": 53,
   "id": "7bea3fa9",
   "metadata": {},
   "outputs": [
    {
     "name": "stdout",
     "output_type": "stream",
     "text": [
      "1.68 s ± 4.85 ms per loop (mean ± std. dev. of 7 runs, 1 loop each)\n"
     ]
    }
   ],
   "source": [
    "%timeit func(a)"
   ]
  },
  {
   "cell_type": "code",
   "execution_count": 54,
   "id": "64f20e3b",
   "metadata": {},
   "outputs": [
    {
     "name": "stdout",
     "output_type": "stream",
     "text": [
      "1.84 ms ± 7.49 µs per loop (mean ± std. dev. of 7 runs, 1,000 loops each)\n"
     ]
    }
   ],
   "source": [
    "%timeit func2(a)"
   ]
  },
  {
   "cell_type": "code",
   "execution_count": null,
   "id": "d970248b",
   "metadata": {},
   "outputs": [],
   "source": []
  }
 ],
 "metadata": {
  "kernelspec": {
   "display_name": "Python 3 (ipykernel)",
   "language": "python",
   "name": "python3"
  },
  "language_info": {
   "codemirror_mode": {
    "name": "ipython",
    "version": 3
   },
   "file_extension": ".py",
   "mimetype": "text/x-python",
   "name": "python",
   "nbconvert_exporter": "python",
   "pygments_lexer": "ipython3",
   "version": "3.9.16"
  }
 },
 "nbformat": 4,
 "nbformat_minor": 5
}