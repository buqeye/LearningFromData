{
 "cells": [
  {
   "cell_type": "markdown",
   "metadata": {
    "slideshow": {
     "slide_type": "slide"
    }
   },
   "source": [
    "# Gaussian processes demonstration\n",
    "\n",
    "Last revised: 29-Oct-2019 by Dick Furnstahl [furnstahl.1@osu.edu]\n",
    "\n",
    "Revised: 07-Oct-2019 by Christian Forssén [christian.forssen@chalmers.se]"
   ]
  },
  {
   "cell_type": "code",
   "execution_count": null,
   "metadata": {
    "ExecuteTime": {
     "end_time": "2016-03-02T07:57:16.457264",
     "start_time": "2016-03-02T07:57:16.443739"
    },
    "slideshow": {
     "slide_type": "subslide"
    }
   },
   "outputs": [],
   "source": [
    "%matplotlib inline\n",
    "import numpy as np\n",
    "import scipy as sp\n",
    "from scipy.stats import multivariate_normal\n",
    "\n",
    "import matplotlib.pyplot as plt\n",
    "import seaborn as sns; sns.set_style(\"darkgrid\"); sns.set_context(\"talk\")\n",
    "\n",
    "import GPy    # a Gaussian Process (GP) framework written in python"
   ]
  },
  {
   "cell_type": "markdown",
   "metadata": {
    "slideshow": {
     "slide_type": "slide"
    }
   },
   "source": [
    "## Gaussian processes as infinite-dimensional Gaussian distributions\n",
    "Adapted partly from a tutorial by [Andreas Damianou](http://adamian.github.io/talks/Brown2016.html) (2016)."
   ]
  },
  {
   "cell_type": "markdown",
   "metadata": {},
   "source": [
    "A Gaussian process (GP) is a collection of random variables, any finite number of which have a joint Gaussian distribution.\n",
    "\n",
    "Equivalently, a GP can be seen as a stochastic process which corresponds to an infinite dimensional Gaussian distribution."
   ]
  },
  {
   "cell_type": "markdown",
   "metadata": {
    "slideshow": {
     "slide_type": "subslide"
    }
   },
   "source": [
    "### Intuition by sampling and plotting multivariate Gaussians"
   ]
  },
  {
   "cell_type": "markdown",
   "metadata": {},
   "source": [
    "Let's first define some plotting functions that we'll use later. "
   ]
  },
  {
   "cell_type": "code",
   "execution_count": null,
   "metadata": {},
   "outputs": [],
   "source": [
    "def gen_Gaussian_samples(mu, Sigma, N=200):\n",
    "    \"\"\"\n",
    "     Generate N samples from a multivariate Gaussian with mean mu \n",
    "      and covariance Sigma.\n",
    "    \"\"\"\n",
    "    D = mu.shape[0]\n",
    "    samples = np.zeros((N, D)) # N x D array\n",
    "    for i in np.arange(N):\n",
    "        samples[i,:] = np.random.multivariate_normal(mean=mu, cov=Sigma)\n",
    "    return samples.copy()\n",
    "\n",
    "\n",
    "def gen_plot_Gaussian_samples(mu, Sigma, N=1000):\n",
    "    \"\"\"\n",
    "     Generate N samples from a multivariate Gaussian with mean mu and \n",
    "      covariance Sigma and plot the samples as they're generated\n",
    "    \"\"\"\n",
    "    for i in np.arange(N):\n",
    "        sample = np.random.multivariate_normal(mean=mu, cov=Sigma)\n",
    "        plt.plot(sample[0], sample[1], '.', color='r', alpha=0.6)\n",
    "\n",
    "\n",
    "def plot_Gaussian_contours(x, y, mu, Sigma, N=100):\n",
    "    \"\"\"\n",
    "     Plot contours of a 2D multivariate Gaussian based on N points. \n",
    "      Points x and y are given for the limits of the contours.\n",
    "    \"\"\"\n",
    "    X, Y = np.meshgrid(np.linspace(x.min()-0.3, x.max()+0.3,100), \n",
    "                       np.linspace(y.min()-0.3, y.max()+0.3,N) )\n",
    "    rv = multivariate_normal(mu, Sigma)\n",
    "    Z = rv.pdf(np.dstack((X, Y)))\n",
    "    plt.contour(X, Y, Z)\n",
    "    plt.xlabel(r'$x_1$')\n",
    "    plt.ylabel(r'$x_2$')\n",
    "\n",
    "def plot_sample_dimensions(samples, colors=None, markers=None, ms=10):\n",
    "    \"\"\"\n",
    "     Given a set of samples from a bivariate Gaussian, plot them, \n",
    "      but instead of plotting them x1 vs x2, plot them as \n",
    "      [x1 x2] vs ['1', '2'].\n",
    "    \"\"\"\n",
    "    N = samples.shape[0]\n",
    "    D = samples.shape[1]\n",
    "    \n",
    "    t=np.array(range(1,D+1))\n",
    "\n",
    "    for i in np.arange(N):\n",
    "        if colors is None and markers is None:\n",
    "            plt.plot(t,samples[i,:], '-o', ms=ms)\n",
    "        elif colors is None:\n",
    "            plt.plot(t,samples[i,:], marker=markers[i], ms=ms)\n",
    "        elif markers is None:\n",
    "            plt.plot(t,samples[i,:], '-o', color=colors[i], ms=ms)\n",
    "        else:\n",
    "            plt.plot(t,samples[i,:], color=colors[i],\n",
    "                     marker=markers[i], ms=ms)\n",
    "            \n",
    "    plt.xlim([0.8, t[-1] + 0.2])\n",
    "    plt.ylim([samples.min()-0.3, samples.max()+0.3])\n",
    "    plt.xlabel('d = {' + str(t) + '}')\n",
    "    plt.ylabel(r'$x_d$')\n",
    "    plt.gca().set_title(f'{N} samples from a bivariate Gaussian')\n",
    "\n",
    "\n",
    "def set_limits(samples):\n",
    "    \"\"\"\n",
    "     Pad the limits so extend beyond minimum and maximum of samples.\n",
    "    \"\"\"\n",
    "    plt.xlim([samples[:,0].min()-0.3, samples[:,0].max()+0.3])\n",
    "    plt.ylim([samples[:,1].min()-0.3, samples[:,1].max()+0.3])"
   ]
  },
  {
   "cell_type": "markdown",
   "metadata": {},
   "source": [
    "#### Review of bivariate normal case"
   ]
  },
  {
   "cell_type": "markdown",
   "metadata": {},
   "source": [
    "$\\newcommand{\\xvec}{\\textbf{x}}$\n",
    "$\\newcommand{\\muvec}{\\boldsymbol{\\mu}}$\n",
    "The general multivariate Gaussian distribution is\n",
    "\n",
    "$$\n",
    " p(\\xvec\\mid \\muvec,\\Sigma) = \\frac{1}{\\sqrt{\\det(2\\pi\\Sigma)}} e^{-\\frac12(\\xvec-\\muvec)^{\\rm T}\\Sigma^{-1}(\\xvec-\\muvec)}\n",
    "$$\n",
    "\n",
    "For the *bivariate* case we can parameterize the mean vector and covariance matrix as\n",
    "\n",
    "$$\n",
    "  \\muvec = \\left( \\begin{array}{c}\n",
    "                     \\mu_x \\\\ \\mu_y\n",
    "                  \\end{array}       \\right)\n",
    "    \\;, \\qquad\n",
    "  \\Sigma = \\left( \\begin{array}{cc}\n",
    "                    \\sigma_x^2 & \\rho\\sigma_x\\sigma_y \\\\\n",
    "                    \\rho\\sigma_x\\sigma_y & \\sigma_y^2\n",
    "                  \\end{array}\n",
    "           \\right)  \n",
    "$$\n",
    "\n",
    "The covariance matrix must be positive definite, which implies $\\color{red}{0\\lt\\rho^2\\lt 1}$.\n",
    "\n",
    "If take $\\mu_x = \\mu_y = 0$ and $\\sigma_x = \\sigma_y = \\sigma$ for clarity,\n",
    "so that\n",
    "\n",
    "$$\n",
    "  \\Sigma = \\sigma^2 \\left(\\begin{array}{cc}\n",
    "                       1 & \\rho \\\\\n",
    "                       \\rho & 1\n",
    "                       \\end{array}\n",
    "                    \\right)\n",
    "$$\n",
    "\n",
    "and\n",
    "\n",
    "$$\n",
    "  p(x,y\\mid \\sigma,\\rho) = \\frac{1}{2\\pi\\sigma^2} \n",
    "        \\exp\\left(-\\frac{x^2 + y^2 - 2\\rho x y }{2\\sigma^2\\sqrt{1-\\rho^2}}    \n",
    "          \\right)\n",
    "          \\;.\n",
    "$$\n",
    "\n",
    "It's clear that contours of equal probability have $x^2 + y^2 - 2\\rho xy = \\mbox{constant}$, so they are ellipses.  The value of $\\rho$ determines the eccentricity of the ellipse.\n",
    "If $\\rho=0$, $x$ and $y$ are independent (uncorrelated) and we have a circle.  As $\\rho$ approaches $+1$, $x$ and $y$ are increasingly correlated (toward straight line at $45^\\circ$), while for $\\rho$ approaching $-1$ they become increasingly anti-correlated (toward straight line at $-45^\\circ$).\n",
    "\n",
    "For reference, the Cholesky decomposition of $\\Sigma$ is\n",
    "\n",
    "$$\n",
    "  \\Sigma = \\sigma^2\\left( \\begin{array}{cc}\n",
    "                    1 & \\rho \\\\\n",
    "                    \\rho & 1\n",
    "                  \\end{array}\n",
    "           \\right)\n",
    "           =\n",
    "           \\sigma^2\\left( \\begin{array}{cc}\n",
    "                    1 & 0 \\\\\n",
    "                    \\rho &  \\sqrt{1-\\rho^2}\n",
    "                  \\end{array}\n",
    "           \\right)  \n",
    "           \\left( \\begin{array}{cc}\n",
    "                    1 & \\rho \\\\\n",
    "                    0 &  \\sqrt{1-\\rho^2}\n",
    "                  \\end{array}\n",
    "           \\right)  \n",
    "$$\n"
   ]
  },
  {
   "cell_type": "markdown",
   "metadata": {
    "slideshow": {
     "slide_type": "subslide"
    }
   },
   "source": [
    "Test two different ways of plotting a bivariate Gaussian."
   ]
  },
  {
   "cell_type": "code",
   "execution_count": null,
   "metadata": {},
   "outputs": [],
   "source": [
    "colors = ['r','g','b','m','k']\n",
    "markers = ['p','d','o','v','<']\n",
    "\n",
    "N = 5 # Number of samples\n",
    "mu = np.array([0,0])  # Mean of the 2D Gaussian\n",
    "sigma = np.array([[1, 0.5], [0.5, 1]]); # covariance of the Gaussian\n",
    "\n",
    "# Generate samples\n",
    "np.random.seed()\n",
    "samples = gen_Gaussian_samples(mu, sigma, N) \n",
    "\n",
    "fig = plt.figure(figsize=(12,8)); \n",
    "ax1 = plt.subplot(1, 2, 1, autoscale_on=True, aspect='equal')\n",
    "#set_limits(samples)\n",
    "plot_Gaussian_contours(samples[:,0], samples[:,1], mu, sigma)\n",
    "\n",
    "# Plot samples\n",
    "for i in np.arange(N):\n",
    "    ax1.plot(samples[i,0], samples[i,1], color=colors[i], \n",
    "             marker=markers[i], ms=10)\n",
    "ax1.set_title(f'{N} samples of a bivariate Gaussian.')\n",
    "\n",
    "ax2 = plt.subplot(1, 2, 2, autoscale_on=True)  #, aspect='equal')\n",
    "ax2.set_xticks([1,2])\n",
    "plot_sample_dimensions(samples=samples, colors=colors, markers=markers)\n",
    "\n",
    "fig.tight_layout()"
   ]
  },
  {
   "cell_type": "markdown",
   "metadata": {
    "slideshow": {
     "slide_type": "subslide"
    }
   },
   "source": [
    "Repeat as before, but now we'll plot many samples from two kinds of Gaussians: one with strongly correlated dimensions and one with weak correlations"
   ]
  },
  {
   "cell_type": "code",
   "execution_count": null,
   "metadata": {},
   "outputs": [],
   "source": [
    "# Plot with contours. Compare a correlated vs almost uncorrelated Gaussian\n",
    "\n",
    "sigmaUncor = np.array([[1, 0.02], [0.02, 1]]);\n",
    "sigmaCor = np.array([[1, 0.95], [0.95, 1]]);\n",
    "\n",
    "f = plt.figure(figsize=(15,15)); \n",
    "\n",
    "ax = plt.subplot(1, 2, 1); ax.set_aspect('equal')\n",
    "samplesUncor=gen_Gaussian_samples(mu, sigmaUncor)\n",
    "plot_Gaussian_contours(samplesUncor[:,0], samplesUncor[:,1], mu, sigmaUncor)\n",
    "gen_plot_Gaussian_samples(mu, sigmaUncor)\n",
    "ax.set_title('Weakly correlated Gaussian')\n",
    "\n",
    "ax=plt.subplot(1, 2, 2); ax.set_aspect('equal')\n",
    "samplesCor=gen_Gaussian_samples(mu,sigmaCor)\n",
    "plot_Gaussian_contours(samplesCor[:,0], samplesCor[:,1], mu, sigmaCor)\n",
    "gen_plot_Gaussian_samples(mu, sigmaCor)\n",
    "ax.set_title('Stongly correlated Gaussian');"
   ]
  },
  {
   "cell_type": "markdown",
   "metadata": {
    "slideshow": {
     "slide_type": "subslide"
    }
   },
   "source": [
    "But let's plot them as before dimension-wise...\n",
    "\n",
    "> Which one is which?"
   ]
  },
  {
   "cell_type": "code",
   "execution_count": null,
   "metadata": {
    "code_folding": [
     7
    ],
    "slideshow": {
     "slide_type": "subslide"
    }
   },
   "outputs": [],
   "source": [
    "f=plt.figure(figsize=(18,5)); \n",
    "perm = np.random.permutation(samplesUncor.shape[0])[0::14]\n",
    "\n",
    "ax1=plt.subplot(1, 2, 2); ax1.set_aspect('auto')\n",
    "plot_sample_dimensions(samplesUncor[perm,:])\n",
    "ax2=plt.subplot(1, 2, 1,sharey=ax1); ax2.set_aspect('auto')\n",
    "plot_sample_dimensions(samplesCor[perm,:])\n",
    "if False:\n",
    "    ax1.set_title('Weakly correlated');\n",
    "    ax2.set_title('Strongly correlated')\n",
    "for ax in [ax1,ax2]:\n",
    "    ax.set_xticks([1,2])\n",
    "plt.ylim([samplesUncor.min()-0.3, samplesUncor.max()+0.3]);"
   ]
  },
  {
   "cell_type": "markdown",
   "metadata": {
    "slideshow": {
     "slide_type": "subslide"
    }
   },
   "source": [
    "* The strongly correlated Gaussian gives more \"horizontal\" lines in the dimension-wise plot.\n",
    "\n",
    "* More importantly, by using the dimension-wise plot, we are able to plot Gaussians which have more than two dimensions. Below we plot N samples from a D=8-dimensional Gaussian. \n",
    "\n",
    "* Because I don't want to write down the full 8x8 covariance matrix, I define a \"random\" one through a mathematical procedure that is guaranteed to give me back a positive definite and symmetric matrix (i.e. a valid covariance). More on this later."
   ]
  },
  {
   "cell_type": "code",
   "execution_count": null,
   "metadata": {},
   "outputs": [],
   "source": [
    "N=5\n",
    "mu = np.array([0,0,0,0,0,0,0,0])\n",
    "D = mu.shape[0]\n",
    "\n",
    "# Generate random covariance matrix\n",
    "x_pts = np.sort(np.random.rand(D))[:,None]  \n",
    "tmp2 = x_pts**np.arange(5)\n",
    "sigma = 5*np.dot(tmp2, tmp2.T) + 0.005*np.eye(D)\n",
    "with np.printoptions(precision=2, suppress=True):\n",
    "    print('Covariance matrix:')\n",
    "    print(sigma)\n",
    "\n",
    "print('Eigenvalues should be all larger than zero:')\n",
    "print(np.linalg.eigvals(sigma))\n",
    "        \n",
    "# Now the samples are from a multivariate Gaussian with dimension D\n",
    "samples = gen_Gaussian_samples(mu, sigma, N)\n",
    "\n",
    "for i in np.arange(N):\n",
    "    plt.plot(x_pts, samples[i,:], '-o')\n",
    "\n",
    "plt.gca().set_xlim(0., 1.)\n",
    "plt.gca().set_title(f'{N} samples of a {D} dimensional Gaussian');"
   ]
  },
  {
   "cell_type": "markdown",
   "metadata": {},
   "source": [
    "So each sample has 8 values, which we associate with the 8 x points:"
   ]
  },
  {
   "cell_type": "code",
   "execution_count": null,
   "metadata": {},
   "outputs": [],
   "source": []
  },
  {
   "cell_type": "code",
   "execution_count": null,
   "metadata": {},
   "outputs": [],
   "source": [
    "print('x points: ', x_pts)"
   ]
  },
  {
   "cell_type": "markdown",
   "metadata": {},
   "source": [
    "Taking this even further, we can plot samples from a 200-dimensional Gaussian in the dimension-wise plot. "
   ]
  },
  {
   "cell_type": "code",
   "execution_count": null,
   "metadata": {},
   "outputs": [],
   "source": [
    "N=5\n",
    "D=200\n",
    "mu = np.zeros((D,1))[:,0]\n",
    "\n",
    "# Generate random covariance matrix\n",
    "x_pts = np.sort(np.random.rand(D))[:,None]\n",
    "tmp2 = x_pts**np.arange(5)\n",
    "sigma = 5*np.dot(tmp2,tmp2.T)+ 0.0005*np.eye(D)\n",
    "\n",
    "samples = gen_Gaussian_samples(mu,sigma,N)\n",
    "\n",
    "for i in np.arange(N):\n",
    "    plt.plot(x_pts, samples[i,:], '-')\n",
    "\n",
    "plt.gca().set_title(f'{N} samples of a {D} dimensional Gaussian');"
   ]
  },
  {
   "cell_type": "markdown",
   "metadata": {},
   "source": [
    "We see that each sample now starts looking like a \"smooth\" curve (notice that the random variables are highly correlated). Therefore, we now have a clear intuition as to why a GP can be seen as an *infinite dimensional multivariate Gaussian* which is used as a *prior over functions*, since one sample from a GP is a function."
   ]
  },
  {
   "cell_type": "markdown",
   "metadata": {},
   "source": [
    "### Covariance functions, aka kernels\n",
    "\n",
    "We'll see below that the covariance function is what encodes our assumption about the GP. By selecting a covariance function, we are making implicit assumptions about the shape of the function we wish to encode with the GP, for example how smooth it is.\n",
    "\n",
    "Even if the covariance function has a parametric form, combined with the GP it gives us a nonparametric model. In other words, the covariance function is specifying the general properties of the GP function we wish to encode, and not a specific parametric form for it.\n",
    "\n",
    "Here we define two very common covariance functions: The RBF (also known as Exponentiated Quadratic or Gaussian kernel) which is differentiable infinitely many times (hence, very smooth),\n",
    "\n",
    "$$\n",
    "k_{RBF}(\\mathbf{x}_{i},\\mathbf{x}_{j}) = \\sigma^2 \\exp \\left( -\\frac{1}{2\\ell^2} \\sum_{q=1}^Q (x_{i,q} - x_{j,q})^2\\right)\n",
    "$$\n",
    "\n",
    "where $Q$ denotes the dimensionality of the input space. Its parameters are: the *lengthscale* $\\ell$ and the variance $\\sigma^2$. \n",
    "\n",
    "The other covariance function is the Linear kernel:\n",
    "$$\n",
    "k_{lin}(\\mathbf{x}_{i},\\mathbf{x}_{j}) = \\sigma^2 \\mathbf{x}_{i}^T \\mathbf{x}_{j}\n",
    "$$\n",
    "\n"
   ]
  },
  {
   "cell_type": "markdown",
   "metadata": {},
   "source": [
    "Here are some examples with different \"kernels\" and different parameters that \n",
    "dictate those features (figure from J. Melendez):\n",
    "\n",
    "<img src=\"../../_images/gp_kernel_realizations.png\" width=\"600\" >\n"
   ]
  },
  {
   "cell_type": "markdown",
   "metadata": {
    "slideshow": {
     "slide_type": "subslide"
    }
   },
   "source": [
    "#### The RBF kernel (a.k.a Gaussian)"
   ]
  },
  {
   "cell_type": "code",
   "execution_count": null,
   "metadata": {},
   "outputs": [],
   "source": [
    "def cov_RBF(x, x2=None, theta=np.array([1,1])):        \n",
    "        \"\"\"\n",
    "         Compute the Euclidean distance between each row of X and X2, \n",
    "          or between each pair of rows of X if X2 is None and feed it \n",
    "          to the kernel.\n",
    "         The variance and lengthscale are taken to be unity if not passed. \n",
    "        \"\"\"\n",
    "        variance = theta[0]\n",
    "        lengthscale = theta[1]\n",
    "        if x2 is None:\n",
    "            xsq = np.sum(np.square(x),1)\n",
    "            r2 = -2.*np.dot(x,x.T) + (xsq[:,None] + xsq[None,:])\n",
    "            r = np.sqrt(r2) / lengthscale\n",
    "        else:\n",
    "            x1sq = np.sum(np.square(x),1)\n",
    "            x2sq = np.sum(np.square(x2),1)\n",
    "            r2 = -2.*np.dot(x, x2.T) + x1sq[:,None] + x2sq[None,:]\n",
    "            r = np.sqrt(r2) / lengthscale\n",
    "\n",
    "        return variance * np.exp(-0.5 * r**2)"
   ]
  },
  {
   "cell_type": "markdown",
   "metadata": {},
   "source": [
    "Given hyperparameters $\\theta$, we plot the resulting covariance matrix and samples from a GP with this covariance function."
   ]
  },
  {
   "cell_type": "code",
   "execution_count": null,
   "metadata": {},
   "outputs": [],
   "source": [
    "X = np.sort(np.random.rand(400, 1) * 6 , axis=0)\n",
    "\n",
    "ell_rbf = [0.005, 0.1, 1, 2, 5, 12]  # length scale for RBF\n",
    "K = len(ell_rbf)\n",
    "\n",
    "num_samples=5\n",
    "plt.figure(figsize=(25,25))\n",
    "j=1\n",
    "for i in range(K):\n",
    "    plt.subplot(K,2,j)\n",
    "    K_rbf = cov_RBF(X, X, theta=np.array([1, ell_rbf[i]]))\n",
    "    plt.imshow(K_rbf)\n",
    "    plt.colorbar()\n",
    "    plt.gca().set_title(rf'RBF Cov. Matrix ($\\ell={ell_rbf[i]}$)')\n",
    "    \n",
    "    plt.subplot(K, 2, j+1)\n",
    "    # Assume a GP with zero mean\n",
    "    mu=np.zeros((1,K_rbf.shape[0]))[0,:]\n",
    "    for s in range(num_samples):\n",
    "        # Jitter is a small noise addition to the diagonal elements \n",
    "        #  to ensure positive definiteness. Also called a nugget.\n",
    "        jitter = 1e-5*np.eye(K_rbf.shape[0])\n",
    "        sample = np.random.multivariate_normal(mean=mu, cov=K_rbf+jitter)\n",
    "        plt.plot(sample)\n",
    "    plt.gca().set_title(rf'GP Samples from RBF ($\\ell={ell_rbf[i]}$)')\n",
    "    j+=2\n",
    "    \n",
    "plt.tight_layout()"
   ]
  },
  {
   "cell_type": "markdown",
   "metadata": {
    "slideshow": {
     "slide_type": "slide"
    }
   },
   "source": [
    "## Example: GP models for regression\n",
    "### No-core shell model $\\hbar\\omega$ dependence"
   ]
  },
  {
   "cell_type": "code",
   "execution_count": null,
   "metadata": {},
   "outputs": [],
   "source": [
    "# import some NCSM data from\n",
    "# Phys. Rev. C 97, 034328 (2018)\n",
    "(E, Nmax, hw) = np.loadtxt('Li6E_NNLOopt_Nmax10.txt', unpack=True)"
   ]
  },
  {
   "cell_type": "code",
   "execution_count": null,
   "metadata": {},
   "outputs": [],
   "source": [
    "fig, ax = plt.subplots(nrows=1, ncols=1)\n",
    "ax.set_ylabel(r'$E$ (MeV)');\n",
    "ax.set_xlabel(r'$\\hbar\\omega$ (MeV)');\n",
    "plot_title = r'NCSM results for Li-6 energy with NNLOopt ' + \\\n",
    "             r'at $N_\\mathrm{max}=10$'\n",
    "ax.set_title(plot_title)\n",
    "ax.scatter(hw, E, s=10);"
   ]
  },
  {
   "cell_type": "code",
   "execution_count": null,
   "metadata": {
    "slideshow": {
     "slide_type": "subslide"
    }
   },
   "outputs": [],
   "source": [
    "# We will test our GP by training on every third data point and validate on the rest.\n",
    "# We will print the largest ratios (predict-true)/predict for the interpolate region.\n",
    "ratio_min = 1.\n",
    "ratio_max = 1.\n",
    "\n",
    "x = hw\n",
    "\n",
    "# Remove the mean and scale the data by its standard deviation.\n",
    "#  This defines the y values we will model with a GP.\n",
    "mE = np.mean(E)\n",
    "sE = np.std(E)\n",
    "y = (E - mE)/sE\n",
    "\n",
    "# Training data (xt, yt) is every 3rd point\n",
    "xt = x[::3, np.newaxis]\n",
    "yt = y[::3, np.newaxis]\n",
    "\n",
    "# Define the kernel and fit the hyperparameters\n",
    "kernel = GPy.kern.RBF(input_dim=1, variance=5., lengthscale=10.)\n",
    "m = GPy.models.GPRegression(xt, yt, kernel)\n",
    "m.optimize(messages=False)\n",
    "display(m)\n",
    "\n",
    "# Data to predict\n",
    "xp = x[:, np.newaxis]\n",
    "yp, vp = m.predict(xp)\n",
    "\n",
    "for i,yi in enumerate(yp):\n",
    "    ratio_min=min(ratio_min,np.abs((y[i]+mE)/(yi+mE)))\n",
    "    ratio_max=max(ratio_max,np.abs((y[i]+mE)/(yi+mE)))\n",
    "fig = m.plot(plot_density=False, figsize=(8,6))\n",
    "ax=plt.gca()\n",
    "ax.scatter(hw, (E-mE)/sE, s=20);\n",
    "ax.set(xlabel=r'$\\hbar\\omega$ (MeV)', ylabel=r'${e}$ (a.u.)')\n",
    "ax.set_title(r'GP versus NCSM (scaled energies)')\n",
    "print(f'Validation result: Ratio true/predict in [{ratio_min[0]:8.6f}, {ratio_max[0]:8.6f}]') "
   ]
  },
  {
   "cell_type": "code",
   "execution_count": null,
   "metadata": {},
   "outputs": [],
   "source": []
  },
  {
   "cell_type": "code",
   "execution_count": null,
   "metadata": {},
   "outputs": [],
   "source": []
  },
  {
   "cell_type": "code",
   "execution_count": null,
   "metadata": {},
   "outputs": [],
   "source": []
  }
 ],
 "metadata": {
  "hide_input": false,
  "kernelspec": {
   "display_name": "Python [conda env:8820-book-env]",
   "language": "python",
   "name": "conda-env-8820-book-env-py"
  },
  "language_info": {
   "codemirror_mode": {
    "name": "ipython",
    "version": 3
   },
   "file_extension": ".py",
   "mimetype": "text/x-python",
   "name": "python",
   "nbconvert_exporter": "python",
   "pygments_lexer": "ipython3",
   "version": "3.10.13"
  },
  "latex_envs": {
   "bibliofile": "biblio.bib",
   "cite_by": "apalike",
   "current_citInitial": 1,
   "eqLabelWithNumbers": true,
   "eqNumInitial": 0
  }
 },
 "nbformat": 4,
 "nbformat_minor": 4
}