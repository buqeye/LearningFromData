{
 "cells": [
  {
   "cell_type": "code",
   "execution_count": null,
   "metadata": {},
   "outputs": [],
   "source": [
    "### Sampling of 1d pdfs in Python\n",
    "\n",
    "Here we show how histogrammed samples become closer to the continuous pdf as the sample size increases."
   ]
  },
  {
   "cell_type": "code",
   "execution_count": null,
   "metadata": {},
   "outputs": [],
   "source": [
    "def plot_hist(ax, name, x_dist, dist, num_samples, num_bins):\n",
    "    \"\"\"Plot a pdf and a histogram of samples\"\"\"\n",
    "    samples = dist.rvs(size=num_samples)  # draw random samples from the pdf\n",
    "    # Make a histogram of the random samples\n",
    "    count, bins, ignored = ax.hist(samples, num_bins, density=True,\n",
    "                                     color='blue', alpha=0.7)\n",
    "    ax.plot(x_dist, dist.pdf(x_dist), linewidth=2, color='r') # true pdf\n",
    "    title_string = name + f'  samples = {num_samples:d}'\n",
    "    ax.set_title(title_string)\n",
    "    \n",
    "\n",
    "mu, sigma = 0, 1.0 # mean and standard deviation\n",
    "x_dist = np.linspace(-4, 4, 500)\n",
    "name = rf'normal $\\mu=${mu:1.1f}, $\\sigma=${sigma:1.1f}'\n",
    "fig = plt.figure(figsize=(15,5))\n",
    "num_bins = 50\n",
    "\n",
    "num_samples = 100\n",
    "norm_dist = stats.norm(mu, sigma)\n",
    "ax_1 = fig.add_subplot(1, 3, 1)\n",
    "plot_hist(ax_1, name, x_dist, norm_dist, num_samples, num_bins)\n",
    "\n",
    "num_samples = 1000\n",
    "norm_dist = stats.norm(mu, sigma)\n",
    "ax_2 = fig.add_subplot(1, 3, 2)\n",
    "plot_hist(ax_2, name, x_dist, norm_dist, num_samples, num_bins)\n",
    "\n",
    "num_samples = 10000\n",
    "norm_dist = stats.norm(mu, sigma)\n",
    "ax_3 = fig.add_subplot(1, 3, 3)\n",
    "plot_hist(ax_3, name, x_dist, norm_dist, num_samples, num_bins)\n"
   ]
  },
  {
   "cell_type": "code",
   "execution_count": null,
   "metadata": {},
   "outputs": [],
   "source": [
    "To do:\n",
    "*Find the mean of the random samples and compare to $\\mu=0$ for each sample size.* (You might add a statement to the `plot_hist` function to print the mean, using that `samples.mean()` (don't forget the ()'s) gives the mean of the distribution `samples`.)  *Conclusion?*"
   ]
  }
 ],
 "metadata": {
  "kernelspec": {
   "display_name": "Python 3",
   "language": "python",
   "name": "python3"
  },
  "language_info": {
   "codemirror_mode": {
    "name": "ipython",
    "version": 3
   },
   "file_extension": ".py",
   "mimetype": "text/x-python",
   "name": "python",
   "nbconvert_exporter": "python",
   "pygments_lexer": "ipython3",
   "version": "3.6.10"
  }
 },
 "nbformat": 4,
 "nbformat_minor": 4
}