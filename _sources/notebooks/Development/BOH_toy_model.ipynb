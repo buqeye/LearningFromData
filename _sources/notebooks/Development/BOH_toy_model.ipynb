{
 "cells": [
  {
   "cell_type": "markdown",
   "id": "a075ce66",
   "metadata": {},
   "source": [
    "# BOH toy problem\n",
    "\n",
    "Here we reproduce and extend the toy model problem from Brynjarsdóttir and O'Hagan, *Learning about physical parameters: the importance of model discrepancy*, [Inverse Problems 30 (2014) 114007]( https://iopscience.iop.org/article/10.1088/0266-5611/30/11/114007). "
   ]
  },
  {
   "cell_type": "code",
   "execution_count": 1,
   "id": "9d8a0027",
   "metadata": {},
   "outputs": [],
   "source": [
    "import numpy as np\n",
    "import matplotlib.pyplot as plt\n",
    "import matplotlib as mpl\n",
    "import matplotlib.cm as cm\n",
    "from matplotlib import animation \n",
    "\n",
    "import ipywidgets as widgets\n",
    "from IPython.display import display\n",
    "\n",
    "from scipy.stats import norm, t, gamma"
   ]
  },
  {
   "cell_type": "code",
   "execution_count": 2,
   "id": "cba1eb61",
   "metadata": {},
   "outputs": [],
   "source": [
    "# set up graphics defaults\n",
    "\n",
    "from graphs_rjf import setup_rc_params\n",
    "setup_rc_params(presentation=False, uselatex=False)  # Switch to True for larger fonts\n",
    "                           # Switch to True for LaTeX but SLOW\n",
    "\n",
    "mpl.rcParams['figure.constrained_layout.use'] = False\n"
   ]
  },
  {
   "cell_type": "markdown",
   "id": "86dbf0de",
   "metadata": {},
   "source": [
    "## Toy model"
   ]
  },
  {
   "cell_type": "code",
   "execution_count": 4,
   "id": "aabaefc9",
   "metadata": {},
   "outputs": [],
   "source": [
    "def eta_th(theta, x):\n",
    "    \"\"\"\n",
    "    Theoretical model (simulator)\n",
    "    \"\"\"\n",
    "    return theta * x\n",
    "\n",
    "\n",
    "def eta_true(theta, x, a=20):\n",
    "    \"\"\"\n",
    "    True model\n",
    "    \"\"\"\n",
    "    return theta * x / (1 + x / a)"
   ]
  },
  {
   "cell_type": "markdown",
   "id": "73ae4b5a",
   "metadata": {},
   "source": [
    "## Synthetic data sets"
   ]
  },
  {
   "cell_type": "code",
   "execution_count": null,
   "id": "cfcc5554",
   "metadata": {},
   "outputs": [],
   "source": []
  }
 ],
 "metadata": {
  "kernelspec": {
   "display_name": "Python 3 (ipykernel)",
   "language": "python",
   "name": "python3"
  },
  "language_info": {
   "codemirror_mode": {
    "name": "ipython",
    "version": 3
   },
   "file_extension": ".py",
   "mimetype": "text/x-python",
   "name": "python",
   "nbconvert_exporter": "python",
   "pygments_lexer": "ipython3",
   "version": "3.9.16"
  }
 },
 "nbformat": 4,
 "nbformat_minor": 5
}
